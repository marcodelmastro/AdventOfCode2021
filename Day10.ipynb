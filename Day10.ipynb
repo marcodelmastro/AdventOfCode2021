{
 "cells": [
  {
   "cell_type": "markdown",
   "id": "danish-usage",
   "metadata": {},
   "source": [
    "## Day 10\n",
    "\n",
    "https://adventofcode.com/2021/day/10"
   ]
  },
  {
   "cell_type": "code",
   "execution_count": 1,
   "id": "australian-comparison",
   "metadata": {},
   "outputs": [],
   "source": [
    "def readInput10(filename):\n",
    "    with open(filename) as f:\n",
    "        return [ l.strip(\"\\n\")  for l in f.readlines() ]\n",
    "\n",
    "lines0 = readInput10(\"data/day10test1.txt\")\n",
    "lines1 = readInput10(\"data/input10.txt\")"
   ]
  },
  {
   "cell_type": "markdown",
   "id": "median-apparel",
   "metadata": {},
   "source": [
    "### Part 1"
   ]
  },
  {
   "cell_type": "code",
   "execution_count": 2,
   "id": "elementary-favorite",
   "metadata": {},
   "outputs": [
    {
     "name": "stdout",
     "output_type": "stream",
     "text": [
      "Test 1: 26397\n",
      "Part 1: 464991\n"
     ]
    }
   ],
   "source": [
    "from collections import deque\n",
    "\n",
    "openp = [ \"(\", \"{\", \"[\", \"<\" ]\n",
    "\n",
    "close = {}\n",
    "close['('] = ')'\n",
    "close['{'] = '}'\n",
    "close['['] = ']'\n",
    "close['<'] = '>'\n",
    "\n",
    "value1 = {}\n",
    "value1[')'] = 3\n",
    "value1[']'] = 57\n",
    "value1['}'] = 1197\n",
    "value1['>'] = 25137\n",
    "\n",
    "def illegalChar(l):\n",
    "    opens = deque()\n",
    "    for p in l:\n",
    "        if p in openp:\n",
    "            opens.append(p)\n",
    "        else:\n",
    "            if p != close[opens.pop()]:\n",
    "                return p\n",
    "    return None\n",
    "\n",
    "def part1(lines):\n",
    "    score = 0\n",
    "    for l in lines:\n",
    "        p = illegalChar(l)\n",
    "        if p:\n",
    "            score += value1[p]\n",
    "    return score\n",
    "\n",
    "print(\"Test 1:\", part1(lines0))\n",
    "print(\"Part 1:\", part1(lines1))"
   ]
  },
  {
   "cell_type": "markdown",
   "id": "difficult-federation",
   "metadata": {},
   "source": [
    "### Part 2"
   ]
  },
  {
   "cell_type": "code",
   "execution_count": 3,
   "id": "theoretical-terrorist",
   "metadata": {},
   "outputs": [
    {
     "name": "stdout",
     "output_type": "stream",
     "text": [
      "Test 2: 288957\n",
      "Part 2: 3662008566\n"
     ]
    }
   ],
   "source": [
    "value2 = {}\n",
    "value2[')'] = 1\n",
    "value2[']'] = 2\n",
    "value2['}'] = 3\n",
    "value2['>'] = 4\n",
    "\n",
    "def autoComplete(l):\n",
    "    opens = deque()\n",
    "    for p in l:\n",
    "        if p in openp:\n",
    "            opens.append(p)\n",
    "        else:\n",
    "            opens.pop()\n",
    "    score = 0\n",
    "    closes = \"\"\n",
    "    while opens:\n",
    "        closes += close[opens.pop()]\n",
    "        score = score*5 + value2[closes[-1]]\n",
    "    return score\n",
    "\n",
    "def part2(lines):\n",
    "    scores = []\n",
    "    for l in lines:\n",
    "        if illegalChar(l): # skip corrupted lines\n",
    "            continue\n",
    "        scores.append(autoComplete(l))\n",
    "    return sorted(scores)[len(scores)//2]\n",
    "\n",
    "print(\"Test 2:\", part2(lines0))\n",
    "print(\"Part 2:\", part2(lines1))"
   ]
  },
  {
   "cell_type": "code",
   "execution_count": null,
   "id": "thousand-depth",
   "metadata": {},
   "outputs": [],
   "source": []
  }
 ],
 "metadata": {
  "kernelspec": {
   "display_name": "Python 3",
   "language": "python",
   "name": "python3"
  },
  "language_info": {
   "codemirror_mode": {
    "name": "ipython",
    "version": 3
   },
   "file_extension": ".py",
   "mimetype": "text/x-python",
   "name": "python",
   "nbconvert_exporter": "python",
   "pygments_lexer": "ipython3",
   "version": "3.9.9"
  }
 },
 "nbformat": 4,
 "nbformat_minor": 5
}
