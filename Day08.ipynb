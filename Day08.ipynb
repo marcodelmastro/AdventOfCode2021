{
 "cells": [
  {
   "cell_type": "markdown",
   "id": "bigger-repair",
   "metadata": {},
   "source": [
    "## Day 8\n",
    "\n",
    "https://adventofcode.com/2021/day/8"
   ]
  },
  {
   "cell_type": "code",
   "execution_count": 49,
   "id": "eleven-trick",
   "metadata": {},
   "outputs": [],
   "source": [
    "def readInput8(filename):\n",
    "    with open(filename) as f:\n",
    "        return [ [ p.split() for p in l.strip('\\n').split(\" | \") ] for l in f.readlines() ]\n",
    "\n",
    "i0 = readInput8(\"data/day08test01.txt\")\n",
    "i1 = readInput8(\"data/day08test02.txt\")\n",
    "i2 = readInput8(\"data/input08.txt\")"
   ]
  },
  {
   "cell_type": "markdown",
   "id": "banner-calibration",
   "metadata": {},
   "source": [
    "### Part 1\n",
    "Because the digits 1, 4, 7, and 8 each use a unique number of segments, you should be able to tell which combinations of signals correspond to those digits. Count only digits in the output values."
   ]
  },
  {
   "cell_type": "code",
   "execution_count": 50,
   "id": "plain-cincinnati",
   "metadata": {},
   "outputs": [
    {
     "name": "stdout",
     "output_type": "stream",
     "text": [
      "Test 1: 26\n",
      "Part 1: 512\n"
     ]
    }
   ],
   "source": [
    "from collections import Counter\n",
    "\n",
    "def countUnique(o):\n",
    "    # 1 = 2S ; 4 = 4S ; 7 = 3S ; 8 = 7S\n",
    "    c = Counter([ len(d) for d in o ])\n",
    "    return c[2]+c[4]+c[3]+c[7]\n",
    "\n",
    "def part1(i0):\n",
    "    return sum([ countUnique(o) for i,o in i0 ])\n",
    "\n",
    "print(\"Test 1:\",part1(i1))\n",
    "print(\"Part 1:\",part1(i2))"
   ]
  },
  {
   "cell_type": "markdown",
   "id": "silent-limit",
   "metadata": {},
   "source": [
    "### Part 2\n",
    "\n",
    "Within an entry, the same wire/segment connections are used (but you don't know what the connections actually are).\n",
    "\n",
    "Not trying to be smart, trying all wiring permutations for each line..."
   ]
  },
  {
   "cell_type": "code",
   "execution_count": 122,
   "id": "wrapped-addition",
   "metadata": {},
   "outputs": [
    {
     "name": "stdout",
     "output_type": "stream",
     "text": [
      "fdgacbe  cefdb    cefbgd   gcbe     8394\n",
      "fcgedb   cgb      dgebacf  gc       9781\n",
      "cg       cg       fdcagb   cbg      1197\n",
      "efabcd   cedba    gadfec   cb       9361\n",
      "gecf     egdcabf  bgf      bfgea    4873\n",
      "gebdcfa  ecba     ca       fadegcb  8418\n",
      "cefg     dcbef    fcge     gbcadfe  4548\n",
      "ed       bcgafe   cdgba    cbgef    1625\n",
      "gbdfcae  bgc      cg       cgb      8717\n",
      "fgae     cfgab    fg       bagce    4315\n"
     ]
    },
    {
     "data": {
      "text/plain": [
       "61229"
      ]
     },
     "execution_count": 122,
     "metadata": {},
     "output_type": "execute_result"
    }
   ],
   "source": [
    "from itertools import permutations\n",
    "\n",
    "display = {}\n",
    "display[\"abcefg\"]  = 0\n",
    "display[\"cf\"]      = 1\n",
    "display[\"acdeg\"]   = 2\n",
    "display[\"acdfg\"]   = 3\n",
    "display[\"bcdf\"]    = 4\n",
    "display[\"abdfg\"]   = 5\n",
    "display[\"abdefg\"]  = 6\n",
    "display[\"acf\"]     = 7\n",
    "display[\"abcdefg\"] = 8\n",
    "display[\"abcdfg\"]  = 9\n",
    "\n",
    "def checkCode(di,do):\n",
    "    return sum([1 if i in display.keys() else 0 for i in di ])==len(di) and \\\n",
    "           sum([1 if o in display.keys() else 0 for o in do ])==len(do)\n",
    "\n",
    "def part2(i0,verbose=True):\n",
    "    output = 0\n",
    "    origin = 'abcdefg'\n",
    "    for i,o in i0:\n",
    "        # find correct wiring for current line\n",
    "        di = \"\"\n",
    "        do = \"\"\n",
    "        for p in permutations(orig):\n",
    "            scramb = \"\".join(p)\n",
    "            # generate code for given permutation\n",
    "            code = {}\n",
    "            for ori,scr in zip(origin,scramb):\n",
    "                code[scr] = ori\n",
    "            # test code on line\n",
    "            di = [ \"\".join(sorted([ code[s] for s in ii ])) for ii in i ]\n",
    "            do = [ \"\".join(sorted([ code[s] for s in oo ])) for oo in o ]\n",
    "            if checkCode(di,do):\n",
    "                break\n",
    "        # output value\n",
    "        value = int(\"\".join(str(display[oo]) for oo in do))\n",
    "        if verbose: \n",
    "            for _o in o:\n",
    "                print(\"{:7s} \".format(_o),end=\" \")\n",
    "            print(value)\n",
    "        output += value\n",
    "    return output\n",
    "            \n",
    "part2(i1)"
   ]
  },
  {
   "cell_type": "code",
   "execution_count": 113,
   "id": "overhead-botswana",
   "metadata": {},
   "outputs": [
    {
     "data": {
      "text/plain": [
       "1091165"
      ]
     },
     "execution_count": 113,
     "metadata": {},
     "output_type": "execute_result"
    }
   ],
   "source": [
    "part2(i2,False)"
   ]
  },
  {
   "cell_type": "code",
   "execution_count": null,
   "id": "nonprofit-decline",
   "metadata": {},
   "outputs": [],
   "source": []
  }
 ],
 "metadata": {
  "kernelspec": {
   "display_name": "Python 3",
   "language": "python",
   "name": "python3"
  },
  "language_info": {
   "codemirror_mode": {
    "name": "ipython",
    "version": 3
   },
   "file_extension": ".py",
   "mimetype": "text/x-python",
   "name": "python",
   "nbconvert_exporter": "python",
   "pygments_lexer": "ipython3",
   "version": "3.9.9"
  }
 },
 "nbformat": 4,
 "nbformat_minor": 5
}
