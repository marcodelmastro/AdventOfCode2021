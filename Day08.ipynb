{
 "cells": [
  {
   "cell_type": "markdown",
   "id": "bigger-repair",
   "metadata": {},
   "source": [
    "## Day 8\n",
    "\n",
    "https://adventofcode.com/2021/day/8\n"
   ]
  },
  {
   "cell_type": "code",
   "execution_count": 1,
   "id": "eleven-trick",
   "metadata": {},
   "outputs": [],
   "source": [
    "def readInput8(filename):\n",
    "    with open(filename) as f:\n",
    "        return [ [ p.split() for p in l.strip('\\n').split(\" | \") ] for l in f.readlines() ]\n",
    "\n",
    "i0 = readInput8(\"data/day08test01.txt\")\n",
    "i1 = readInput8(\"data/day08test02.txt\")\n",
    "i2 = readInput8(\"data/input08.txt\")"
   ]
  },
  {
   "cell_type": "markdown",
   "id": "banner-calibration",
   "metadata": {},
   "source": [
    "### Part 1\n",
    "Because the digits 1, 4, 7, and 8 each use a unique number of segments, you should be able to tell which combinations of signals correspond to those digits. Count only digits in the output values."
   ]
  },
  {
   "cell_type": "code",
   "execution_count": 2,
   "id": "plain-cincinnati",
   "metadata": {},
   "outputs": [
    {
     "name": "stdout",
     "output_type": "stream",
     "text": [
      "Test 1: 26\n",
      "Part 1: 512\n"
     ]
    }
   ],
   "source": [
    "from collections import Counter\n",
    "\n",
    "def countUnique(o):\n",
    "    # 1 = 2S ; 4 = 4S ; 7 = 3S ; 8 = 7S\n",
    "    c = Counter([ len(d) for d in o ])\n",
    "    return c[2]+c[4]+c[3]+c[7]\n",
    "\n",
    "def part1(i0):\n",
    "    return sum([ countUnique(o) for i,o in i0 ])\n",
    "\n",
    "print(\"Test 1:\",part1(i1))\n",
    "print(\"Part 1:\",part1(i2))"
   ]
  },
  {
   "cell_type": "markdown",
   "id": "silent-limit",
   "metadata": {},
   "source": [
    "### Part 2 brute force\n",
    "\n",
    "Not trying to be smart, probing all wiring permutations for each line..."
   ]
  },
  {
   "cell_type": "code",
   "execution_count": 7,
   "id": "wrapped-addition",
   "metadata": {},
   "outputs": [],
   "source": [
    "from itertools import permutations\n",
    "\n",
    "display = {}\n",
    "display[\"abcefg\"]  = 0\n",
    "display[\"cf\"]      = 1\n",
    "display[\"acdeg\"]   = 2\n",
    "display[\"acdfg\"]   = 3\n",
    "display[\"bcdf\"]    = 4\n",
    "display[\"abdfg\"]   = 5\n",
    "display[\"abdefg\"]  = 6\n",
    "display[\"acf\"]     = 7\n",
    "display[\"abcdefg\"] = 8\n",
    "display[\"abcdfg\"]  = 9\n",
    "\n",
    "def checkWiring(di):\n",
    "    return sum([1 if i in display.keys() else 0 for i in di ])==len(di)\n",
    "\n",
    "def part2BruteForce(i0,verbose=True):\n",
    "    output = 0\n",
    "    origin = 'abcdefg'\n",
    "    do = \"\"\n",
    "    for i,o in i0:\n",
    "        # find correct wiring for current line\n",
    "        for p in permutations(origin):\n",
    "            scramb = \"\".join(p)\n",
    "            # generate wiring for given permutation\n",
    "            wiring = {}\n",
    "            for ori,scr in zip(origin,scramb):\n",
    "                wiring[scr] = ori\n",
    "            # test wiring on line\n",
    "            di = [ \"\".join(sorted([ wiring[s] for s in ii ])) for ii in i ]\n",
    "            do = [ \"\".join(sorted([ wiring[s] for s in oo ])) for oo in o ]\n",
    "            dd = list(dict.fromkeys(di+do)) # remove duplicates\n",
    "            if checkWiring(dd): break\n",
    "        # output value\n",
    "        value = int(\"\".join(str(display[oo]) for oo in do))\n",
    "        if verbose: \n",
    "            for _o in o:\n",
    "                print(\"{:7s} \".format(_o),end=\" \")\n",
    "            print(value)\n",
    "        output += value\n",
    "    return output"
   ]
  },
  {
   "cell_type": "code",
   "execution_count": 8,
   "id": "southeast-finish",
   "metadata": {},
   "outputs": [
    {
     "name": "stdout",
     "output_type": "stream",
     "text": [
      "cdfeb    fcadb    cdfeb    cdbaf    5353\n"
     ]
    },
    {
     "data": {
      "text/plain": [
       "5353"
      ]
     },
     "execution_count": 8,
     "metadata": {},
     "output_type": "execute_result"
    }
   ],
   "source": [
    "part2BruteForce(i0)"
   ]
  },
  {
   "cell_type": "code",
   "execution_count": 9,
   "id": "processed-pitch",
   "metadata": {},
   "outputs": [
    {
     "name": "stdout",
     "output_type": "stream",
     "text": [
      "fdgacbe  cefdb    cefbgd   gcbe     8394\n",
      "fcgedb   cgb      dgebacf  gc       9781\n",
      "cg       cg       fdcagb   cbg      1197\n",
      "efabcd   cedba    gadfec   cb       9361\n",
      "gecf     egdcabf  bgf      bfgea    4873\n",
      "gebdcfa  ecba     ca       fadegcb  8418\n",
      "cefg     dcbef    fcge     gbcadfe  4548\n",
      "ed       bcgafe   cdgba    cbgef    1625\n",
      "gbdfcae  bgc      cg       cgb      8717\n",
      "fgae     cfgab    fg       bagce    4315\n"
     ]
    },
    {
     "data": {
      "text/plain": [
       "61229"
      ]
     },
     "execution_count": 9,
     "metadata": {},
     "output_type": "execute_result"
    }
   ],
   "source": [
    "part2BruteForce(i1)"
   ]
  },
  {
   "cell_type": "code",
   "execution_count": 10,
   "id": "overhead-botswana",
   "metadata": {},
   "outputs": [
    {
     "data": {
      "text/plain": [
       "1091165"
      ]
     },
     "execution_count": 10,
     "metadata": {},
     "output_type": "execute_result"
    }
   ],
   "source": [
    "part2BruteForce(i2,False)"
   ]
  },
  {
   "cell_type": "markdown",
   "id": "respected-concord",
   "metadata": {},
   "source": [
    "### Part 2 clever search\n",
    "\n",
    "I can actually use the univoque number of segments associated to certain numbers (1, 4, 7) to dramatically reduce the search space!"
   ]
  },
  {
   "cell_type": "code",
   "execution_count": 14,
   "id": "sealed-canberra",
   "metadata": {},
   "outputs": [],
   "source": [
    "def checkWiring(di):\n",
    "    return sum([1 if i in display.keys() else 0 for i in di ])==len(di)\n",
    "\n",
    "def part2SearchFast(i0,verbose=True):\n",
    "    output = 0\n",
    "    do = \"\"\n",
    "    for i,o in i0:\n",
    "        foundWiring = False\n",
    "        # remove duplicates\n",
    "        io = list(dict.fromkeys(i+o))\n",
    "        # find unique segments\n",
    "        io_len = [ len(s) for s in io]\n",
    "        s1 = io[io_len.index(2)]\n",
    "        s7 = \"\".join([c for c in io[io_len.index(3)] if c not in s1 ]) # segment of 7 not in common with 1's\n",
    "        s4 = \"\".join([c for c in io[io_len.index(4)] if c not in s1 ]) # segment of 4 not in common with 1's\n",
    "        for p1 in permutations(s1): # permutations for 1 segments (to be associated to 'cf')\n",
    "            w1 = {}\n",
    "            for ori,scr in zip('cf',p1):\n",
    "                w1[scr] = ori\n",
    "            # add permutations of unique 4 segments (to be associated to 'bd')\n",
    "            for p4 in permutations(s4): \n",
    "                w4 = w1.copy()\n",
    "                for ori,scr in zip('bd',p4):\n",
    "                    w4[scr] = ori\n",
    "                # add unique 7 segment (to be associated to 'a')\n",
    "                w4[s7] = 'a'      \n",
    "                # add permutations of remaining segments (to be associated to 'eg')\n",
    "                slast = ''.join([ c for c in 'abcdefg' if c not in w4.keys() ])                \n",
    "                for p in permutations(slast):\n",
    "                    wiring = w4.copy()\n",
    "                    for ori,scr in zip('eg',p):\n",
    "                        wiring[scr] = ori\n",
    "                    # test wiring on line\n",
    "                    di = [ \"\".join(sorted([ wiring[s] for s in ii ])) for ii in i ]\n",
    "                    do = [ \"\".join(sorted([ wiring[s] for s in oo ])) for oo in o ]\n",
    "                    dd = list(dict.fromkeys(di+do)) # remove duplicates\n",
    "                    if checkWiring(dd):\n",
    "                        foundWiring = True\n",
    "                        break\n",
    "                if foundWiring: break\n",
    "            if foundWiring: break      \n",
    "        if foundWiring:\n",
    "            # output value\n",
    "            value = int(\"\".join(str(display[oo]) for oo in do))\n",
    "            if verbose: \n",
    "                for _o in o:\n",
    "                    print(\"{:7s} \".format(_o),end=\" \")\n",
    "                print(value)\n",
    "            output += value\n",
    "        else:\n",
    "            return -1\n",
    "    return output"
   ]
  },
  {
   "cell_type": "code",
   "execution_count": 15,
   "id": "joint-thriller",
   "metadata": {},
   "outputs": [
    {
     "name": "stdout",
     "output_type": "stream",
     "text": [
      "cdfeb    fcadb    cdfeb    cdbaf    5353\n"
     ]
    },
    {
     "data": {
      "text/plain": [
       "5353"
      ]
     },
     "execution_count": 15,
     "metadata": {},
     "output_type": "execute_result"
    }
   ],
   "source": [
    "part2SearchFast(i0)"
   ]
  },
  {
   "cell_type": "code",
   "execution_count": 16,
   "id": "coral-supplement",
   "metadata": {},
   "outputs": [
    {
     "name": "stdout",
     "output_type": "stream",
     "text": [
      "fdgacbe  cefdb    cefbgd   gcbe     8394\n",
      "fcgedb   cgb      dgebacf  gc       9781\n",
      "cg       cg       fdcagb   cbg      1197\n",
      "efabcd   cedba    gadfec   cb       9361\n",
      "gecf     egdcabf  bgf      bfgea    4873\n",
      "gebdcfa  ecba     ca       fadegcb  8418\n",
      "cefg     dcbef    fcge     gbcadfe  4548\n",
      "ed       bcgafe   cdgba    cbgef    1625\n",
      "gbdfcae  bgc      cg       cgb      8717\n",
      "fgae     cfgab    fg       bagce    4315\n"
     ]
    },
    {
     "data": {
      "text/plain": [
       "61229"
      ]
     },
     "execution_count": 16,
     "metadata": {},
     "output_type": "execute_result"
    }
   ],
   "source": [
    "part2SearchFast(i1)"
   ]
  },
  {
   "cell_type": "code",
   "execution_count": 17,
   "id": "domestic-savage",
   "metadata": {},
   "outputs": [
    {
     "data": {
      "text/plain": [
       "1091165"
      ]
     },
     "execution_count": 17,
     "metadata": {},
     "output_type": "execute_result"
    }
   ],
   "source": [
    "part2SearchFast(i2,False)"
   ]
  },
  {
   "cell_type": "markdown",
   "id": "interpreted-challenge",
   "metadata": {},
   "source": [
    "### Part 2 procedural 1: finding the wiring\n",
    "\n",
    "The problem can actually be solved with no search but in a procedural way, as a Sudoku puzzle!"
   ]
  },
  {
   "cell_type": "code",
   "execution_count": 18,
   "id": "instructional-feeding",
   "metadata": {},
   "outputs": [],
   "source": [
    "def findWiring(i,o):\n",
    "    wiring = {}\n",
    "    io = sorted(list(dict.fromkeys([ \"\".join(sorted(s)) for s in i+o ])),key=len)\n",
    "    io_len = [ len(s) for s in io ]\n",
    "    s8 = \"abcdefg\"\n",
    "    s1 = io[io_len.index(2)] # cf\n",
    "    s7 = io[io_len.index(3)] # acf\n",
    "    s4 = io[io_len.index(4)] # bcdf\n",
    "    s235 = [ s for s in io if len(s)==5 ]\n",
    "    s069 = [ s for s in io if len(s)==6 ]\n",
    "    a = \"\".join([ s for s in s7 if s not in s1 ])\n",
    "    wiring[a] = 'a'\n",
    "    bd = \"\".join([ s for s in s4 if s not in s1 ])\n",
    "    s5 = \"\" # abdfg\n",
    "    for n in s235:\n",
    "        if sum([n.count(m) for m in bd])==2:\n",
    "            s5 = n\n",
    "            break\n",
    "    f = \"\".join([ s for s in s5 if s in s1 ]) \n",
    "    wiring[f] = 'f'\n",
    "    c = \"\".join([ s for s in s1 if s != f ]) \n",
    "    wiring[c] = 'c'\n",
    "    ag = \"\".join([ s for s in s5 if s not in s4 ])\n",
    "    g = \"\".join([ s for s in ag if s != a ])\n",
    "    wiring[g] = 'g'\n",
    "    e = \"\".join([ s for s in s8 if s not in s4 and s!=a and s!=g])\n",
    "    wiring[e] = 'e'\n",
    "    cde = \"\".join([ s for s in s069[0] if s not in s069[1] ]+[ s for s in s069[1] if s not in s069[2] ]+[ s for s in s069[2] if s not in s069[0] ])\n",
    "    d = \"\".join([ s for s in cde if s!=c and s!=e ])\n",
    "    wiring[d] = 'd'\n",
    "    b = \"\".join([ s for s in s8 if s not in wiring.keys() ])\n",
    "    wiring[b] = 'b'\n",
    "    return wiring\n",
    "\n",
    "def part2ProceduralWiring(i0,verbose=True):\n",
    "    output = 0\n",
    "    for i,o in i0:\n",
    "        wiring = findWiring(i,o)\n",
    "        do = [ \"\".join(sorted([ wiring[s] for s in oo ])) for oo in o ]\n",
    "        value = int(\"\".join(str(display[oo]) for oo in do))\n",
    "        if verbose:\n",
    "            for _o in o:\n",
    "                print(\"{:7s} \".format(_o),end=\" \")\n",
    "            print(value)\n",
    "        output += value\n",
    "    return output"
   ]
  },
  {
   "cell_type": "code",
   "execution_count": 19,
   "id": "future-forwarding",
   "metadata": {},
   "outputs": [
    {
     "name": "stdout",
     "output_type": "stream",
     "text": [
      "cdfeb    fcadb    cdfeb    cdbaf    5353\n"
     ]
    },
    {
     "data": {
      "text/plain": [
       "5353"
      ]
     },
     "execution_count": 19,
     "metadata": {},
     "output_type": "execute_result"
    }
   ],
   "source": [
    "part2ProceduralWiring(i0)"
   ]
  },
  {
   "cell_type": "code",
   "execution_count": 20,
   "id": "broad-summary",
   "metadata": {},
   "outputs": [
    {
     "name": "stdout",
     "output_type": "stream",
     "text": [
      "fdgacbe  cefdb    cefbgd   gcbe     8394\n",
      "fcgedb   cgb      dgebacf  gc       9781\n",
      "cg       cg       fdcagb   cbg      1197\n",
      "efabcd   cedba    gadfec   cb       9361\n",
      "gecf     egdcabf  bgf      bfgea    4873\n",
      "gebdcfa  ecba     ca       fadegcb  8418\n",
      "cefg     dcbef    fcge     gbcadfe  4548\n",
      "ed       bcgafe   cdgba    cbgef    1625\n",
      "gbdfcae  bgc      cg       cgb      8717\n",
      "fgae     cfgab    fg       bagce    4315\n"
     ]
    },
    {
     "data": {
      "text/plain": [
       "61229"
      ]
     },
     "execution_count": 20,
     "metadata": {},
     "output_type": "execute_result"
    }
   ],
   "source": [
    "part2ProceduralWiring(i1)"
   ]
  },
  {
   "cell_type": "code",
   "execution_count": 21,
   "id": "manual-baghdad",
   "metadata": {},
   "outputs": [
    {
     "data": {
      "text/plain": [
       "1091165"
      ]
     },
     "execution_count": 21,
     "metadata": {},
     "output_type": "execute_result"
    }
   ],
   "source": [
    "part2ProceduralWiring(i2,False)"
   ]
  },
  {
   "cell_type": "markdown",
   "id": "promotional-building",
   "metadata": {},
   "source": [
    "### Part 2 procedural 2: directly finding the number mapping"
   ]
  },
  {
   "cell_type": "code",
   "execution_count": 80,
   "id": "british-orlando",
   "metadata": {},
   "outputs": [],
   "source": [
    "def part2ProceduralNumbers(i0,verbose=True):\n",
    "    output = 0\n",
    "    \n",
    "    for i,o in i0:\n",
    "        io = sorted(list(dict.fromkeys([ \"\".join(sorted(s)) for s in i+o ])),key=len)\n",
    "        io_len = [ len(s) for s in io ]\n",
    "        s1 = set(io[io_len.index(2)])\n",
    "        s7 = set(io[io_len.index(3)])\n",
    "        s4 = set(io[io_len.index(4)])\n",
    "        s8 = set(io[io_len.index(7)])\n",
    "        s069 = [ set(s) for s in io if len(s)==6 ]\n",
    "        s9 = [ s for s in s069 if s4<s ][0]\n",
    "        s0 = [ s for s in s069 if s1<s and s!=s9 ][0]\n",
    "        s6 = [ s for s in s069 if s!=s0 and s!=s9][0]\n",
    "        s235 = [ set(s) for s in io if len(s)==5 ]\n",
    "        s3 = [ s for s in s235 if s1<s ][0]\n",
    "        s5 = [ s for s in s235 if s<s6 ][0]\n",
    "        s2 = [ s for s in s235 if s!=s3 and s!=s5 ][0]\n",
    "\n",
    "        mapping = {}\n",
    "        mapping[\"\".join(sorted(s0))] = 0\n",
    "        mapping[\"\".join(sorted(s1))] = 1\n",
    "        mapping[\"\".join(sorted(s2))] = 2\n",
    "        mapping[\"\".join(sorted(s3))] = 3\n",
    "        mapping[\"\".join(sorted(s4))] = 4\n",
    "        mapping[\"\".join(sorted(s5))] = 5\n",
    "        mapping[\"\".join(sorted(s6))] = 6\n",
    "        mapping[\"\".join(sorted(s7))] = 7\n",
    "        mapping[\"\".join(sorted(s8))] = 8\n",
    "        mapping[\"\".join(sorted(s9))] = 9\n",
    "\n",
    "        do = [ mapping[ \"\".join(sorted(oo)) ] for oo in o ]\n",
    "        value = int(\"\".join(str(oo) for oo in do))\n",
    "        if verbose:\n",
    "            for _o in o:\n",
    "                print(\"{:7s} \".format(_o),end=\" \")\n",
    "            print(value)\n",
    "        output += value\n",
    "    \n",
    "    return output"
   ]
  },
  {
   "cell_type": "code",
   "execution_count": 81,
   "id": "monthly-advisory",
   "metadata": {},
   "outputs": [
    {
     "name": "stdout",
     "output_type": "stream",
     "text": [
      "cdfeb    fcadb    cdfeb    cdbaf    5353\n"
     ]
    },
    {
     "data": {
      "text/plain": [
       "5353"
      ]
     },
     "execution_count": 81,
     "metadata": {},
     "output_type": "execute_result"
    }
   ],
   "source": [
    "part2ProceduralNumbers(i0)"
   ]
  },
  {
   "cell_type": "code",
   "execution_count": 82,
   "id": "accessory-mainstream",
   "metadata": {},
   "outputs": [
    {
     "name": "stdout",
     "output_type": "stream",
     "text": [
      "fdgacbe  cefdb    cefbgd   gcbe     8394\n",
      "fcgedb   cgb      dgebacf  gc       9781\n",
      "cg       cg       fdcagb   cbg      1197\n",
      "efabcd   cedba    gadfec   cb       9361\n",
      "gecf     egdcabf  bgf      bfgea    4873\n",
      "gebdcfa  ecba     ca       fadegcb  8418\n",
      "cefg     dcbef    fcge     gbcadfe  4548\n",
      "ed       bcgafe   cdgba    cbgef    1625\n",
      "gbdfcae  bgc      cg       cgb      8717\n",
      "fgae     cfgab    fg       bagce    4315\n"
     ]
    },
    {
     "data": {
      "text/plain": [
       "61229"
      ]
     },
     "execution_count": 82,
     "metadata": {},
     "output_type": "execute_result"
    }
   ],
   "source": [
    "part2ProceduralNumbers(i1)"
   ]
  },
  {
   "cell_type": "code",
   "execution_count": 84,
   "id": "conscious-frederick",
   "metadata": {},
   "outputs": [
    {
     "data": {
      "text/plain": [
       "1091165"
      ]
     },
     "execution_count": 84,
     "metadata": {},
     "output_type": "execute_result"
    }
   ],
   "source": [
    "part2ProceduralNumbers(i2,False)"
   ]
  },
  {
   "cell_type": "code",
   "execution_count": null,
   "id": "recovered-uruguay",
   "metadata": {},
   "outputs": [],
   "source": []
  }
 ],
 "metadata": {
  "kernelspec": {
   "display_name": "Python 3",
   "language": "python",
   "name": "python3"
  },
  "language_info": {
   "codemirror_mode": {
    "name": "ipython",
    "version": 3
   },
   "file_extension": ".py",
   "mimetype": "text/x-python",
   "name": "python",
   "nbconvert_exporter": "python",
   "pygments_lexer": "ipython3",
   "version": "3.9.9"
  }
 },
 "nbformat": 4,
 "nbformat_minor": 5
}
