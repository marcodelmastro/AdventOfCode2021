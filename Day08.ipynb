{
 "cells": [
  {
   "cell_type": "markdown",
   "id": "bigger-repair",
   "metadata": {},
   "source": [
    "## Day 8\n",
    "\n",
    "https://adventofcode.com/2021/day/8"
   ]
  },
  {
   "cell_type": "code",
   "execution_count": 1,
   "id": "eleven-trick",
   "metadata": {},
   "outputs": [],
   "source": [
    "def readInput8(filename):\n",
    "    with open(filename) as f:\n",
    "        return [ [ p.split() for p in l.strip('\\n').split(\" | \") ] for l in f.readlines() ]\n",
    "\n",
    "i0 = readInput8(\"data/day08test01.txt\")\n",
    "i1 = readInput8(\"data/day08test02.txt\")\n",
    "i2 = readInput8(\"data/input08.txt\")"
   ]
  },
  {
   "cell_type": "markdown",
   "id": "banner-calibration",
   "metadata": {},
   "source": [
    "### Part 1\n",
    "Because the digits 1, 4, 7, and 8 each use a unique number of segments, you should be able to tell which combinations of signals correspond to those digits. Count only digits in the output values."
   ]
  },
  {
   "cell_type": "code",
   "execution_count": 2,
   "id": "plain-cincinnati",
   "metadata": {},
   "outputs": [
    {
     "name": "stdout",
     "output_type": "stream",
     "text": [
      "Test 1: 26\n",
      "Part 1: 512\n"
     ]
    }
   ],
   "source": [
    "from collections import Counter\n",
    "\n",
    "def countUnique(o):\n",
    "    # 1 = 2S ; 4 = 4S ; 7 = 3S ; 8 = 7S\n",
    "    c = Counter([ len(d) for d in o ])\n",
    "    return c[2]+c[4]+c[3]+c[7]\n",
    "\n",
    "def part1(i0):\n",
    "    return sum([ countUnique(o) for i,o in i0 ])\n",
    "\n",
    "print(\"Test 1:\",part1(i1))\n",
    "print(\"Part 1:\",part1(i2))"
   ]
  },
  {
   "cell_type": "markdown",
   "id": "silent-limit",
   "metadata": {},
   "source": [
    "### Part 2 brute force\n",
    "\n",
    "Not trying to be smart, probing all wiring permutations for each line."
   ]
  },
  {
   "cell_type": "code",
   "execution_count": 55,
   "id": "wrapped-addition",
   "metadata": {},
   "outputs": [],
   "source": [
    "from itertools import permutations\n",
    "\n",
    "display = {}\n",
    "display[\"abcefg\"]  = 0\n",
    "display[\"cf\"]      = 1\n",
    "display[\"acdeg\"]   = 2\n",
    "display[\"acdfg\"]   = 3\n",
    "display[\"bcdf\"]    = 4\n",
    "display[\"abdfg\"]   = 5\n",
    "display[\"abdefg\"]  = 6\n",
    "display[\"acf\"]     = 7\n",
    "display[\"abcdefg\"] = 8\n",
    "display[\"abcdfg\"]  = 9\n",
    "\n",
    "def checkWiring(di):\n",
    "    return sum([1 if i in display.keys() else 0 for i in di ])==len(di)\n",
    "\n",
    "def part2(i0,verbose=True):\n",
    "    output = 0\n",
    "    origin = 'abcdefg'\n",
    "    do = \"\"\n",
    "    for i,o in i0:\n",
    "        # find correct wiring for current line\n",
    "        for p in permutations(origin):\n",
    "            scramb = \"\".join(p)\n",
    "            # generate wiring for given permutation\n",
    "            wiring = {}\n",
    "            for ori,scr in zip(origin,scramb):\n",
    "                wiring[scr] = ori\n",
    "            # test wiring on line\n",
    "            di = [ \"\".join(sorted([ wiring[s] for s in ii ])) for ii in i ]\n",
    "            do = [ \"\".join(sorted([ wiring[s] for s in oo ])) for oo in o ]\n",
    "            dd = list(dict.fromkeys(di+do)) # remove duplicates\n",
    "            if checkWiring(dd): break\n",
    "        # output value\n",
    "        value = int(\"\".join(str(display[oo]) for oo in do))\n",
    "        if verbose: \n",
    "            for _o in o:\n",
    "                print(\"{:7s} \".format(_o),end=\" \")\n",
    "            print(value)\n",
    "        output += value\n",
    "    return output"
   ]
  },
  {
   "cell_type": "code",
   "execution_count": 56,
   "id": "southeast-finish",
   "metadata": {},
   "outputs": [
    {
     "name": "stdout",
     "output_type": "stream",
     "text": [
      "cdfeb    fcadb    cdfeb    cdbaf    5353\n"
     ]
    },
    {
     "data": {
      "text/plain": [
       "5353"
      ]
     },
     "execution_count": 56,
     "metadata": {},
     "output_type": "execute_result"
    }
   ],
   "source": [
    "part2(i0)"
   ]
  },
  {
   "cell_type": "code",
   "execution_count": 57,
   "id": "processed-pitch",
   "metadata": {},
   "outputs": [
    {
     "name": "stdout",
     "output_type": "stream",
     "text": [
      "fdgacbe  cefdb    cefbgd   gcbe     8394\n",
      "fcgedb   cgb      dgebacf  gc       9781\n",
      "cg       cg       fdcagb   cbg      1197\n",
      "efabcd   cedba    gadfec   cb       9361\n",
      "gecf     egdcabf  bgf      bfgea    4873\n",
      "gebdcfa  ecba     ca       fadegcb  8418\n",
      "cefg     dcbef    fcge     gbcadfe  4548\n",
      "ed       bcgafe   cdgba    cbgef    1625\n",
      "gbdfcae  bgc      cg       cgb      8717\n",
      "fgae     cfgab    fg       bagce    4315\n"
     ]
    },
    {
     "data": {
      "text/plain": [
       "61229"
      ]
     },
     "execution_count": 57,
     "metadata": {},
     "output_type": "execute_result"
    }
   ],
   "source": [
    "part2(i1)"
   ]
  },
  {
   "cell_type": "code",
   "execution_count": 58,
   "id": "overhead-botswana",
   "metadata": {},
   "outputs": [
    {
     "data": {
      "text/plain": [
       "1091165"
      ]
     },
     "execution_count": 58,
     "metadata": {},
     "output_type": "execute_result"
    }
   ],
   "source": [
    "part2(i2,False)"
   ]
  },
  {
   "cell_type": "markdown",
   "id": "respected-concord",
   "metadata": {},
   "source": [
    "### Part 2 clever\n",
    "\n",
    "I can use univoque correspondence of segments of unique lenghts (corresponding to 1, 4, 7 and 8) to reduce the search space, and use them to initialize the decoding dictionary"
   ]
  },
  {
   "cell_type": "code",
   "execution_count": 60,
   "id": "sealed-canberra",
   "metadata": {},
   "outputs": [],
   "source": [
    "def checkWiring(di):\n",
    "    return sum([1 if i in display.keys() else 0 for i in di ])==len(di)\n",
    "\n",
    "def part2fast(i0,verbose=True):\n",
    "    output = 0\n",
    "    origin = 'abcdefg'\n",
    "    do = \"\"\n",
    "    for i,o in i0:\n",
    "        foundWiring = False\n",
    "        # remove duplicates\n",
    "        io = list(dict.fromkeys(i+o))\n",
    "        # find unique segments\n",
    "        io_len = [ len(s) for s in io]\n",
    "        s1 = io[io_len.index(2)]\n",
    "        s7 = \"\".join([c for c in io[io_len.index(3)] if c not in s1 ])\n",
    "        s4 = \"\".join([c for c in io[io_len.index(4)] if c not in s1 ])\n",
    "        for p1 in permutations(s1): # permutations for 1 segments (cf)\n",
    "            w1 = {}\n",
    "            for ori,scr in zip('cf',p1):\n",
    "                w1[scr] = ori\n",
    "            # add permutations from 4 segments ('bd')\n",
    "            for p4 in permutations(s4): \n",
    "                w4 = w1.copy()\n",
    "                for ori,scr in zip('bd',p4):\n",
    "                    w4[scr] = ori\n",
    "                # add third segment from 7 ('a')\n",
    "                w4[s7] = 'a'      \n",
    "                # add permutations for remaining segments ('eg')\n",
    "                origin = 'eg'\n",
    "                scramb = ''.join([ c for c in 'abcdefg' if c not in w4.keys() ])                \n",
    "                for p in permutations(scramb):\n",
    "                    wiring = w4.copy()\n",
    "                    for ori,scr in zip(origin,p):\n",
    "                        wiring[scr] = ori\n",
    "                    # test wiring on line\n",
    "                    di = [ \"\".join(sorted([ wiring[s] for s in ii ])) for ii in i ]\n",
    "                    do = [ \"\".join(sorted([ wiring[s] for s in oo ])) for oo in o ]\n",
    "                    dd = list(dict.fromkeys(di+do)) # remove duplicates\n",
    "                    if checkWiring(dd):\n",
    "                        foundWiring = True\n",
    "                        break\n",
    "                if foundWiring: break\n",
    "            if foundWiring: break\n",
    "        \n",
    "        if foundWiring:\n",
    "            # output value\n",
    "            value = int(\"\".join(str(display[oo]) for oo in do))\n",
    "            if verbose: \n",
    "                for _o in o:\n",
    "                    print(\"{:7s} \".format(_o),end=\" \")\n",
    "                print(value)\n",
    "            output += value\n",
    "        else:\n",
    "            print(\"ERROR\")\n",
    "            return -1\n",
    "    return output"
   ]
  },
  {
   "cell_type": "code",
   "execution_count": 61,
   "id": "joint-thriller",
   "metadata": {},
   "outputs": [
    {
     "name": "stdout",
     "output_type": "stream",
     "text": [
      "cdfeb    fcadb    cdfeb    cdbaf    5353\n"
     ]
    },
    {
     "data": {
      "text/plain": [
       "5353"
      ]
     },
     "execution_count": 61,
     "metadata": {},
     "output_type": "execute_result"
    }
   ],
   "source": [
    "part2fast(i0)"
   ]
  },
  {
   "cell_type": "code",
   "execution_count": 62,
   "id": "coral-supplement",
   "metadata": {},
   "outputs": [
    {
     "name": "stdout",
     "output_type": "stream",
     "text": [
      "fdgacbe  cefdb    cefbgd   gcbe     8394\n",
      "fcgedb   cgb      dgebacf  gc       9781\n",
      "cg       cg       fdcagb   cbg      1197\n",
      "efabcd   cedba    gadfec   cb       9361\n",
      "gecf     egdcabf  bgf      bfgea    4873\n",
      "gebdcfa  ecba     ca       fadegcb  8418\n",
      "cefg     dcbef    fcge     gbcadfe  4548\n",
      "ed       bcgafe   cdgba    cbgef    1625\n",
      "gbdfcae  bgc      cg       cgb      8717\n",
      "fgae     cfgab    fg       bagce    4315\n"
     ]
    },
    {
     "data": {
      "text/plain": [
       "61229"
      ]
     },
     "execution_count": 62,
     "metadata": {},
     "output_type": "execute_result"
    }
   ],
   "source": [
    "part2fast(i1)"
   ]
  },
  {
   "cell_type": "code",
   "execution_count": 63,
   "id": "domestic-savage",
   "metadata": {},
   "outputs": [
    {
     "data": {
      "text/plain": [
       "1091165"
      ]
     },
     "execution_count": 63,
     "metadata": {},
     "output_type": "execute_result"
    }
   ],
   "source": [
    "part2fast(i2,False)"
   ]
  },
  {
   "cell_type": "code",
   "execution_count": null,
   "id": "about-bhutan",
   "metadata": {},
   "outputs": [],
   "source": []
  }
 ],
 "metadata": {
  "kernelspec": {
   "display_name": "Python 3",
   "language": "python",
   "name": "python3"
  },
  "language_info": {
   "codemirror_mode": {
    "name": "ipython",
    "version": 3
   },
   "file_extension": ".py",
   "mimetype": "text/x-python",
   "name": "python",
   "nbconvert_exporter": "python",
   "pygments_lexer": "ipython3",
   "version": "3.9.9"
  }
 },
 "nbformat": 4,
 "nbformat_minor": 5
}
