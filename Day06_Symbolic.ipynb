{
 "cells": [
  {
   "cell_type": "code",
   "execution_count": 29,
   "id": "brazilian-wages",
   "metadata": {},
   "outputs": [],
   "source": [
    "import numpy as np\n",
    "\n",
    "# one matrix multiplication dayiter*timers shifts timers vector elements to the left, \n",
    "# plus add values at 0 in position 6. e.g. the evolution of the fish population timers in a day\n",
    "\n",
    "dayiter = np.array([[0,1,0,0,0,0,0,0,0],\n",
    "                    [0,0,1,0,0,0,0,0,0],\n",
    "                    [0,0,0,1,0,0,0,0,0],\n",
    "                    [0,0,0,0,1,0,0,0,0],\n",
    "                    [0,0,0,0,0,1,0,0,0],\n",
    "                    [0,0,0,0,0,0,1,0,0],\n",
    "                    [1,0,0,0,0,0,0,1,0], # also add values at 0 to counter 6\n",
    "                    [0,0,0,0,0,0,0,0,1],\n",
    "                    [1,0,0,0,0,0,0,0,0]])"
   ]
  },
  {
   "cell_type": "code",
   "execution_count": 23,
   "id": "medieval-papua",
   "metadata": {},
   "outputs": [],
   "source": [
    "from sympy import Matrix\n",
    "\n",
    "D = Matrix(dayiter)\n",
    "P, J = D.diagonalize()"
   ]
  },
  {
   "cell_type": "code",
   "execution_count": 37,
   "id": "liable-fields",
   "metadata": {},
   "outputs": [
    {
     "data": {
      "text/latex": [
       "$\\displaystyle \\left[\\begin{matrix}\\operatorname{CRootOf} {\\left(\\lambda^{9} - \\lambda^{2} - 1, 0\\right)} & \\operatorname{CRootOf} {\\left(\\lambda^{9} - \\lambda^{2} - 1, 1\\right)} & \\operatorname{CRootOf} {\\left(\\lambda^{9} - \\lambda^{2} - 1, 2\\right)} & \\operatorname{CRootOf} {\\left(\\lambda^{9} - \\lambda^{2} - 1, 3\\right)} & \\operatorname{CRootOf} {\\left(\\lambda^{9} - \\lambda^{2} - 1, 4\\right)} & \\operatorname{CRootOf} {\\left(\\lambda^{9} - \\lambda^{2} - 1, 5\\right)} & \\operatorname{CRootOf} {\\left(\\lambda^{9} - \\lambda^{2} - 1, 6\\right)} & \\operatorname{CRootOf} {\\left(\\lambda^{9} - \\lambda^{2} - 1, 7\\right)} & \\operatorname{CRootOf} {\\left(\\lambda^{9} - \\lambda^{2} - 1, 8\\right)}\\\\\\operatorname{CRootOf} {\\left(\\lambda^{9} - \\lambda^{2} - 1, 0\\right)}^{2} & \\operatorname{CRootOf} {\\left(\\lambda^{9} - \\lambda^{2} - 1, 1\\right)}^{2} & \\operatorname{CRootOf} {\\left(\\lambda^{9} - \\lambda^{2} - 1, 2\\right)}^{2} & \\operatorname{CRootOf} {\\left(\\lambda^{9} - \\lambda^{2} - 1, 3\\right)}^{2} & \\operatorname{CRootOf} {\\left(\\lambda^{9} - \\lambda^{2} - 1, 4\\right)}^{2} & \\operatorname{CRootOf} {\\left(\\lambda^{9} - \\lambda^{2} - 1, 5\\right)}^{2} & \\operatorname{CRootOf} {\\left(\\lambda^{9} - \\lambda^{2} - 1, 6\\right)}^{2} & \\operatorname{CRootOf} {\\left(\\lambda^{9} - \\lambda^{2} - 1, 7\\right)}^{2} & \\operatorname{CRootOf} {\\left(\\lambda^{9} - \\lambda^{2} - 1, 8\\right)}^{2}\\\\\\operatorname{CRootOf} {\\left(\\lambda^{9} - \\lambda^{2} - 1, 0\\right)}^{3} & \\operatorname{CRootOf} {\\left(\\lambda^{9} - \\lambda^{2} - 1, 1\\right)}^{3} & \\operatorname{CRootOf} {\\left(\\lambda^{9} - \\lambda^{2} - 1, 2\\right)}^{3} & \\operatorname{CRootOf} {\\left(\\lambda^{9} - \\lambda^{2} - 1, 3\\right)}^{3} & \\operatorname{CRootOf} {\\left(\\lambda^{9} - \\lambda^{2} - 1, 4\\right)}^{3} & \\operatorname{CRootOf} {\\left(\\lambda^{9} - \\lambda^{2} - 1, 5\\right)}^{3} & \\operatorname{CRootOf} {\\left(\\lambda^{9} - \\lambda^{2} - 1, 6\\right)}^{3} & \\operatorname{CRootOf} {\\left(\\lambda^{9} - \\lambda^{2} - 1, 7\\right)}^{3} & \\operatorname{CRootOf} {\\left(\\lambda^{9} - \\lambda^{2} - 1, 8\\right)}^{3}\\\\\\operatorname{CRootOf} {\\left(\\lambda^{9} - \\lambda^{2} - 1, 0\\right)}^{4} & \\operatorname{CRootOf} {\\left(\\lambda^{9} - \\lambda^{2} - 1, 1\\right)}^{4} & \\operatorname{CRootOf} {\\left(\\lambda^{9} - \\lambda^{2} - 1, 2\\right)}^{4} & \\operatorname{CRootOf} {\\left(\\lambda^{9} - \\lambda^{2} - 1, 3\\right)}^{4} & \\operatorname{CRootOf} {\\left(\\lambda^{9} - \\lambda^{2} - 1, 4\\right)}^{4} & \\operatorname{CRootOf} {\\left(\\lambda^{9} - \\lambda^{2} - 1, 5\\right)}^{4} & \\operatorname{CRootOf} {\\left(\\lambda^{9} - \\lambda^{2} - 1, 6\\right)}^{4} & \\operatorname{CRootOf} {\\left(\\lambda^{9} - \\lambda^{2} - 1, 7\\right)}^{4} & \\operatorname{CRootOf} {\\left(\\lambda^{9} - \\lambda^{2} - 1, 8\\right)}^{4}\\\\\\operatorname{CRootOf} {\\left(\\lambda^{9} - \\lambda^{2} - 1, 0\\right)}^{5} & \\operatorname{CRootOf} {\\left(\\lambda^{9} - \\lambda^{2} - 1, 1\\right)}^{5} & \\operatorname{CRootOf} {\\left(\\lambda^{9} - \\lambda^{2} - 1, 2\\right)}^{5} & \\operatorname{CRootOf} {\\left(\\lambda^{9} - \\lambda^{2} - 1, 3\\right)}^{5} & \\operatorname{CRootOf} {\\left(\\lambda^{9} - \\lambda^{2} - 1, 4\\right)}^{5} & \\operatorname{CRootOf} {\\left(\\lambda^{9} - \\lambda^{2} - 1, 5\\right)}^{5} & \\operatorname{CRootOf} {\\left(\\lambda^{9} - \\lambda^{2} - 1, 6\\right)}^{5} & \\operatorname{CRootOf} {\\left(\\lambda^{9} - \\lambda^{2} - 1, 7\\right)}^{5} & \\operatorname{CRootOf} {\\left(\\lambda^{9} - \\lambda^{2} - 1, 8\\right)}^{5}\\\\\\operatorname{CRootOf} {\\left(\\lambda^{9} - \\lambda^{2} - 1, 0\\right)}^{6} & \\operatorname{CRootOf} {\\left(\\lambda^{9} - \\lambda^{2} - 1, 1\\right)}^{6} & \\operatorname{CRootOf} {\\left(\\lambda^{9} - \\lambda^{2} - 1, 2\\right)}^{6} & \\operatorname{CRootOf} {\\left(\\lambda^{9} - \\lambda^{2} - 1, 3\\right)}^{6} & \\operatorname{CRootOf} {\\left(\\lambda^{9} - \\lambda^{2} - 1, 4\\right)}^{6} & \\operatorname{CRootOf} {\\left(\\lambda^{9} - \\lambda^{2} - 1, 5\\right)}^{6} & \\operatorname{CRootOf} {\\left(\\lambda^{9} - \\lambda^{2} - 1, 6\\right)}^{6} & \\operatorname{CRootOf} {\\left(\\lambda^{9} - \\lambda^{2} - 1, 7\\right)}^{6} & \\operatorname{CRootOf} {\\left(\\lambda^{9} - \\lambda^{2} - 1, 8\\right)}^{6}\\\\\\operatorname{CRootOf} {\\left(\\lambda^{9} - \\lambda^{2} - 1, 0\\right)}^{7} & \\operatorname{CRootOf} {\\left(\\lambda^{9} - \\lambda^{2} - 1, 1\\right)}^{7} & \\operatorname{CRootOf} {\\left(\\lambda^{9} - \\lambda^{2} - 1, 2\\right)}^{7} & \\operatorname{CRootOf} {\\left(\\lambda^{9} - \\lambda^{2} - 1, 3\\right)}^{7} & \\operatorname{CRootOf} {\\left(\\lambda^{9} - \\lambda^{2} - 1, 4\\right)}^{7} & \\operatorname{CRootOf} {\\left(\\lambda^{9} - \\lambda^{2} - 1, 5\\right)}^{7} & \\operatorname{CRootOf} {\\left(\\lambda^{9} - \\lambda^{2} - 1, 6\\right)}^{7} & \\operatorname{CRootOf} {\\left(\\lambda^{9} - \\lambda^{2} - 1, 7\\right)}^{7} & \\operatorname{CRootOf} {\\left(\\lambda^{9} - \\lambda^{2} - 1, 8\\right)}^{7}\\\\- \\operatorname{CRootOf} {\\left(\\lambda^{9} - \\lambda^{2} - 1, 0\\right)} + \\operatorname{CRootOf} {\\left(\\lambda^{9} - \\lambda^{2} - 1, 0\\right)}^{8} & \\operatorname{CRootOf} {\\left(\\lambda^{9} - \\lambda^{2} - 1, 1\\right)}^{8} - \\operatorname{CRootOf} {\\left(\\lambda^{9} - \\lambda^{2} - 1, 1\\right)} & - \\operatorname{CRootOf} {\\left(\\lambda^{9} - \\lambda^{2} - 1, 2\\right)} + \\operatorname{CRootOf} {\\left(\\lambda^{9} - \\lambda^{2} - 1, 2\\right)}^{8} & \\operatorname{CRootOf} {\\left(\\lambda^{9} - \\lambda^{2} - 1, 3\\right)}^{8} - \\operatorname{CRootOf} {\\left(\\lambda^{9} - \\lambda^{2} - 1, 3\\right)} & - \\operatorname{CRootOf} {\\left(\\lambda^{9} - \\lambda^{2} - 1, 4\\right)} + \\operatorname{CRootOf} {\\left(\\lambda^{9} - \\lambda^{2} - 1, 4\\right)}^{8} & \\operatorname{CRootOf} {\\left(\\lambda^{9} - \\lambda^{2} - 1, 5\\right)}^{8} - \\operatorname{CRootOf} {\\left(\\lambda^{9} - \\lambda^{2} - 1, 5\\right)} & - \\operatorname{CRootOf} {\\left(\\lambda^{9} - \\lambda^{2} - 1, 6\\right)} + \\operatorname{CRootOf} {\\left(\\lambda^{9} - \\lambda^{2} - 1, 6\\right)}^{8} & \\operatorname{CRootOf} {\\left(\\lambda^{9} - \\lambda^{2} - 1, 7\\right)}^{8} - \\operatorname{CRootOf} {\\left(\\lambda^{9} - \\lambda^{2} - 1, 7\\right)} & - \\operatorname{CRootOf} {\\left(\\lambda^{9} - \\lambda^{2} - 1, 8\\right)} + \\operatorname{CRootOf} {\\left(\\lambda^{9} - \\lambda^{2} - 1, 8\\right)}^{8}\\\\1 & 1 & 1 & 1 & 1 & 1 & 1 & 1 & 1\\end{matrix}\\right]$"
      ],
      "text/plain": [
       "Matrix([\n",
       "[                                          CRootOf(_lambda**9 - _lambda**2 - 1, 0),                                          CRootOf(_lambda**9 - _lambda**2 - 1, 1),                                           CRootOf(_lambda**9 - _lambda**2 - 1, 2),                                          CRootOf(_lambda**9 - _lambda**2 - 1, 3),                                           CRootOf(_lambda**9 - _lambda**2 - 1, 4),                                            CRootOf(lambda**9 - lambda**2 - 1, 5),                                             CRootOf(lambda**9 - lambda**2 - 1, 6),                                            CRootOf(lambda**9 - lambda**2 - 1, 7),                                             CRootOf(lambda**9 - lambda**2 - 1, 8)],\n",
       "[                                         CRootOf(lambda**9 - lambda**2 - 1, 0)**2,                                         CRootOf(lambda**9 - lambda**2 - 1, 1)**2,                                          CRootOf(lambda**9 - lambda**2 - 1, 2)**2,                                         CRootOf(lambda**9 - lambda**2 - 1, 3)**2,                                          CRootOf(lambda**9 - lambda**2 - 1, 4)**2,                                         CRootOf(lambda**9 - lambda**2 - 1, 5)**2,                                          CRootOf(lambda**9 - lambda**2 - 1, 6)**2,                                         CRootOf(lambda**9 - lambda**2 - 1, 7)**2,                                          CRootOf(lambda**9 - lambda**2 - 1, 8)**2],\n",
       "[                                         CRootOf(lambda**9 - lambda**2 - 1, 0)**3,                                         CRootOf(lambda**9 - lambda**2 - 1, 1)**3,                                          CRootOf(lambda**9 - lambda**2 - 1, 2)**3,                                         CRootOf(lambda**9 - lambda**2 - 1, 3)**3,                                          CRootOf(lambda**9 - lambda**2 - 1, 4)**3,                                         CRootOf(lambda**9 - lambda**2 - 1, 5)**3,                                          CRootOf(lambda**9 - lambda**2 - 1, 6)**3,                                         CRootOf(lambda**9 - lambda**2 - 1, 7)**3,                                          CRootOf(lambda**9 - lambda**2 - 1, 8)**3],\n",
       "[                                         CRootOf(lambda**9 - lambda**2 - 1, 0)**4,                                         CRootOf(lambda**9 - lambda**2 - 1, 1)**4,                                          CRootOf(lambda**9 - lambda**2 - 1, 2)**4,                                         CRootOf(lambda**9 - lambda**2 - 1, 3)**4,                                          CRootOf(lambda**9 - lambda**2 - 1, 4)**4,                                         CRootOf(lambda**9 - lambda**2 - 1, 5)**4,                                          CRootOf(lambda**9 - lambda**2 - 1, 6)**4,                                         CRootOf(lambda**9 - lambda**2 - 1, 7)**4,                                          CRootOf(lambda**9 - lambda**2 - 1, 8)**4],\n",
       "[                                         CRootOf(lambda**9 - lambda**2 - 1, 0)**5,                                         CRootOf(lambda**9 - lambda**2 - 1, 1)**5,                                          CRootOf(lambda**9 - lambda**2 - 1, 2)**5,                                         CRootOf(lambda**9 - lambda**2 - 1, 3)**5,                                          CRootOf(lambda**9 - lambda**2 - 1, 4)**5,                                         CRootOf(lambda**9 - lambda**2 - 1, 5)**5,                                          CRootOf(lambda**9 - lambda**2 - 1, 6)**5,                                         CRootOf(lambda**9 - lambda**2 - 1, 7)**5,                                          CRootOf(lambda**9 - lambda**2 - 1, 8)**5],\n",
       "[                                         CRootOf(lambda**9 - lambda**2 - 1, 0)**6,                                         CRootOf(lambda**9 - lambda**2 - 1, 1)**6,                                          CRootOf(lambda**9 - lambda**2 - 1, 2)**6,                                         CRootOf(lambda**9 - lambda**2 - 1, 3)**6,                                          CRootOf(lambda**9 - lambda**2 - 1, 4)**6,                                         CRootOf(lambda**9 - lambda**2 - 1, 5)**6,                                          CRootOf(lambda**9 - lambda**2 - 1, 6)**6,                                         CRootOf(lambda**9 - lambda**2 - 1, 7)**6,                                          CRootOf(lambda**9 - lambda**2 - 1, 8)**6],\n",
       "[                                         CRootOf(lambda**9 - lambda**2 - 1, 0)**7,                                         CRootOf(lambda**9 - lambda**2 - 1, 1)**7,                                          CRootOf(lambda**9 - lambda**2 - 1, 2)**7,                                         CRootOf(lambda**9 - lambda**2 - 1, 3)**7,                                          CRootOf(lambda**9 - lambda**2 - 1, 4)**7,                                         CRootOf(lambda**9 - lambda**2 - 1, 5)**7,                                          CRootOf(lambda**9 - lambda**2 - 1, 6)**7,                                         CRootOf(lambda**9 - lambda**2 - 1, 7)**7,                                          CRootOf(lambda**9 - lambda**2 - 1, 8)**7],\n",
       "[-CRootOf(lambda**9 - lambda**2 - 1, 0) + CRootOf(lambda**9 - lambda**2 - 1, 0)**8, CRootOf(lambda**9 - lambda**2 - 1, 1)**8 - CRootOf(lambda**9 - lambda**2 - 1, 1), -CRootOf(lambda**9 - lambda**2 - 1, 2) + CRootOf(lambda**9 - lambda**2 - 1, 2)**8, CRootOf(lambda**9 - lambda**2 - 1, 3)**8 - CRootOf(lambda**9 - lambda**2 - 1, 3), -CRootOf(lambda**9 - lambda**2 - 1, 4) + CRootOf(lambda**9 - lambda**2 - 1, 4)**8, CRootOf(lambda**9 - lambda**2 - 1, 5)**8 - CRootOf(lambda**9 - lambda**2 - 1, 5), -CRootOf(lambda**9 - lambda**2 - 1, 6) + CRootOf(lambda**9 - lambda**2 - 1, 6)**8, CRootOf(lambda**9 - lambda**2 - 1, 7)**8 - CRootOf(lambda**9 - lambda**2 - 1, 7), -CRootOf(lambda**9 - lambda**2 - 1, 8) + CRootOf(lambda**9 - lambda**2 - 1, 8)**8],\n",
       "[                                                                                1,                                                                                1,                                                                                 1,                                                                                1,                                                                                 1,                                                                                1,                                                                                 1,                                                                                1,                                                                                 1]])"
      ]
     },
     "execution_count": 37,
     "metadata": {},
     "output_type": "execute_result"
    }
   ],
   "source": [
    "P"
   ]
  },
  {
   "cell_type": "code",
   "execution_count": 40,
   "id": "textile-making",
   "metadata": {},
   "outputs": [
    {
     "data": {
      "text/latex": [
       "$\\displaystyle \\left[\\begin{matrix}\\operatorname{CRootOf} {\\left(\\lambda^{9} - \\lambda^{2} - 1, 0\\right)} & 0 & 0 & 0 & 0 & 0 & 0 & 0 & 0\\\\0 & \\operatorname{CRootOf} {\\left(\\lambda^{9} - \\lambda^{2} - 1, 1\\right)} & 0 & 0 & 0 & 0 & 0 & 0 & 0\\\\0 & 0 & \\operatorname{CRootOf} {\\left(\\lambda^{9} - \\lambda^{2} - 1, 2\\right)} & 0 & 0 & 0 & 0 & 0 & 0\\\\0 & 0 & 0 & \\operatorname{CRootOf} {\\left(\\lambda^{9} - \\lambda^{2} - 1, 3\\right)} & 0 & 0 & 0 & 0 & 0\\\\0 & 0 & 0 & 0 & \\operatorname{CRootOf} {\\left(\\lambda^{9} - \\lambda^{2} - 1, 4\\right)} & 0 & 0 & 0 & 0\\\\0 & 0 & 0 & 0 & 0 & \\operatorname{CRootOf} {\\left(\\lambda^{9} - \\lambda^{2} - 1, 5\\right)} & 0 & 0 & 0\\\\0 & 0 & 0 & 0 & 0 & 0 & \\operatorname{CRootOf} {\\left(\\lambda^{9} - \\lambda^{2} - 1, 6\\right)} & 0 & 0\\\\0 & 0 & 0 & 0 & 0 & 0 & 0 & \\operatorname{CRootOf} {\\left(\\lambda^{9} - \\lambda^{2} - 1, 7\\right)} & 0\\\\0 & 0 & 0 & 0 & 0 & 0 & 0 & 0 & \\operatorname{CRootOf} {\\left(\\lambda^{9} - \\lambda^{2} - 1, 8\\right)}\\end{matrix}\\right]$"
      ],
      "text/plain": [
       "Matrix([\n",
       "[CRootOf(_lambda**9 - _lambda**2 - 1, 0),                                       0,                                       0,                                       0,                                       0,                                     0,                                     0,                                     0,                                     0],\n",
       "[                                      0, CRootOf(_lambda**9 - _lambda**2 - 1, 1),                                       0,                                       0,                                       0,                                     0,                                     0,                                     0,                                     0],\n",
       "[                                      0,                                       0, CRootOf(_lambda**9 - _lambda**2 - 1, 2),                                       0,                                       0,                                     0,                                     0,                                     0,                                     0],\n",
       "[                                      0,                                       0,                                       0, CRootOf(_lambda**9 - _lambda**2 - 1, 3),                                       0,                                     0,                                     0,                                     0,                                     0],\n",
       "[                                      0,                                       0,                                       0,                                       0, CRootOf(_lambda**9 - _lambda**2 - 1, 4),                                     0,                                     0,                                     0,                                     0],\n",
       "[                                      0,                                       0,                                       0,                                       0,                                       0, CRootOf(lambda**9 - lambda**2 - 1, 5),                                     0,                                     0,                                     0],\n",
       "[                                      0,                                       0,                                       0,                                       0,                                       0,                                     0, CRootOf(lambda**9 - lambda**2 - 1, 6),                                     0,                                     0],\n",
       "[                                      0,                                       0,                                       0,                                       0,                                       0,                                     0,                                     0, CRootOf(lambda**9 - lambda**2 - 1, 7),                                     0],\n",
       "[                                      0,                                       0,                                       0,                                       0,                                       0,                                     0,                                     0,                                     0, CRootOf(lambda**9 - lambda**2 - 1, 8)]])"
      ]
     },
     "execution_count": 40,
     "metadata": {},
     "output_type": "execute_result"
    }
   ],
   "source": [
    "J"
   ]
  },
  {
   "cell_type": "code",
   "execution_count": null,
   "id": "medium-mobility",
   "metadata": {},
   "outputs": [],
   "source": []
  }
 ],
 "metadata": {
  "kernelspec": {
   "display_name": "Python 3",
   "language": "python",
   "name": "python3"
  },
  "language_info": {
   "codemirror_mode": {
    "name": "ipython",
    "version": 3
   },
   "file_extension": ".py",
   "mimetype": "text/x-python",
   "name": "python",
   "nbconvert_exporter": "python",
   "pygments_lexer": "ipython3",
   "version": "3.9.9"
  }
 },
 "nbformat": 4,
 "nbformat_minor": 5
}
