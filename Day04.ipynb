{
 "cells": [
  {
   "cell_type": "markdown",
   "id": "liked-algebra",
   "metadata": {},
   "source": [
    "## Day 4\n",
    "\n",
    "https://adventofcode.com/2021/day/4"
   ]
  },
  {
   "cell_type": "code",
   "execution_count": 135,
   "id": "greatest-semester",
   "metadata": {},
   "outputs": [],
   "source": [
    "def readInput4(filename):\n",
    "    with open(filename) as f:\n",
    "        l = f.read().split('\\n\\n')\n",
    "        numbers = [ int(n) for n in l[0].split(',') ]\n",
    "        boards = [ [ [ int(n) for n in r.split() ] for r in l[i].strip('\\n').split('\\n') ] for i in range(1,len(l)) ]\n",
    "        return numbers, boards"
   ]
  },
  {
   "cell_type": "markdown",
   "id": "biological-ranch",
   "metadata": {},
   "source": [
    "### Part 1"
   ]
  },
  {
   "cell_type": "code",
   "execution_count": 141,
   "id": "funny-israel",
   "metadata": {},
   "outputs": [
    {
     "name": "stdout",
     "output_type": "stream",
     "text": [
      "Test 1: 4512\n",
      "Part 1: 16716\n"
     ]
    }
   ],
   "source": [
    "import numpy as np\n",
    "\n",
    "def checkWinner(b):\n",
    "    for r in b:\n",
    "        if sum(r)==-len(r):\n",
    "            return True\n",
    "\n",
    "def part1(numbers,boards):\n",
    "    nwin = -1\n",
    "    bwin = []\n",
    "    for n in numbers:\n",
    "        # draw numbers an all boards\n",
    "        for b in boards:\n",
    "            for r in b:\n",
    "                for i in range(len(r)):\n",
    "                    if r[i]==n: r[i]=-1\n",
    "        # check if there's a winner board (row or column!!)\n",
    "        for b in boards:\n",
    "            if checkWinner(b) or checkWinner(np.rot90(np.array(np.array(b)))) :\n",
    "                unmarked = sum([ sum([ i if i!=-1 else 0 for i in r ]) for r in b ])\n",
    "                return unmarked*n\n",
    "\n",
    "numbers0,boards0 = readInput4(\"data/day04test1.txt\")\n",
    "print(\"Test 1:\",part1(numbers0,boards0))\n",
    "\n",
    "numbers,boards = readInput4(\"data/input04.txt\")\n",
    "print(\"Part 1:\",part1(numbers,boards))"
   ]
  },
  {
   "cell_type": "markdown",
   "id": "circular-champagne",
   "metadata": {},
   "source": [
    "### Part 2"
   ]
  },
  {
   "cell_type": "code",
   "execution_count": 142,
   "id": "authentic-italic",
   "metadata": {},
   "outputs": [
    {
     "name": "stdout",
     "output_type": "stream",
     "text": [
      "Test 2: 1924\n",
      "Part 2: 4880\n"
     ]
    }
   ],
   "source": [
    "def part2(numbers,boards):\n",
    "    nwin = -1\n",
    "    bwin = []\n",
    "    for n in numbers:\n",
    "        # draw numbers an all boards\n",
    "        for b in boards:\n",
    "            for r in b:\n",
    "                for i in range(len(r)):\n",
    "                    if r[i]==n: r[i]=-1\n",
    "        # check if there's a winner board, if so remove\n",
    "        for b in boards:\n",
    "            if checkWinner(b) or checkWinner(np.rot90(np.array(np.array(b)))) :\n",
    "                if len(boards)==1:\n",
    "                    unmarked = sum([ sum([ i if i!=-1 else 0 for i in r ]) for r in b ])\n",
    "                    return unmarked*n\n",
    "                else:\n",
    "                    boards.remove(b)\n",
    "                    \n",
    "numbers0,boards0 = readInput4(\"data/day04test1.txt\")\n",
    "print(\"Test 2:\",part2(numbers0,boards0))\n",
    "\n",
    "numbers,boards = readInput4(\"data/input04.txt\")\n",
    "print(\"Part 2:\",part2(numbers,boards))"
   ]
  },
  {
   "cell_type": "code",
   "execution_count": null,
   "id": "material-string",
   "metadata": {},
   "outputs": [],
   "source": []
  }
 ],
 "metadata": {
  "kernelspec": {
   "display_name": "Python 3",
   "language": "python",
   "name": "python3"
  },
  "language_info": {
   "codemirror_mode": {
    "name": "ipython",
    "version": 3
   },
   "file_extension": ".py",
   "mimetype": "text/x-python",
   "name": "python",
   "nbconvert_exporter": "python",
   "pygments_lexer": "ipython3",
   "version": "3.9.9"
  }
 },
 "nbformat": 4,
 "nbformat_minor": 5
}
