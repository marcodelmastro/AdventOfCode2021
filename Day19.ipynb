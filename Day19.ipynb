{
 "cells": [
  {
   "cell_type": "markdown",
   "id": "appreciated-assurance",
   "metadata": {},
   "source": [
    "## Day 19"
   ]
  },
  {
   "cell_type": "code",
   "execution_count": 1,
   "id": "greenhouse-organ",
   "metadata": {},
   "outputs": [],
   "source": [
    "def readInput19(filename):\n",
    "    with open(filename) as f:\n",
    "        p = [ [ c for c in l.strip(\"\\n\").split(\"\\n\") ]  for l in f.read().split(\"\\n\\n\") ]\n",
    "        scanners = []\n",
    "        for s in p:\n",
    "            nscanner = s[0].replace(\"--- scanner \",\"\").replace(\" ---\",\"\")\n",
    "            coords = []\n",
    "            for c in s[1:]:\n",
    "                coord = tuple([int(x) for x in c.split(\",\")])\n",
    "                coords.append(coord)\n",
    "            scanners.append(coords)\n",
    "        return scanners"
   ]
  },
  {
   "cell_type": "markdown",
   "id": "simplified-contractor",
   "metadata": {},
   "source": [
    "### Rotation matrices \n",
    "\n",
    "Generating rotation matrices using Euler angles..."
   ]
  },
  {
   "cell_type": "code",
   "execution_count": 168,
   "id": "prime-crossing",
   "metadata": {},
   "outputs": [
    {
     "name": "stdout",
     "output_type": "stream",
     "text": [
      "Generated 24 rotation matrices\n"
     ]
    }
   ],
   "source": [
    "import numpy as np\n",
    "from math import cos,sin,pi\n",
    "  \n",
    "def Rx(theta):\n",
    "    return np.matrix([[ 1, 0         , 0         ],\n",
    "                      [ 0, cos(theta),-sin(theta)],\n",
    "                      [ 0, sin(theta), cos(theta)]])\n",
    "  \n",
    "def Ry(theta):\n",
    "    return np.matrix([[ cos(theta), 0, sin(theta)],\n",
    "                      [ 0         , 1, 0         ],\n",
    "                      [-sin(theta), 0, cos(theta)]])\n",
    "  \n",
    "def Rz(theta):\n",
    "    return np.matrix([[ cos(theta), -sin(theta), 0 ],\n",
    "                      [ sin(theta),  cos(theta), 0 ],\n",
    "                      [ 0         , 0          , 1 ]])\n",
    "\n",
    "def R(psi,theta,phi):\n",
    "     return Rz(psi) * Ry(theta) * Rx(phi)\n",
    "\n",
    "def getRotations():\n",
    "    Rotations = []\n",
    "    for i in range(4):\n",
    "        for j in range(4):\n",
    "            for k in range(4):\n",
    "                phi   = i*np.pi/2\n",
    "                theta = j*np.pi/2\n",
    "                psi   = k*np.pi/2\n",
    "                Rot = np.array(np.round(R(psi,theta,phi),decimals=2),dtype=int)\n",
    "                unique = True\n",
    "                for Rot0 in Rotations:\n",
    "                    if (Rot==Rot0).all():\n",
    "                        unique = False\n",
    "                if unique:\n",
    "                    Rotations.append(Rot)\n",
    "    return Rotations\n",
    "\n",
    "Rotations = getRotations()\n",
    "print(\"Generated {} rotation matrices\".format(len(Rotations)))"
   ]
  },
  {
   "cell_type": "markdown",
   "id": "accurate-research",
   "metadata": {},
   "source": [
    "### Testing rotation matrices on first example..."
   ]
  },
  {
   "cell_type": "code",
   "execution_count": 174,
   "id": "republican-worthy",
   "metadata": {},
   "outputs": [
    {
     "name": "stdout",
     "output_type": "stream",
     "text": [
      "[[ 0  0 -1]\n",
      " [ 0  1  0]\n",
      " [ 1  0  0]]\n"
     ]
    }
   ],
   "source": [
    "rotTest = readInput19(\"data/day19test1.txt\")\n",
    "\n",
    "for R in Rotations:\n",
    "    foundRotation = 0\n",
    "    for v0,v1 in zip(rotTest[0],rotTest[2]):\n",
    "        X0 = np.array(v0)\n",
    "        X1 = np.array(v1)\n",
    "        X = np.matmul(R,X0)\n",
    "        if (X==X1).all():\n",
    "            foundRotation += 1\n",
    "    if foundRotation==len(rotTest[0]):\n",
    "        print(R)"
   ]
  },
  {
   "cell_type": "markdown",
   "id": "inclusive-lambda",
   "metadata": {},
   "source": [
    "### Pair-wise distances\n",
    "\n",
    "In principle I don't think I need to rotate the coordinates from a given scanner to match those from another scanner, I could compute the distances between pairs of beacons in their reference frame, and these distances would not depend on the frame orientation. Then I could possibly match the pair-wise distances from different scanners (under the assumption the input is not too evil!).\n",
    "\n",
    "In order to avoid rounding problem, I can save the distance square instead of taking the square root.\n",
    "\n",
    "In the example each scanner measures 25 beacons, so I'll have 25*24/2 = 300 pair-wise distances.\n",
    "\n",
    "Each pair of scanner sees at least 12 common beacons, that would correspond to the 12*11/2 = 66 common pair-wise distances. I can check the overlap using `set.intersection`. "
   ]
  },
  {
   "cell_type": "code",
   "execution_count": 175,
   "id": "differential-camping",
   "metadata": {},
   "outputs": [],
   "source": [
    "from itertools import combinations\n",
    "from collections import defaultdict\n",
    "\n",
    "def squareDistance(a,b):\n",
    "    return sum([ (xa-xb)**2 for xa,xb in zip(a,b) ])\n",
    "\n",
    "def distances(scanner):\n",
    "    return [ [ squareDistance(a,b) for a,b in combinations(s,2) ] for s in scanner ]\n",
    "\n",
    "def findOverlappingScans(scanner):\n",
    "    overlapping = defaultdict(list)\n",
    "    dists = distances(scanner)\n",
    "    for i,j in combinations(range(len(dists)),2):\n",
    "        d1 = dists[i]\n",
    "        d2 = dists[j]\n",
    "        common = list(set(d1).intersection(set(d2)))\n",
    "        if len(common)>=66:\n",
    "            overlapping[i].append(j)\n",
    "            overlapping[j].append(i)\n",
    "    return overlapping"
   ]
  },
  {
   "cell_type": "code",
   "execution_count": 176,
   "id": "owned-dependence",
   "metadata": {
    "scrolled": false
   },
   "outputs": [
    {
     "data": {
      "text/plain": [
       "defaultdict(list, {0: [1], 1: [0, 3, 4], 3: [1], 4: [1, 2], 2: [4]})"
      ]
     },
     "execution_count": 176,
     "metadata": {},
     "output_type": "execute_result"
    }
   ],
   "source": [
    "scanner0 = readInput19(\"data/day19test2.txt\")\n",
    "overlapping = findOverlappingScans(scanner0)\n",
    "overlapping"
   ]
  },
  {
   "cell_type": "markdown",
   "id": "architectural-event",
   "metadata": {},
   "source": [
    "### Finding commong beacons and corresponding rotation and translation"
   ]
  },
  {
   "cell_type": "code",
   "execution_count": 228,
   "id": "advanced-compiler",
   "metadata": {},
   "outputs": [],
   "source": [
    "def findCommonBeacons(beacons1,beacons2,verbose=True):\n",
    "    c1 = [ (a,b) for a,b in combinations(beacons1,2) ]\n",
    "    c2 = [ (a,b) for a,b in combinations(beacons2,2) ]\n",
    "    d1 = [ squareDistance(a,b) for a,b in combinations(beacons1,2) ]\n",
    "    d2 = [ squareDistance(a,b) for a,b in combinations(beacons2,2) ]\n",
    "    common = list(set(d1).intersection(set(d2)))\n",
    "    if len(common) >= 66:\n",
    "        if verbose: print(\"Found overlapping region \",end=\"\")\n",
    "        C1 = []\n",
    "        C2 = []\n",
    "        for c in common:\n",
    "            i1 = d1.index(c)\n",
    "            i2 = d2.index(c)\n",
    "            for x1 in c1[i1]:\n",
    "                if x1 not in C1:\n",
    "                    C1.append(x1)\n",
    "            for x2 in c2[i2]:\n",
    "                if x2 not in C2:\n",
    "                    C2.append(x2)\n",
    "        if verbose: print(\"with {} common beacons.\".format(len(C1)))\n",
    "        if verbose: print(\"Looking for rotation and scanner distance... \",end=\"\")\n",
    "        # Taking one point as reference\n",
    "        X1 = np.array(C1[0])\n",
    "        R  = None\n",
    "        dX = None\n",
    "        # Trying all points in corresponding set to find match\n",
    "        matchFound = False\n",
    "        for x2 in C2:\n",
    "            X2 = np.array(x2)\n",
    "            # Trying all rotations\n",
    "            for R in Rotations:\n",
    "                X2rot = np.matmul(R,X2)\n",
    "                # Translation between reference point X1 and test point X2 after rotation\n",
    "                dX = X1-X2rot\n",
    "                # If point and rotation correct, than all other points should have a correspondence in original set\n",
    "                C2transf = [ tuple(np.matmul(R,np.array(x2t))+dX) for x2t in C2 ]\n",
    "                inOriginal = [ 1 for x2t in C2transf if x2t in C1 ]\n",
    "                # There might be more than 12 elements in C1 for spurious matching of\n",
    "                # distances, only check for lenght of inOriginal to be at least 12\n",
    "                #if len(inOriginal)==len(C1):\n",
    "                if len(inOriginal)>=12:\n",
    "                    if verbose: print(\"found!\")\n",
    "                    if verbose: print(R,dX)\n",
    "                    matchFound = True\n",
    "                    break\n",
    "            if matchFound: break\n",
    "        if not matchFound:\n",
    "            return [], (0,0,0)\n",
    "        if verbose: print(\"Translating all points in second set to coordinate of first set... \",end=\"\")\n",
    "        beacon2new = [ tuple(np.matmul(R,np.array(x2))+dX) for x2 in beacons2 ]\n",
    "        if verbose: print(\"Done.\")\n",
    "        return beacon2new, tuple(dX)\n",
    "    else:\n",
    "        if verbose: print(\"No overlapping region found.\")\n",
    "        return [], (0,0,0)"
   ]
  },
  {
   "cell_type": "code",
   "execution_count": 230,
   "id": "russian-tutorial",
   "metadata": {},
   "outputs": [
    {
     "name": "stdout",
     "output_type": "stream",
     "text": [
      "Found overlapping region with 12 common beacons.\n",
      "Looking for rotation and scanner distance... found!\n",
      "[[-1  0  0]\n",
      " [ 0  1  0]\n",
      " [ 0  0 -1]] [   68 -1246   -43]\n",
      "Translating all points in second set to coordinate of first set... Done.\n",
      "25 25 38\n",
      "(68, -1246, -43)\n"
     ]
    }
   ],
   "source": [
    "scanner0 = readInput19(\"data/day19test2.txt\")\n",
    "\n",
    "b1 = scanner0[0]\n",
    "b2 = scanner0[1]\n",
    "b2new, Xscanner2 = findCommonBeacons(b1,b2,verbose=True)\n",
    "\n",
    "print(len(b1),len(b2),len(set(b1)|set(b2new)))\n",
    "print(Xscanner2)"
   ]
  },
  {
   "cell_type": "markdown",
   "id": "median-freight",
   "metadata": {},
   "source": [
    "### Part 1: solving overlaps between all regions, translating to first scanner coordinates, remove overlaps"
   ]
  },
  {
   "cell_type": "code",
   "execution_count": 237,
   "id": "industrial-bristol",
   "metadata": {},
   "outputs": [],
   "source": [
    "def solveOverlaps(scanner):\n",
    "    scanner_new = [[]]*len(scanner)\n",
    "    scanner_new[0] = list(scanner[0])\n",
    "    scanner_coord = [(0,0,0)]*len(scanner)\n",
    "    translated = [0]\n",
    "    refs = [0]\n",
    "    while len(translated)<len(scanner):\n",
    "        iref = refs.pop()\n",
    "        b1 = scanner_new[iref]\n",
    "        for i in range(len(scanner)):\n",
    "            if i!=iref and i not in translated:\n",
    "                b2 = scanner[i]\n",
    "                b2new, Xscanner = findCommonBeacons(b1,b2,verbose=False)\n",
    "                if len(b2new):\n",
    "                    scanner_new[i] = b2new\n",
    "                    scanner_coord[i] = Xscanner\n",
    "                    translated.append(i)\n",
    "                    refs.append(i)\n",
    "    return scanner_new, scanner_coord"
   ]
  },
  {
   "cell_type": "code",
   "execution_count": 245,
   "id": "sunrise-uzbekistan",
   "metadata": {},
   "outputs": [
    {
     "name": "stdout",
     "output_type": "stream",
     "text": [
      "Test 1: 79\n"
     ]
    }
   ],
   "source": [
    "scanner0 = readInput19(\"data/day19test2.txt\")\n",
    "\n",
    "scanner_new0, scanner_coord0 = solveOverlaps(scanner0)\n",
    "\n",
    "def part1(scanner_new):\n",
    "    overlap = set([])\n",
    "    for b in scanner_new:\n",
    "        overlap = overlap | set(b)\n",
    "    return len(overlap)\n",
    "\n",
    "print(\"Test 1:\",part1(scanner_new0))"
   ]
  },
  {
   "cell_type": "code",
   "execution_count": 246,
   "id": "secret-shoot",
   "metadata": {},
   "outputs": [
    {
     "name": "stdout",
     "output_type": "stream",
     "text": [
      "Part 1: 434\n"
     ]
    }
   ],
   "source": [
    "scanner = readInput19(\"data/input19.txt\")\n",
    "\n",
    "scanner_new, scanner_coord = solveOverlaps(scanner)\n",
    "\n",
    "print(\"Part 1:\",part1(scanner_new))"
   ]
  },
  {
   "cell_type": "markdown",
   "id": "joined-rally",
   "metadata": {},
   "source": [
    "### Part 2: computing Manhattan distances between all scanners, find largest\n",
    "\n",
    "Modified `findCommonBeacons` function to also return scanner coordinates"
   ]
  },
  {
   "cell_type": "code",
   "execution_count": 240,
   "id": "premium-diamond",
   "metadata": {},
   "outputs": [
    {
     "data": {
      "text/plain": [
       "3621"
      ]
     },
     "execution_count": 240,
     "metadata": {},
     "output_type": "execute_result"
    }
   ],
   "source": [
    "def manhattanDistance(a,b):\n",
    "    return sum([abs(xa-xb) for xa,xb in zip(a,b)])\n",
    "\n",
    "# In total, they are 1197 + 1175 + 1249 = 3621 units apart.\n",
    "\n",
    "a = (1105,-1205,1229)\n",
    "b = (-92,-2380,-20)\n",
    "\n",
    "manhattanDistance(a,b)"
   ]
  },
  {
   "cell_type": "code",
   "execution_count": 243,
   "id": "passing-colleague",
   "metadata": {},
   "outputs": [],
   "source": [
    "def part2(scanner_coord):\n",
    "    return max([ manhattanDistance(a,b) for a,b in combinations(scanner_coord,2) ] )  "
   ]
  },
  {
   "cell_type": "code",
   "execution_count": 249,
   "id": "adopted-roots",
   "metadata": {},
   "outputs": [
    {
     "name": "stdout",
     "output_type": "stream",
     "text": [
      "Test 2: 3621\n"
     ]
    }
   ],
   "source": [
    "print(\"Test 2:\",part2(scanner_coord0))"
   ]
  },
  {
   "cell_type": "code",
   "execution_count": 250,
   "id": "opening-fortune",
   "metadata": {},
   "outputs": [
    {
     "name": "stdout",
     "output_type": "stream",
     "text": [
      "Part 2: 11906\n"
     ]
    }
   ],
   "source": [
    "print(\"Part 2:\",part2(scanner_coord))"
   ]
  },
  {
   "cell_type": "code",
   "execution_count": null,
   "id": "particular-northwest",
   "metadata": {},
   "outputs": [],
   "source": []
  }
 ],
 "metadata": {
  "kernelspec": {
   "display_name": "Python 3",
   "language": "python",
   "name": "python3"
  },
  "language_info": {
   "codemirror_mode": {
    "name": "ipython",
    "version": 3
   },
   "file_extension": ".py",
   "mimetype": "text/x-python",
   "name": "python",
   "nbconvert_exporter": "python",
   "pygments_lexer": "ipython3",
   "version": "3.9.9"
  }
 },
 "nbformat": 4,
 "nbformat_minor": 5
}
