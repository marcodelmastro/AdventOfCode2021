{
 "cells": [
  {
   "cell_type": "code",
   "execution_count": 30,
   "id": "mediterranean-cemetery",
   "metadata": {},
   "outputs": [],
   "source": [
    "d0 = [199,200,208,210,200,207,240,269,260,263]"
   ]
  },
  {
   "cell_type": "code",
   "execution_count": 31,
   "id": "israeli-jumping",
   "metadata": {},
   "outputs": [],
   "source": [
    "with open(\"data/input01.txt\") as f:\n",
    "    d = [int(n) for n in f.readlines() ]"
   ]
  },
  {
   "cell_type": "code",
   "execution_count": 58,
   "id": "subsequent-perth",
   "metadata": {},
   "outputs": [
    {
     "name": "stdout",
     "output_type": "stream",
     "text": [
      "7\n",
      "1583\n"
     ]
    }
   ],
   "source": [
    "import numpy as np\n",
    "\n",
    "def increase(d):\n",
    "    return sum( ( np.array(d) - np.append([0],np.array(d[:-1])) ) > 0 ) - 1\n",
    "\n",
    "print(increase(d0))\n",
    "print(increase(d))"
   ]
  },
  {
   "cell_type": "code",
   "execution_count": 61,
   "id": "intense-hawaiian",
   "metadata": {},
   "outputs": [],
   "source": [
    "def increaseWindow(d,wsize=3):\n",
    "    w = np.convolve(np.array(d), np.ones(wsize), 'valid')\n",
    "    return increase(w)"
   ]
  },
  {
   "cell_type": "code",
   "execution_count": 64,
   "id": "express-candidate",
   "metadata": {},
   "outputs": [
    {
     "name": "stdout",
     "output_type": "stream",
     "text": [
      "5\n",
      "1627\n"
     ]
    }
   ],
   "source": [
    "print(increaseWindow(d0))\n",
    "print(increaseWindow(d))"
   ]
  },
  {
   "cell_type": "code",
   "execution_count": null,
   "id": "solid-fellowship",
   "metadata": {},
   "outputs": [],
   "source": []
  }
 ],
 "metadata": {
  "kernelspec": {
   "display_name": "Python 3",
   "language": "python",
   "name": "python3"
  },
  "language_info": {
   "codemirror_mode": {
    "name": "ipython",
    "version": 3
   },
   "file_extension": ".py",
   "mimetype": "text/x-python",
   "name": "python",
   "nbconvert_exporter": "python",
   "pygments_lexer": "ipython3",
   "version": "3.9.9"
  }
 },
 "nbformat": 4,
 "nbformat_minor": 5
}
