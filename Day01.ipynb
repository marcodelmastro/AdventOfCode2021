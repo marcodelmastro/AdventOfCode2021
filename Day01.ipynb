{
 "cells": [
  {
   "cell_type": "markdown",
   "id": "tight-hormone",
   "metadata": {},
   "source": [
    "## Day 1\n",
    "\n",
    "https://adventofcode.com/2021/day/1"
   ]
  },
  {
   "cell_type": "code",
   "execution_count": 2,
   "id": "mediterranean-cemetery",
   "metadata": {},
   "outputs": [],
   "source": [
    "d0 = [199,200,208,210,200,207,240,269,260,263]\n",
    "\n",
    "d = [ int(n) for n in open(\"data/input01.txt\").readlines() ]"
   ]
  },
  {
   "cell_type": "markdown",
   "id": "oriented-leader",
   "metadata": {},
   "source": [
    "### Part 1"
   ]
  },
  {
   "cell_type": "code",
   "execution_count": 29,
   "id": "subsequent-perth",
   "metadata": {},
   "outputs": [
    {
     "name": "stdout",
     "output_type": "stream",
     "text": [
      "7\n",
      "1583\n"
     ]
    }
   ],
   "source": [
    "import numpy as np\n",
    "\n",
    "def increase(d):\n",
    "    return sum( ( np.array(d) - np.append([0],np.array(d[:-1])) ) > 0 ) - 1\n",
    "\n",
    "print(increase(d0))\n",
    "print(increase(d))"
   ]
  },
  {
   "cell_type": "markdown",
   "id": "creative-appointment",
   "metadata": {},
   "source": [
    "### Part 2"
   ]
  },
  {
   "cell_type": "code",
   "execution_count": 33,
   "id": "intense-hawaiian",
   "metadata": {},
   "outputs": [
    {
     "name": "stdout",
     "output_type": "stream",
     "text": [
      "5\n",
      "1627\n"
     ]
    }
   ],
   "source": [
    "def increaseWindow(d,wsize=3):\n",
    "    w = np.convolve(np.array(d), np.ones(wsize), 'valid')\n",
    "    return increase(w)\n",
    "\n",
    "print(increaseWindow(d0))\n",
    "print(increaseWindow(d))"
   ]
  },
  {
   "cell_type": "markdown",
   "id": "prime-piece",
   "metadata": {},
   "source": [
    "### Part 1 w/o numpy"
   ]
  },
  {
   "cell_type": "code",
   "execution_count": 31,
   "id": "solid-fellowship",
   "metadata": {},
   "outputs": [
    {
     "name": "stdout",
     "output_type": "stream",
     "text": [
      "1583\n",
      "1583\n"
     ]
    }
   ],
   "source": [
    "print( sum( [ (a-b)>0 for a,b in zip(d,[0]+d[:-1]) ][1:] ) ) # using zip\n",
    "print( sum( [ (d[i]-d[i-1])>0 for i in range(1,len(d)) ]) ) # using explicit index"
   ]
  },
  {
   "cell_type": "markdown",
   "id": "apparent-corner",
   "metadata": {},
   "source": [
    "### Part 2 w/o numpy"
   ]
  },
  {
   "cell_type": "code",
   "execution_count": 35,
   "id": "liable-supply",
   "metadata": {},
   "outputs": [
    {
     "name": "stdout",
     "output_type": "stream",
     "text": [
      "1627\n"
     ]
    }
   ],
   "source": [
    "w = [ sum(d[i:i+3]) for i in range(len(d)-2) ]\n",
    "print( sum( [ (w[i]-w[i-1])>0 for i in range(1,len(w)) ]) )"
   ]
  },
  {
   "cell_type": "code",
   "execution_count": null,
   "id": "fancy-invalid",
   "metadata": {},
   "outputs": [],
   "source": []
  }
 ],
 "metadata": {
  "kernelspec": {
   "display_name": "Python 3",
   "language": "python",
   "name": "python3"
  },
  "language_info": {
   "codemirror_mode": {
    "name": "ipython",
    "version": 3
   },
   "file_extension": ".py",
   "mimetype": "text/x-python",
   "name": "python",
   "nbconvert_exporter": "python",
   "pygments_lexer": "ipython3",
   "version": "3.9.9"
  }
 },
 "nbformat": 4,
 "nbformat_minor": 5
}
