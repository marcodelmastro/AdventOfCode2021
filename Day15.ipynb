{
 "cells": [
  {
   "cell_type": "code",
   "execution_count": 4,
   "id": "greatest-monkey",
   "metadata": {},
   "outputs": [],
   "source": [
    "def readInput15(filename):\n",
    "    with open(filename) as f:\n",
    "        return [ [ int(c) for c in l.strip(\"\\n\") ] for l in f.readlines() ]\n",
    "\n",
    "grid0 = readInput15(\"data/day15test1.txt\")\n",
    "grid = readInput15(\"data/input15.txt\")"
   ]
  },
  {
   "cell_type": "markdown",
   "id": "light-blanket",
   "metadata": {},
   "source": [
    "### Part 1\n",
    "\n",
    "I already solved a very similar problem in Project Euler (problem 81, 82 and 83), it requires to find the shortest path on a weigthed graph. I can do it using `networkx` for a quick solution, or use my own implementation of the Dijkstra algorithm."
   ]
  },
  {
   "cell_type": "code",
   "execution_count": 5,
   "id": "western-authentication",
   "metadata": {},
   "outputs": [],
   "source": [
    "import networkx as nx\n",
    "\n",
    "def getDirs(p,m):\n",
    "    x,y=p\n",
    "    d = []\n",
    "    if x-1>=0:\n",
    "        d.append((x-1,y))\n",
    "    if x+1<len(m[0]):\n",
    "        d.append((x+1,y))\n",
    "    if y+1<len(m):\n",
    "        d.append((x,y+1))\n",
    "    if y-1>=0:\n",
    "        d.append((x,y-1))\n",
    "    return d\n",
    "\n",
    "def getDiGraph(matrix):\n",
    "    G = nx.DiGraph() \n",
    "    for y in range(len(matrix)):\n",
    "        for x in range(len(matrix[0])):\n",
    "            p = (x,y)\n",
    "            for pn in getDirs(p,matrix):\n",
    "                xn,yn = pn\n",
    "                G.add_edge(p,pn,weight=matrix[yn][xn])\n",
    "    return G\n",
    "\n",
    "def getShortestPath(matrix):\n",
    "    G = getDiGraph(matrix)\n",
    "    return nx.shortest_path_length(G, source=(0,0), target=(len(matrix)-1,len(matrix[0])-1), weight=\"weight\")"
   ]
  },
  {
   "cell_type": "code",
   "execution_count": 6,
   "id": "looking-float",
   "metadata": {},
   "outputs": [
    {
     "name": "stdout",
     "output_type": "stream",
     "text": [
      "Test 1: 40\n",
      "Part 1: 745\n"
     ]
    }
   ],
   "source": [
    "print(\"Test 1:\",getShortestPath(grid0))\n",
    "print(\"Part 1:\",getShortestPath(grid))"
   ]
  },
  {
   "cell_type": "code",
   "execution_count": 7,
   "id": "characteristic-consolidation",
   "metadata": {},
   "outputs": [],
   "source": [
    "from queue import PriorityQueue\n",
    "from collections import defaultdict\n",
    "\n",
    "def makeGraph(matrix):\n",
    "    '''Graph as a dictionary of dictionaries'''\n",
    "    graph = {}\n",
    "    for y in range(len(matrix)):\n",
    "        for x in range(len(matrix[0])):\n",
    "            p = (x,y)\n",
    "            graph[p] = {}\n",
    "            for pn in getDirs(p,matrix):\n",
    "                xn,yn = pn\n",
    "                graph[p][pn] = matrix[yn][xn]\n",
    "    return graph\n",
    "\n",
    "def DijkstraShortestPath(graph,S,E,INF=1_000_000_000):\n",
    "\n",
    "    # visited nodes\n",
    "    visited = defaultdict(bool)\n",
    "    visited[S] = True\n",
    "    \n",
    "    # set initial distances in the priority dictionary\n",
    "    priority = {}\n",
    "    for n in graph.keys():\n",
    "        if n==S:\n",
    "            priority[n] = 0\n",
    "        else:\n",
    "            priority[n] = INF\n",
    "    \n",
    "    # priority queue\n",
    "    queue = PriorityQueue()\n",
    "    queue.put((0,S))\n",
    "\n",
    "    # starting position\n",
    "    curr = S\n",
    "\n",
    "    while curr!=E:\n",
    "\n",
    "        # choose next node according to priority queue\n",
    "        p,curr = queue.get()\n",
    "        \n",
    "        # explore the graph computing priority according to weights\n",
    "        for neigh in graph[curr].keys():\n",
    "            if not visited[neigh]:\n",
    "                if priority[neigh] > p + graph[curr][neigh]:\n",
    "                    priority[neigh] = p + graph[curr][neigh]\n",
    "                    queue.put((priority[neigh],neigh))\n",
    "\n",
    "    return priority[E]"
   ]
  },
  {
   "cell_type": "code",
   "execution_count": 8,
   "id": "brilliant-grocery",
   "metadata": {},
   "outputs": [
    {
     "name": "stdout",
     "output_type": "stream",
     "text": [
      "Test 1: 40\n",
      "Part 1: 745\n"
     ]
    }
   ],
   "source": [
    "graph0 = makeGraph(grid0)\n",
    "S = (0,0)\n",
    "E = (len(grid0[0])-1,len(grid0)-1)\n",
    "print(\"Test 1:\",DijkstraShortestPath(graph0,S,E))\n",
    "\n",
    "graph = makeGraph(grid)\n",
    "S = (0,0)\n",
    "E = (len(grid[0])-1,len(grid)-1)\n",
    "print(\"Part 1:\",DijkstraShortestPath(graph,S,E))"
   ]
  },
  {
   "cell_type": "markdown",
   "id": "hundred-zoning",
   "metadata": {},
   "source": [
    "### Part 2"
   ]
  },
  {
   "cell_type": "code",
   "execution_count": 9,
   "id": "patient-dayton",
   "metadata": {},
   "outputs": [],
   "source": [
    "import numpy as np\n",
    "\n",
    "def largeGrid(grid,N):    \n",
    "    largegrid = np.zeros((N*len(grid),N*len(grid[0])),dtype=int)\n",
    "    g0 = np.array(grid)\n",
    "    X = len(grid[0])\n",
    "    Y = len(grid)\n",
    "    for j in range(N):\n",
    "        for i in range(N):\n",
    "            k = j+i\n",
    "            g = (g0+k)%9\n",
    "            g[g==0]=9\n",
    "            largegrid[j*Y:(j+1)*Y,i*X:(i+1)*X] = g        \n",
    "    return largegrid"
   ]
  },
  {
   "cell_type": "code",
   "execution_count": 10,
   "id": "rural-grave",
   "metadata": {},
   "outputs": [
    {
     "name": "stdout",
     "output_type": "stream",
     "text": [
      "Test 2: 315\n"
     ]
    }
   ],
   "source": [
    "largegrid0 = largeGrid(grid0,N=5)\n",
    "print(\"Test 2:\",getShortestPath(largegrid0))"
   ]
  },
  {
   "cell_type": "code",
   "execution_count": 24,
   "id": "patient-wireless",
   "metadata": {},
   "outputs": [
    {
     "name": "stdout",
     "output_type": "stream",
     "text": [
      "Part 2 (NetworkX): 3002\n",
      "Part 2 (NetworkX) time: 4.7 s\n"
     ]
    }
   ],
   "source": [
    "import time\n",
    "start_time = time.time()\n",
    "largegrid = largeGrid(grid,N=5)\n",
    "print(\"Part 2 (NetworkX):\",getShortestPath(largegrid))\n",
    "print(\"Part 2 (NetworkX) time: {:3.1f} s\".format((time.time() - start_time)))"
   ]
  },
  {
   "cell_type": "code",
   "execution_count": 12,
   "id": "perceived-cornwall",
   "metadata": {},
   "outputs": [
    {
     "name": "stdout",
     "output_type": "stream",
     "text": [
      "Test 2: 315\n"
     ]
    }
   ],
   "source": [
    "largegraph0 = makeGraph(largegrid0)\n",
    "S = (0,0)\n",
    "E = (len(largegrid0[0])-1,len(largegrid0)-1)\n",
    "print(\"Test 2:\",DijkstraShortestPath(largegraph0,S,E))"
   ]
  },
  {
   "cell_type": "code",
   "execution_count": 25,
   "id": "intellectual-minority",
   "metadata": {},
   "outputs": [
    {
     "name": "stdout",
     "output_type": "stream",
     "text": [
      "Part 2 (Dijkstra): 3002\n",
      "Part 2 (Dijkstra) time: 3.5 s\n"
     ]
    }
   ],
   "source": [
    "start_time = time.time()\n",
    "largegraph = makeGraph(largegrid)\n",
    "S = (0,0)\n",
    "E = (len(largegrid[0])-1,len(largegrid)-1)\n",
    "print(\"Part 2 (Dijkstra):\",DijkstraShortestPath(largegraph,S,E))\n",
    "print(\"Part 2 (Dijkstra) time: {:3.1f} s\".format((time.time() - start_time)))"
   ]
  },
  {
   "cell_type": "code",
   "execution_count": null,
   "id": "architectural-jacket",
   "metadata": {},
   "outputs": [],
   "source": []
  }
 ],
 "metadata": {
  "kernelspec": {
   "display_name": "Python 3",
   "language": "python",
   "name": "python3"
  },
  "language_info": {
   "codemirror_mode": {
    "name": "ipython",
    "version": 3
   },
   "file_extension": ".py",
   "mimetype": "text/x-python",
   "name": "python",
   "nbconvert_exporter": "python",
   "pygments_lexer": "ipython3",
   "version": "3.9.9"
  }
 },
 "nbformat": 4,
 "nbformat_minor": 5
}
