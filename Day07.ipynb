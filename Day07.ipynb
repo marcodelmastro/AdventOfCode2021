{
 "cells": [
  {
   "cell_type": "markdown",
   "id": "greenhouse-knitting",
   "metadata": {},
   "source": [
    "## Day 7\n",
    "\n"
   ]
  },
  {
   "cell_type": "code",
   "execution_count": 15,
   "id": "announced-arrival",
   "metadata": {},
   "outputs": [],
   "source": [
    "hpos0 = [16,1,2,0,4,2,7,1,2,14]\n",
    "\n",
    "filename = \"data/input07.txt\"\n",
    "with open(filename) as f:\n",
    "    hpos = [ int(h) for h in f.readlines()[0].split(\",\") ]"
   ]
  },
  {
   "cell_type": "code",
   "execution_count": 17,
   "id": "married-tunisia",
   "metadata": {},
   "outputs": [
    {
     "name": "stdout",
     "output_type": "stream",
     "text": [
      "Test 1: 37\n",
      "Part 1: 344138\n"
     ]
    }
   ],
   "source": [
    "def part1(hpos):\n",
    "    return min([ sum([ abs(h0-h) for h0 in hpos ]) for h in range(min(hpos),max(hpos)+1) ] )\n",
    "\n",
    "print(\"Test 1:\",part1(hpos0))\n",
    "print(\"Part 1:\",part1(hpos))"
   ]
  },
  {
   "cell_type": "code",
   "execution_count": 29,
   "id": "actual-color",
   "metadata": {},
   "outputs": [
    {
     "name": "stdout",
     "output_type": "stream",
     "text": [
      "Test 2: 168\n",
      "Part 2: 94862124\n"
     ]
    }
   ],
   "source": [
    "def fuel2(h1,h2):\n",
    "    dh = abs(h1-h2)\n",
    "    return ((dh+1)*dh)//2\n",
    "\n",
    "def part2(hpos):\n",
    "    return min([ sum([ fuel2(h0,h) for h0 in hpos ]) for h in range(min(hpos),max(hpos)+1) ] )\n",
    "\n",
    "print(\"Test 2:\",part2(hpos0))\n",
    "print(\"Part 2:\",part2(hpos))"
   ]
  }
 ],
 "metadata": {
  "kernelspec": {
   "display_name": "Python 3",
   "language": "python",
   "name": "python3"
  },
  "language_info": {
   "codemirror_mode": {
    "name": "ipython",
    "version": 3
   },
   "file_extension": ".py",
   "mimetype": "text/x-python",
   "name": "python",
   "nbconvert_exporter": "python",
   "pygments_lexer": "ipython3",
   "version": "3.9.9"
  }
 },
 "nbformat": 4,
 "nbformat_minor": 5
}
