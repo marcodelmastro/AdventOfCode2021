{
 "cells": [
  {
   "cell_type": "markdown",
   "id": "hundred-technology",
   "metadata": {},
   "source": [
    "## Day 7\n",
    "\n",
    "https://adventofcode.com/2021/day/7"
   ]
  },
  {
   "cell_type": "code",
   "execution_count": 2,
   "id": "sticky-poultry",
   "metadata": {},
   "outputs": [],
   "source": [
    "hpos0 = [16,1,2,0,4,2,7,1,2,14]\n",
    "\n",
    "filename = \"data/input07.txt\"\n",
    "with open(filename) as f:\n",
    "    hpos = [ int(h) for h in f.readlines()[0].split(\",\") ]"
   ]
  },
  {
   "cell_type": "code",
   "execution_count": 48,
   "id": "consistent-climb",
   "metadata": {},
   "outputs": [
    {
     "name": "stdout",
     "output_type": "stream",
     "text": [
      "Test 1: 37\n",
      "Part 1: 344138\n"
     ]
    }
   ],
   "source": [
    "def part1(hpos):\n",
    "    return min([ sum([ abs(h0-h) for h0 in hpos ]) for h in hpos ] )\n",
    "\n",
    "print(\"Test 1:\",part1(hpos0))\n",
    "print(\"Part 1:\",part1(hpos))"
   ]
  },
  {
   "cell_type": "code",
   "execution_count": 49,
   "id": "utility-island",
   "metadata": {},
   "outputs": [
    {
     "name": "stdout",
     "output_type": "stream",
     "text": [
      "Test 1: 37\n",
      "Part 1: 344138\n"
     ]
    }
   ],
   "source": [
    "import statistics as stat\n",
    "\n",
    "def part1stat(hpos):\n",
    "    return int(sum([ abs(h-stat.median(hpos)) for h in hpos ]))\n",
    "\n",
    "print(\"Test 1:\",part1stat(hpos0))\n",
    "print(\"Part 1:\",part1stat(hpos))"
   ]
  },
  {
   "cell_type": "code",
   "execution_count": 50,
   "id": "modified-watershed",
   "metadata": {},
   "outputs": [
    {
     "name": "stdout",
     "output_type": "stream",
     "text": [
      "Test 2: 170\n",
      "Part 2: 94862124\n"
     ]
    }
   ],
   "source": [
    "def part2(hpos):\n",
    "    return min([ sum([ ((abs(h0-h)+1)*abs(h0-h))//2 for h0 in hpos ]) for h in hpos ] )\n",
    "\n",
    "print(\"Test 2:\",part2(hpos0))\n",
    "print(\"Part 2:\",part2(hpos))"
   ]
  },
  {
   "cell_type": "code",
   "execution_count": null,
   "id": "consistent-charles",
   "metadata": {},
   "outputs": [],
   "source": []
  }
 ],
 "metadata": {
  "kernelspec": {
   "display_name": "Python 3",
   "language": "python",
   "name": "python3"
  },
  "language_info": {
   "codemirror_mode": {
    "name": "ipython",
    "version": 3
   },
   "file_extension": ".py",
   "mimetype": "text/x-python",
   "name": "python",
   "nbconvert_exporter": "python",
   "pygments_lexer": "ipython3",
   "version": "3.9.9"
  }
 },
 "nbformat": 4,
 "nbformat_minor": 5
}
