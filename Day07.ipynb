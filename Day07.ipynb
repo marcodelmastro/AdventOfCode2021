{
 "cells": [
  {
   "cell_type": "markdown",
   "id": "hundred-technology",
   "metadata": {},
   "source": [
    "## Day 7\n",
    "\n",
    "https://adventofcode.com/2021/day/7"
   ]
  },
  {
   "cell_type": "code",
   "execution_count": 1,
   "id": "sticky-poultry",
   "metadata": {},
   "outputs": [],
   "source": [
    "hpos0 = [16,1,2,0,4,2,7,1,2,14]\n",
    "\n",
    "filename = \"data/input07.txt\"\n",
    "with open(filename) as f:\n",
    "    hpos = [ int(h) for h in f.readlines()[0].split(\",\") ]"
   ]
  },
  {
   "cell_type": "markdown",
   "id": "floral-contributor",
   "metadata": {},
   "source": [
    "### Brute force search"
   ]
  },
  {
   "cell_type": "code",
   "execution_count": 2,
   "id": "consistent-climb",
   "metadata": {},
   "outputs": [
    {
     "name": "stdout",
     "output_type": "stream",
     "text": [
      "Test 1: 37\n",
      "Part 1: 344138\n",
      "Test 2: 168\n",
      "Part 2: 94862124\n"
     ]
    }
   ],
   "source": [
    "def part1(hpos):\n",
    "    return min([ sum([ abs(h0-h) for h0 in hpos ]) for h in range(min(hpos),max(hpos)+1) ] )\n",
    "\n",
    "def part2(hpos):\n",
    "    return min([ sum([ ((abs(h0-h)+1)*abs(h0-h))//2 for h0 in hpos ]) for h in range(min(hpos),max(hpos)+1) ] )\n",
    "\n",
    "print(\"Test 1:\",part1(hpos0))\n",
    "print(\"Part 1:\",part1(hpos))\n",
    "print(\"Test 2:\",part2(hpos0))\n",
    "print(\"Part 2:\",part2(hpos))"
   ]
  },
  {
   "cell_type": "markdown",
   "id": "basic-rainbow",
   "metadata": {},
   "source": [
    "### Slightly better approach using sample statistical properties \n",
    "\n",
    "Reduce brute force search to +/- 1 sigma interval around sample mean"
   ]
  },
  {
   "cell_type": "code",
   "execution_count": 3,
   "id": "legendary-nylon",
   "metadata": {},
   "outputs": [
    {
     "name": "stdout",
     "output_type": "stream",
     "text": [
      "Test 1: 37\n",
      "Part 1: 344138\n",
      "Test 2: 168\n",
      "Part 2: 94862124\n"
     ]
    }
   ],
   "source": [
    "import statistics as stat\n",
    "\n",
    "def part1_1sigma(hpos):\n",
    "    mean, stdev = stat.mean(hpos), stat.stdev(hpos)\n",
    "    return min([ sum([ abs(h0-h) for h0 in hpos ]) for h in range(int(mean-stdev),int(mean+stdev)) ] )\n",
    "\n",
    "def fuel2(h1,h2):\n",
    "    dh = abs(h1-h2)\n",
    "    return ((dh+1)*dh)//2\n",
    "\n",
    "def part2_1sigma(hpos):\n",
    "    mean, stdev = stat.mean(hpos), stat.stdev(hpos)\n",
    "    return min([ sum([ fuel2(h0,h) for h0 in hpos ]) for h in range(int(mean-stdev),int(mean+stdev)) ] )\n",
    "    \n",
    "print(\"Test 1:\",part1_1sigma(hpos0))\n",
    "print(\"Part 1:\",part1_1sigma(hpos))\n",
    "print(\"Test 2:\",part2_1sigma(hpos0))\n",
    "print(\"Part 2:\",part2_1sigma(hpos))"
   ]
  },
  {
   "cell_type": "markdown",
   "id": "suitable-injury",
   "metadata": {},
   "source": [
    "### Full use of statistical properties\n",
    "\n",
    "Statistics can in principle be used to avoid brute force. For Part 1 the closer minimiser of the linear fuel cost is the median, for part 2 where the cost is quadratic it's the mean. The annoying aspect of this approach is that neither the median or the mean are integer numbers, while the respective costs need to be computed with respect to an integer reference. The correct solutions can be found by approximating \"by hand\" median and mean to a close integer..."
   ]
  },
  {
   "cell_type": "code",
   "execution_count": 4,
   "id": "consistent-charles",
   "metadata": {},
   "outputs": [
    {
     "name": "stdout",
     "output_type": "stream",
     "text": [
      "Test 1: 37\n",
      "Part 1: 344138\n",
      "Test 2: 168\n",
      "Part 2: 94862124\n"
     ]
    }
   ],
   "source": [
    "import statistics as stat\n",
    "from math import floor, ceil\n",
    "\n",
    "def part1stat(hpos):\n",
    "    median = int(stat.median(hpos))\n",
    "    return int(sum([ abs(h-median) for h in hpos ]))\n",
    "\n",
    "def part2stat(hpos):\n",
    "    mean = int(stat.mean(hpos)+0.4) # neither floor() nor ceil() give the correct result, why?\n",
    "    return int(sum([ fuel2(h,mean) for h in hpos ]))\n",
    "    \n",
    "print(\"Test 1:\",part1stat(hpos0))\n",
    "print(\"Part 1:\",part1stat(hpos))\n",
    "print(\"Test 2:\",part2stat(hpos0))\n",
    "print(\"Part 2:\",part2stat(hpos))"
   ]
  },
  {
   "cell_type": "markdown",
   "id": "suitable-colorado",
   "metadata": {},
   "source": [
    "#### Why does the best minimiser not exactly work?\n",
    "\n",
    "Indeed the best minimiser for Part 2 would be the mean - 0.5 (assuming a _real_ function for the fuel cost based on the triangular number formula, that is indeed already a stretch), but this exact resul does not produce a _integer_ fuel cost as requested by the problem!"
   ]
  },
  {
   "cell_type": "code",
   "execution_count": 26,
   "id": "printable-commerce",
   "metadata": {},
   "outputs": [],
   "source": [
    "def fuel2R(h1,h2):\n",
    "    dh = abs(h1-h2)\n",
    "    return ((dh+1.)*dh)/2.\n",
    "\n",
    "def part2statR(hpos):\n",
    "    mean = stat.mean(hpos)+0.5\n",
    "    return sum([ fuel2(h,mean) for h in hpos ])"
   ]
  },
  {
   "cell_type": "code",
   "execution_count": 27,
   "id": "experimental-label",
   "metadata": {},
   "outputs": [
    {
     "name": "stdout",
     "output_type": "stream",
     "text": [
      "Puzzle result = 94862124, true minimum = 94861682.0, difference = 442.0\n"
     ]
    }
   ],
   "source": [
    "p2I = part2stat(hpos)\n",
    "p2R = part2statR(hpos)\n",
    "print(\"Puzzle result = {}, true minimum = {}, difference = {}\".format(p2I,p2R,p2I-p2R))"
   ]
  },
  {
   "cell_type": "code",
   "execution_count": null,
   "id": "relative-spyware",
   "metadata": {},
   "outputs": [],
   "source": []
  }
 ],
 "metadata": {
  "kernelspec": {
   "display_name": "Python 3",
   "language": "python",
   "name": "python3"
  },
  "language_info": {
   "codemirror_mode": {
    "name": "ipython",
    "version": 3
   },
   "file_extension": ".py",
   "mimetype": "text/x-python",
   "name": "python",
   "nbconvert_exporter": "python",
   "pygments_lexer": "ipython3",
   "version": "3.9.9"
  }
 },
 "nbformat": 4,
 "nbformat_minor": 5
}
