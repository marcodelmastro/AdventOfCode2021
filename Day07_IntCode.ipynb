{
 "cells": [
  {
   "cell_type": "code",
   "execution_count": 21,
   "id": "initial-contract",
   "metadata": {},
   "outputs": [
    {
     "name": "stdout",
     "output_type": "stream",
     "text": [
      "Ceci n'est pas une intcode program\n"
     ]
    }
   ],
   "source": [
    "# Intcode virtual machine from AOC2019\n",
    "from AOC2019 import IntcodeV3, readIntcodeProg\n",
    "\n",
    "prog = readIntcodeProg(\"./data/input07.txt\")\n",
    "d = IntcodeV3(prog,\"DAY7\",[])\n",
    "d.runProgram()\n",
    "for i in d.output:\n",
    "    print(chr(i),end=\"\")"
   ]
  },
  {
   "cell_type": "code",
   "execution_count": null,
   "id": "therapeutic-anaheim",
   "metadata": {},
   "outputs": [],
   "source": []
  }
 ],
 "metadata": {
  "kernelspec": {
   "display_name": "Python 3",
   "language": "python",
   "name": "python3"
  },
  "language_info": {
   "codemirror_mode": {
    "name": "ipython",
    "version": 3
   },
   "file_extension": ".py",
   "mimetype": "text/x-python",
   "name": "python",
   "nbconvert_exporter": "python",
   "pygments_lexer": "ipython3",
   "version": "3.9.9"
  }
 },
 "nbformat": 4,
 "nbformat_minor": 5
}
