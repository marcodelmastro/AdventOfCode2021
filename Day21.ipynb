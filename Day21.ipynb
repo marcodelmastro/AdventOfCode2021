{
 "cells": [
  {
   "cell_type": "markdown",
   "id": "unique-legislature",
   "metadata": {},
   "source": [
    "## Day 21\n",
    "\n",
    "https://adventofcode.com/2021/day/21"
   ]
  },
  {
   "cell_type": "code",
   "execution_count": 254,
   "id": "assured-fellow",
   "metadata": {},
   "outputs": [],
   "source": [
    "def detDie():\n",
    "    roll = 1\n",
    "    while True:\n",
    "        yield roll\n",
    "        roll = roll % 100 + 1\n",
    "\n",
    "def matchDeterministic(board):\n",
    "    score = [0,0]\n",
    "    die = detDie()\n",
    "    nrolls = 0\n",
    "    p = 0\n",
    "    while max(score)<1000:\n",
    "        # roll dice 3 times\n",
    "        dieTrows = sum([ next(die) for _ in range(3) ])\n",
    "        nrolls += 3\n",
    "        # move on board, increase score accordingly\n",
    "        board[p] = ( board[p] + dieTrows -1 ) % 10 + 1\n",
    "        score[p] += board[p]\n",
    "        # change player\n",
    "        p = (p+1)%2\n",
    "    return nrolls*min(score)"
   ]
  },
  {
   "cell_type": "code",
   "execution_count": 255,
   "id": "multiple-helen",
   "metadata": {},
   "outputs": [
    {
     "data": {
      "text/plain": [
       "739785"
      ]
     },
     "execution_count": 255,
     "metadata": {},
     "output_type": "execute_result"
    }
   ],
   "source": [
    "# Player 1 starting position: 4\n",
    "# Player 2 starting position: 8\n",
    "board = [4,8]\n",
    "matchDeterministic(board)"
   ]
  },
  {
   "cell_type": "code",
   "execution_count": 256,
   "id": "collective-calvin",
   "metadata": {},
   "outputs": [
    {
     "data": {
      "text/plain": [
       "916083"
      ]
     },
     "execution_count": 256,
     "metadata": {},
     "output_type": "execute_result"
    }
   ],
   "source": [
    "# Player 1 starting position: 10\n",
    "# Player 2 starting position: 2\n",
    "board = [10,2]\n",
    "matchDeterministic(board)"
   ]
  },
  {
   "cell_type": "code",
   "execution_count": 257,
   "id": "american-pattern",
   "metadata": {},
   "outputs": [],
   "source": [
    "from itertools import product\n",
    "from functools import lru_cache\n",
    "\n",
    "@lru_cache(maxsize=None)\n",
    "def matchDirac(board_,score_,p):\n",
    "    win = [0,0]\n",
    "    \n",
    "    # all possibilities for the 3 trows of current player\n",
    "    for trows in product([1,2,3],repeat=3):\n",
    "        \n",
    "        dieTrows = sum(trows)\n",
    "        \n",
    "        # local mutable copies of board and score for current trow sequence\n",
    "        board = list(board_)\n",
    "        score = list(score_)\n",
    "        \n",
    "        board[p] = ( board[p] + dieTrows -1 ) % 10 + 1\n",
    "        score[p] += board[p]\n",
    "\n",
    "        if score[p]>=21:\n",
    "            win[p] += 1\n",
    "        else:\n",
    "            pnew = (p+1)%2 # don't reuse p since the trow possibility for current player might not be exhausted!\n",
    "            # pass board and score to next universe/player as unmutable\n",
    "            theWin = matchDirac(tuple(board),tuple(score),pnew)\n",
    "            for i in range(2):\n",
    "                win[i] += theWin[i]\n",
    "\n",
    "    return win"
   ]
  },
  {
   "cell_type": "code",
   "execution_count": 258,
   "id": "spatial-exposure",
   "metadata": {
    "scrolled": false
   },
   "outputs": [
    {
     "data": {
      "text/plain": [
       "[444356092776315, 341960390180808]"
      ]
     },
     "execution_count": 258,
     "metadata": {},
     "output_type": "execute_result"
    }
   ],
   "source": [
    "# player 1 wins in 444356092776315\n",
    "# player 2 wins in 341960390180808\n",
    "\n",
    "board = [4,8]\n",
    "score = [0,0]\n",
    "matchDirac(tuple(board),tuple(score),0) # use tuple() since list are not hashable and I'm using caching"
   ]
  },
  {
   "cell_type": "code",
   "execution_count": 259,
   "id": "considerable-blackberry",
   "metadata": {},
   "outputs": [
    {
     "name": "stdout",
     "output_type": "stream",
     "text": [
      "[49982165861983, 36086577212020] 49982165861983\n"
     ]
    }
   ],
   "source": [
    "board = [10,2]\n",
    "score = [0,0]\n",
    "win = matchDirac(tuple(board),tuple(score),0)\n",
    "print(win, max(win))"
   ]
  },
  {
   "cell_type": "code",
   "execution_count": 263,
   "id": "weighted-queen",
   "metadata": {},
   "outputs": [],
   "source": [
    "# since the sum of all possible 3 trows is not unique, \n",
    "# I can speed up even further by grouping the universes by trow sum\n",
    "\n",
    "from collections import Counter\n",
    "\n",
    "sumTrows = [ sum(trows) for trows in product([1, 2, 3], repeat=3) ]\n",
    "sumTrowCount = Counter(sumTrows)\n",
    "\n",
    "@lru_cache(maxsize=None)\n",
    "def matchDiracBetter(board_,score_,p):\n",
    "    win = [0,0]\n",
    "    \n",
    "    for dieTrows,counts in sumTrowCount.items():\n",
    "        \n",
    "        # local copies of board and score for trow sequence\n",
    "        board = list(board_)\n",
    "        score = list(score_)\n",
    "        \n",
    "        board[p] = ( board[p] + dieTrows -1 ) % 10 + 1\n",
    "        score[p] += board[p]\n",
    "\n",
    "        if score[p]>=21:\n",
    "            win[p] += counts\n",
    "        else:\n",
    "            pnew = (p+1)%2\n",
    "            theWin = matchDiracBetter(tuple(board),tuple(score),pnew)\n",
    "            for i in range(2):\n",
    "                win[i] += theWin[i]*counts\n",
    "\n",
    "    return win"
   ]
  },
  {
   "cell_type": "code",
   "execution_count": 264,
   "id": "productive-appeal",
   "metadata": {},
   "outputs": [
    {
     "data": {
      "text/plain": [
       "[444356092776315, 341960390180808]"
      ]
     },
     "execution_count": 264,
     "metadata": {},
     "output_type": "execute_result"
    }
   ],
   "source": [
    "board = [4,8]\n",
    "score = [0,0]\n",
    "matchDiracBetter(tuple(board),tuple(score),0)"
   ]
  },
  {
   "cell_type": "code",
   "execution_count": 265,
   "id": "fluid-funds",
   "metadata": {},
   "outputs": [
    {
     "name": "stdout",
     "output_type": "stream",
     "text": [
      "[49982165861983, 36086577212020] 49982165861983\n"
     ]
    }
   ],
   "source": [
    "board = [10,2]\n",
    "score = [0,0]\n",
    "win = matchDiracBetter(tuple(board),tuple(score),0)\n",
    "print(win, max(win))"
   ]
  },
  {
   "cell_type": "code",
   "execution_count": null,
   "id": "structural-devil",
   "metadata": {},
   "outputs": [],
   "source": []
  }
 ],
 "metadata": {
  "kernelspec": {
   "display_name": "Python 3",
   "language": "python",
   "name": "python3"
  },
  "language_info": {
   "codemirror_mode": {
    "name": "ipython",
    "version": 3
   },
   "file_extension": ".py",
   "mimetype": "text/x-python",
   "name": "python",
   "nbconvert_exporter": "python",
   "pygments_lexer": "ipython3",
   "version": "3.9.9"
  }
 },
 "nbformat": 4,
 "nbformat_minor": 5
}
