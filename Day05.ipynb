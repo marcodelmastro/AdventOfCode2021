{
 "cells": [
  {
   "cell_type": "markdown",
   "id": "conditional-reason",
   "metadata": {},
   "source": [
    "## Day 5\n",
    "\n",
    "https://adventofcode.com/2021/day/5"
   ]
  },
  {
   "cell_type": "code",
   "execution_count": 15,
   "id": "engaged-occupation",
   "metadata": {},
   "outputs": [],
   "source": [
    "def readInput5(filename):\n",
    "    with open(filename) as f:\n",
    "        return [ [ tuple([ int(d) for d in c.split(\",\")])  for c in l.strip(\"\\n\").split(\" -> \") ] for l in f.readlines() ]"
   ]
  },
  {
   "cell_type": "markdown",
   "id": "jewish-watts",
   "metadata": {},
   "source": [
    "### Part 1"
   ]
  },
  {
   "cell_type": "code",
   "execution_count": 125,
   "id": "fitted-magazine",
   "metadata": {},
   "outputs": [
    {
     "name": "stdout",
     "output_type": "stream",
     "text": [
      "Test 1: 5\n",
      "Part 1: 5632\n"
     ]
    }
   ],
   "source": [
    "def line(X1,X2):\n",
    "    (x1,y1) = X1\n",
    "    (x2,y2) = X2\n",
    "    if y1==y2: # horizontal\n",
    "        x1,x2 = min(x1,x2),max(x1,x2)\n",
    "        return [ (x,y1) for x in range(x1,x2+1) ]\n",
    "    elif x1==x2: # vertical\n",
    "        y1,y2 = min(y1,y2),max(y1,y2)\n",
    "        return [ (x1,y) for y in range(y1,y2+1) ]\n",
    "    return\n",
    "\n",
    "from collections import defaultdict\n",
    "\n",
    "def part1(vents):\n",
    "    diagram = defaultdict(lambda: 0)\n",
    "    for X1,X2 in vents:\n",
    "        (x1,y1) = X1\n",
    "        (x2,y2) = X2\n",
    "        # only consider horizontal and vertical lines: lines where either x1 = x2 or y1 = y2.\n",
    "        if x1!=x2 and y1!=y2:\n",
    "            continue\n",
    "        for X in line(X1,X2):\n",
    "            diagram[X] += 1\n",
    "    return sum([ 1 if diagram[X]>1 else 0 for X in diagram.keys() ])\n",
    "\n",
    "vents0 = readInput5(\"data/day05test1.txt\")\n",
    "vents = readInput5(\"data/input05.txt\")\n",
    "\n",
    "print(\"Test 1:\",part1(vents0))\n",
    "print(\"Part 1:\",part1(vents))"
   ]
  },
  {
   "cell_type": "markdown",
   "id": "urban-faith",
   "metadata": {},
   "source": [
    "### Part 2"
   ]
  },
  {
   "cell_type": "code",
   "execution_count": 127,
   "id": "breeding-nashville",
   "metadata": {},
   "outputs": [
    {
     "name": "stdout",
     "output_type": "stream",
     "text": [
      "Test 2: 12\n",
      "Part 2: 22213\n"
     ]
    }
   ],
   "source": [
    "import math\n",
    "\n",
    "def diag(X1,X2):\n",
    "    (x1,y1) = X1\n",
    "    (x2,y2) = X2\n",
    "    dx = int((x2-x1)/abs(x2-x1))\n",
    "    dy = int((y2-y1)/abs(y2-y1))\n",
    "    return [ (x,y) for x,y in zip(range(x1,x2+dx,dx),range(y1,y2+dy,dy)) ]\n",
    "\n",
    "def part2(vents):\n",
    "    diagram = defaultdict(lambda: 0)\n",
    "    for X1,X2 in vents:\n",
    "        (x1,y1) = X1\n",
    "        (x2,y2) = X2\n",
    "        cells = []\n",
    "        if x1!=x2 and y1!=y2:\n",
    "            cells = diag(X1,X2)\n",
    "        else:\n",
    "            cells = line(X1,X2)\n",
    "        for X in cells:\n",
    "            diagram[X] += 1\n",
    "    return sum([ 1 if diagram[X]>1 else 0 for X in diagram.keys() ])\n",
    "\n",
    "print(\"Test 2:\",part2(vents0))\n",
    "print(\"Part 2:\",part2(vents))"
   ]
  },
  {
   "cell_type": "code",
   "execution_count": null,
   "id": "pediatric-intro",
   "metadata": {},
   "outputs": [],
   "source": []
  }
 ],
 "metadata": {
  "kernelspec": {
   "display_name": "Python 3",
   "language": "python",
   "name": "python3"
  },
  "language_info": {
   "codemirror_mode": {
    "name": "ipython",
    "version": 3
   },
   "file_extension": ".py",
   "mimetype": "text/x-python",
   "name": "python",
   "nbconvert_exporter": "python",
   "pygments_lexer": "ipython3",
   "version": "3.9.9"
  }
 },
 "nbformat": 4,
 "nbformat_minor": 5
}
