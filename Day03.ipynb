{
 "cells": [
  {
   "cell_type": "markdown",
   "id": "proud-survival",
   "metadata": {},
   "source": [
    "## Day 3\n",
    "\n",
    "https://adventofcode.com/2021/day/3"
   ]
  },
  {
   "cell_type": "code",
   "execution_count": 1,
   "id": "welcome-update",
   "metadata": {},
   "outputs": [],
   "source": [
    "import numpy as np\n",
    "\n",
    "def readInput3(filename):\n",
    "    with open(filename) as f:\n",
    "        return np.array([ [ int(n) for n in list(l.strip(\"\\n\")) ] for l in f.readlines() ])\n",
    "    \n",
    "l0 = readInput3(\"data/day03test1.txt\")\n",
    "l = readInput3(\"data/input03.txt\")"
   ]
  },
  {
   "cell_type": "markdown",
   "id": "restricted-closure",
   "metadata": {},
   "source": [
    "### Part 1"
   ]
  },
  {
   "cell_type": "code",
   "execution_count": 2,
   "id": "fitting-firmware",
   "metadata": {},
   "outputs": [
    {
     "name": "stdout",
     "output_type": "stream",
     "text": [
      "198\n",
      "2250414\n"
     ]
    }
   ],
   "source": [
    "def part1(l):\n",
    "    b = \"\".join( [ str(int(sum(r)>len(r)-sum(r))) for r in np.flipud(np.rot90(l)) ] )\n",
    "    c = \"\".join([ \"0\" if _b==\"1\" else \"1\" for _b in b]) # poor man bit inversion :-)\n",
    "    return int(b,2) * int(c,2)\n",
    "\n",
    "print(part1(l0))\n",
    "print(part1(l))"
   ]
  },
  {
   "cell_type": "markdown",
   "id": "adopted-naples",
   "metadata": {},
   "source": [
    "### Part 2"
   ]
  },
  {
   "cell_type": "code",
   "execution_count": 5,
   "id": "saving-administrator",
   "metadata": {},
   "outputs": [
    {
     "name": "stdout",
     "output_type": "stream",
     "text": [
      "230\n",
      "6085575\n"
     ]
    }
   ],
   "source": [
    "def part2(li):\n",
    "    i = 0\n",
    "    l = np.copy(li)\n",
    "    while True:\n",
    "        b = [ int(sum(r)>=len(r)-sum(r)) for r in np.flipud(np.rot90(l)) ]\n",
    "        l = np.array([ list(r) for r in l if r[i]==b[i] ])\n",
    "        if (len(l)==1):\n",
    "            break\n",
    "        i += 1\n",
    "    oxy = int(\"\".join([ str(i) for i in l[0] ]),2)\n",
    "    i = 0\n",
    "    l = np.copy(li)\n",
    "    while True:\n",
    "        b = [ int(sum(r)<len(r)-sum(r)) for r in np.flipud(np.rot90(l)) ]\n",
    "        l = np.array([ list(r) for r in l if r[i]==b[i] ])\n",
    "        if (len(l)==1):\n",
    "            break\n",
    "        i += 1\n",
    "    CO2 = int(\"\".join([ str(i) for i in l[0] ]),2)\n",
    "    return oxy*CO2\n",
    "\n",
    "print(part2(l0))\n",
    "print(part2(l))"
   ]
  },
  {
   "cell_type": "code",
   "execution_count": null,
   "id": "million-ocean",
   "metadata": {},
   "outputs": [],
   "source": []
  }
 ],
 "metadata": {
  "kernelspec": {
   "display_name": "Python 3",
   "language": "python",
   "name": "python3"
  },
  "language_info": {
   "codemirror_mode": {
    "name": "ipython",
    "version": 3
   },
   "file_extension": ".py",
   "mimetype": "text/x-python",
   "name": "python",
   "nbconvert_exporter": "python",
   "pygments_lexer": "ipython3",
   "version": "3.9.9"
  }
 },
 "nbformat": 4,
 "nbformat_minor": 5
}
