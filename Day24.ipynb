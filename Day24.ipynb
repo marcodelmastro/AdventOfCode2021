{
 "cells": [
  {
   "cell_type": "markdown",
   "id": "unable-chrome",
   "metadata": {},
   "source": [
    "# Day 24\n",
    "\n",
    "https://adventofcode.com/2021/day/24"
   ]
  },
  {
   "cell_type": "code",
   "execution_count": 163,
   "id": "located-sunrise",
   "metadata": {},
   "outputs": [],
   "source": [
    "def readInput24(filename):\n",
    "    with open(filename) as f:\n",
    "        return [ l.split(\" \") for l in f.read().strip('\\n').split('\\n') ]"
   ]
  },
  {
   "cell_type": "code",
   "execution_count": 164,
   "id": "impressed-florist",
   "metadata": {},
   "outputs": [],
   "source": [
    "class ALU:\n",
    "    def __init__(self):\n",
    "        self.v = {}\n",
    "        self.v['w'] = 0\n",
    "        self.v['x'] = 0 \n",
    "        self.v['y'] = 0\n",
    "        self.v['z'] = 0\n",
    "        \n",
    "    def loadInputs(self,inputs):\n",
    "        self.inputs = inputs\n",
    "        self.index = 0\n",
    "      \n",
    "    def loadProg(self,prog):\n",
    "        self.prog = prog\n",
    "    \n",
    "    def inp(self,a):\n",
    "        self.v[a] = self.inputs[self.index]\n",
    "        self.index += 1\n",
    "    \n",
    "    def add(self,a,b):\n",
    "        try:\n",
    "            self.v[a] += int(b)\n",
    "        except:\n",
    "            self.v[a] += self.v[b]\n",
    "    \n",
    "    def mul(self,a,b):\n",
    "        try:\n",
    "            self.v[a] *= int(b)\n",
    "        except:\n",
    "            self.v[a] *= self.v[b]\n",
    "            \n",
    "    def div(self,a,b):\n",
    "        try:\n",
    "            self.v[a] //= int(b)\n",
    "        except:\n",
    "            self.v[a] //= self.v[b]\n",
    "            \n",
    "    def mod(self,a,b):\n",
    "        try:\n",
    "            self.v[a] %= int(b)\n",
    "        except:\n",
    "            self.v[a] %= self.v[b]   \n",
    "            \n",
    "    def eql(self,a,b):\n",
    "        try:\n",
    "            self.v[a] = int( self.v[a]==int(b) )\n",
    "        except:\n",
    "            self.v[a] = int( self.v[a]==self.v[b] )\n",
    "    \n",
    "    operation = {\n",
    "        'inp': inp,\n",
    "        'add': add,\n",
    "        'mul': mul,\n",
    "        'div': div,\n",
    "        'mod': mod,\n",
    "        'eql': eql,\n",
    "    }\n",
    "    \n",
    "    def run(self,j=0,verbose=False):\n",
    "        while True:\n",
    "            p = self.prog[j]\n",
    "            if verbose:\n",
    "                print(p)\n",
    "            if p[0]=='inp':\n",
    "                 ALU.operation[p[0]](self,p[1])\n",
    "            else:\n",
    "                ALU.operation[p[0]](self,p[1],p[2])\n",
    "            j += 1\n",
    "            if j>=len(self.prog):\n",
    "                break"
   ]
  },
  {
   "cell_type": "code",
   "execution_count": 165,
   "id": "unlikely-listening",
   "metadata": {},
   "outputs": [
    {
     "name": "stdout",
     "output_type": "stream",
     "text": [
      "-1\n"
     ]
    }
   ],
   "source": [
    "prog = readInput24(\"data/day24test1.txt\")\n",
    "\n",
    "alu = ALU()\n",
    "alu.loadProg(prog)\n",
    "alu.loadInputs([1])\n",
    "alu.run()\n",
    "print(alu.v['x'])"
   ]
  },
  {
   "cell_type": "code",
   "execution_count": 166,
   "id": "trying-removal",
   "metadata": {},
   "outputs": [
    {
     "name": "stdout",
     "output_type": "stream",
     "text": [
      "0\n",
      "1\n"
     ]
    }
   ],
   "source": [
    "prog = readInput24(\"data/day24test2.txt\")\n",
    "\n",
    "alu = ALU()\n",
    "alu.loadProg(prog)\n",
    "alu.loadInputs([1,2])\n",
    "alu.run()\n",
    "print(alu.v['z'])\n",
    "\n",
    "alu.loadInputs([1,3])\n",
    "alu.run()\n",
    "print(alu.v['z'])"
   ]
  },
  {
   "cell_type": "code",
   "execution_count": 167,
   "id": "regular-bridge",
   "metadata": {},
   "outputs": [
    {
     "name": "stdout",
     "output_type": "stream",
     "text": [
      "5427581560\n"
     ]
    }
   ],
   "source": [
    "prog = readInput24(\"data/input24.txt\")\n",
    "\n",
    "serial = \"13579246899999\"\n",
    "\n",
    "inputs = [ int(c) for c in list(serial) ] \n",
    "\n",
    "alu = ALU()\n",
    "alu.loadProg(prog)\n",
    "alu.loadInputs(inputs)\n",
    "alu.run()\n",
    "print(alu.v['z'])"
   ]
  },
  {
   "cell_type": "markdown",
   "id": "formal-girlfriend",
   "metadata": {},
   "source": [
    "### Implementing ALU as sequence of sub-programs\n",
    "\n",
    "Each subprogram runs on a digit starting from a given state left from previous part of program."
   ]
  },
  {
   "cell_type": "code",
   "execution_count": 6,
   "id": "arabic-harvey",
   "metadata": {},
   "outputs": [],
   "source": [
    "prog = readInput24(\"data/input24.txt\")\n",
    "\n",
    "# separate program sections acting on different digits\n",
    "progDigit = []\n",
    "l = 18\n",
    "for d in range(14):\n",
    "    progDigit.append(prog[d*l:(d+1)*l])"
   ]
  },
  {
   "cell_type": "code",
   "execution_count": 100,
   "id": "optimum-intelligence",
   "metadata": {},
   "outputs": [
    {
     "data": {
      "text/plain": [
       "(5427581560, 5427581560)"
      ]
     },
     "execution_count": 100,
     "metadata": {},
     "output_type": "execute_result"
    }
   ],
   "source": [
    "alu = ALU()\n",
    "\n",
    "def Z(d=0,i=9,v=(0,0,0,0)):\n",
    "    # load previous status on registers\n",
    "    alu.v['w'] = v[0]\n",
    "    alu.v['x'] = v[1]\n",
    "    alu.v['y'] = v[2]\n",
    "    alu.v['z'] = v[3]\n",
    "    # load subprogram corresponding to current digit\n",
    "    alu.loadProg(progDigit[d])\n",
    "    # load input digit value\n",
    "    alu.loadInputs([i])\n",
    "    alu.run()\n",
    "    return (alu.v['w'],alu.v['x'],alu.v['y'],alu.v['z'])\n",
    "\n",
    "def MONADcache(digits):\n",
    "    v = (0,0,0,0)\n",
    "    for i in range(14):\n",
    "        v = Z(i,digits[i],v)\n",
    "    return v[3]\n",
    "\n",
    "def MONAD(digits):\n",
    "    alu = ALU()\n",
    "    alu.loadProg(prog)\n",
    "    alu.loadInputs(digits)\n",
    "    alu.run()\n",
    "    return alu.v['z']\n",
    "\n",
    "digits = [9,9,9,9,1,9,9,9,9,9,7,9,9,9]\n",
    "\n",
    "MONAD(inputs), MONADcache(inputs)"
   ]
  },
  {
   "cell_type": "markdown",
   "id": "harmful-valve",
   "metadata": {},
   "source": [
    "### Reverse-engineering instruction blocks\n",
    "\n",
    "Each instruction block uses the same set of operations with the current digit and the `z` register value as input (starting from 0), and different \"constants\" used by the operations:"
   ]
  },
  {
   "cell_type": "code",
   "execution_count": 168,
   "id": "approved-check",
   "metadata": {},
   "outputs": [
    {
     "data": {
      "text/plain": [
       "[['inp', 'w'],\n",
       " ['mul', 'x', '0'],\n",
       " ['add', 'x', 'z'],\n",
       " ['mod', 'x', '26'],\n",
       " ['div', 'z', '26'],\n",
       " ['add', 'x', '-5'],\n",
       " ['eql', 'x', 'w'],\n",
       " ['eql', 'x', '0'],\n",
       " ['mul', 'y', '0'],\n",
       " ['add', 'y', '25'],\n",
       " ['mul', 'y', 'x'],\n",
       " ['add', 'y', '1'],\n",
       " ['mul', 'z', 'y'],\n",
       " ['mul', 'y', '0'],\n",
       " ['add', 'y', 'w'],\n",
       " ['add', 'y', '12'],\n",
       " ['mul', 'y', 'x'],\n",
       " ['add', 'z', 'y']]"
      ]
     },
     "execution_count": 168,
     "metadata": {},
     "output_type": "execute_result"
    }
   ],
   "source": [
    "progDigit[3]"
   ]
  },
  {
   "cell_type": "code",
   "execution_count": 8,
   "id": "reserved-trigger",
   "metadata": {},
   "outputs": [
    {
     "data": {
      "text/plain": [
       "([1, 1, 1, 26, 26, 1, 1, 26, 1, 1, 26, 26, 26, 26],\n",
       " [11, 12, 13, -5, -3, 14, 15, -16, 14, 15, -7, -11, -6, -11],\n",
       " [16, 11, 12, 12, 12, 2, 11, 4, 12, 9, 10, 11, 6, 15])"
      ]
     },
     "execution_count": 8,
     "metadata": {},
     "output_type": "execute_result"
    }
   ],
   "source": [
    "a = [ int(progDigit[i][4][2])  for i in range(14) ]\n",
    "b = [ int(progDigit[i][5][2])  for i in range(14) ]\n",
    "c = [ int(progDigit[i][15][2]) for i in range(14) ]\n",
    "\n",
    "a, b, c"
   ]
  },
  {
   "cell_type": "code",
   "execution_count": 56,
   "id": "variable-sense",
   "metadata": {},
   "outputs": [
    {
     "data": {
      "text/plain": [
       "(5427581560, 5427581560)"
      ]
     },
     "execution_count": 56,
     "metadata": {},
     "output_type": "execute_result"
    }
   ],
   "source": [
    "def progBlock_(z, w, a, b, c):\n",
    "    # a = 1 or 26\n",
    "    # b = constant added to x register\n",
    "    # c = constant added to y register\n",
    "    znext = z//a\n",
    "    if w==(z%26+b): # x=0\n",
    "        return znext\n",
    "    else: # x=1\n",
    "        return 26*znext + w+c\n",
    "\n",
    "def progBlock(z, w, i):\n",
    "    # a = 1 or 26\n",
    "    # b = constant added to x register\n",
    "    # c = constant added to y register\n",
    "    znext = z//a[i]\n",
    "    if w==(z%26+b[i]): # x=0\n",
    "        return znext\n",
    "    else: # x=1\n",
    "        return 26*znext+w+c[i]\n",
    "\n",
    "def MONADblocks(digits):\n",
    "    z = 0\n",
    "    for i in range(14):\n",
    "        z = progBlock(z,digits[i],i)\n",
    "    return z\n",
    "\n",
    "MONAD(inputs), MONADblocks(inputs)"
   ]
  },
  {
   "cell_type": "markdown",
   "id": "ambient-phone",
   "metadata": {},
   "source": [
    "### Tracking intermediate state of `z` register to reduce search space\n",
    "\n",
    "Given the repetitive form of the various algorythm blocks, I suspect the intermediate states of the register `z`  will repeat themselves, so I probably don't need to compute $9^{14}$ combinations to brute force the solution, but a (hopefully very much) reduced set (it works!!).\n",
    "\n",
    "Saving list of `w,z` values prodicing a given new state of the `z` register to allow a \"back-navigation\" to build the solution from last digit."
   ]
  },
  {
   "cell_type": "code",
   "execution_count": 139,
   "id": "dutch-batch",
   "metadata": {},
   "outputs": [
    {
     "name": "stdout",
     "output_type": "stream",
     "text": [
      "Digit  0 ... unique z states: 9 \n",
      "Digit  1 ... unique z states: 81 \n",
      "Digit  2 ... unique z states: 729 \n",
      "Digit  3 ... unique z states: 810 \n",
      "Digit  4 ... unique z states: 819 \n",
      "Digit  5 ... unique z states: 7371 \n",
      "Digit  6 ... unique z states: 66339 \n",
      "Digit  7 ... unique z states: 73710 \n",
      "Digit  8 ... unique z states: 663390 \n",
      "Digit  9 ... unique z states: 5970510 \n",
      "Digit 10 ... unique z states: 6582303 \n",
      "Digit 11 ... unique z states: 6700239 \n",
      "Digit 12 ... unique z states: 7035786 \n",
      "Digit 13 ... unique z states: 6862772 \n"
     ]
    }
   ],
   "source": [
    "from collections import defaultdict\n",
    "zMap = []\n",
    "zMap.append(defaultdict(list))\n",
    "zMap[0][0] = []\n",
    "\n",
    "for i in range(14):\n",
    "    print(\"Digit {:2d} ... \".format(i),end=\"\")\n",
    "    zMapNext = defaultdict(list)\n",
    "    for z in zMap[i].keys():\n",
    "        for w in range(1,10):\n",
    "            zNext = progBlock(z,w,i)\n",
    "            zMapNext[zNext].append((w,z)) # saving w,z to allow back-navigation to \"build\" the solution from last digit\n",
    "    print(\"unique z states: {} \".format(len(zMapNext.keys())))\n",
    "    zMap.append(zMapNext)"
   ]
  },
  {
   "cell_type": "code",
   "execution_count": 159,
   "id": "paperback-circulation",
   "metadata": {},
   "outputs": [
    {
     "name": "stdout",
     "output_type": "stream",
     "text": [
      "Digit 14 = 9 -> previous z value = 20\n",
      "Digit 13 = 5 -> previous z value = 531\n",
      "Digit 12 = 9 -> previous z value = 13826\n",
      "Digit 11 = 9 -> previous z value = 359492\n",
      "Digit 10 = 7 -> previous z value = 13826\n",
      "Digit  9 = 8 -> previous z value = 531\n",
      "Digit  8 = 4 -> previous z value = 13826\n",
      "Digit  7 = 9 -> previous z value = 531\n",
      "Digit  6 = 9 -> previous z value = 20\n",
      "Digit  5 = 9 -> previous z value = 532\n",
      "Digit  4 = 9 -> previous z value = 13846\n",
      "Digit  3 = 2 -> previous z value = 532\n",
      "Digit  2 = 1 -> previous z value = 20\n",
      "Digit  1 = 4 -> previous z value = 0\n",
      "\n",
      "Part 1: 41299994879959\n"
     ]
    }
   ],
   "source": [
    "digits = []\n",
    "ztarget = 0\n",
    "for i in range(14,0,-1):\n",
    "    dmax,zmax = max(zMap[i][ztarget])\n",
    "    digits.append(dmax)\n",
    "    print(\"Digit {:2d} = {} -> previous z value = {}\".format(i,dmax,zmax))\n",
    "    ztarget = zmax\n",
    "digits = digits[::-1]\n",
    "\n",
    "print(\"\\nPart 1:\",\"\".join([str(d) for d in digits]))"
   ]
  },
  {
   "cell_type": "code",
   "execution_count": 161,
   "id": "inappropriate-defeat",
   "metadata": {},
   "outputs": [
    {
     "name": "stdout",
     "output_type": "stream",
     "text": [
      "Digit 14 = 6 -> previous z value = 17\n",
      "Digit 13 = 1 -> previous z value = 449\n",
      "Digit 12 = 2 -> previous z value = 11687\n",
      "Digit 11 = 3 -> previous z value = 303872\n",
      "Digit 10 = 1 -> previous z value = 11687\n",
      "Digit  9 = 1 -> previous z value = 449\n",
      "Digit  8 = 1 -> previous z value = 11691\n",
      "Digit  7 = 6 -> previous z value = 449\n",
      "Digit  6 = 5 -> previous z value = 17\n",
      "Digit  5 = 9 -> previous z value = 454\n",
      "Digit  4 = 8 -> previous z value = 11817\n",
      "Digit  3 = 1 -> previous z value = 454\n",
      "Digit  2 = 1 -> previous z value = 17\n",
      "Digit  1 = 1 -> previous z value = 0\n",
      "\n",
      "Part 2: 11189561113216\n"
     ]
    }
   ],
   "source": [
    "digits = []\n",
    "ztarget = 0\n",
    "for i in range(14,0,-1):\n",
    "    dmin,zmin = min(zMap[i][ztarget])\n",
    "    digits.append(dmin)\n",
    "    print(\"Digit {:2d} = {} -> previous z value = {}\".format(i,dmin,zmin))\n",
    "    ztarget = zmin\n",
    "digits = digits[::-1]\n",
    "\n",
    "print(\"\\nPart 2:\",\"\".join([str(d) for d in digits]))"
   ]
  },
  {
   "cell_type": "code",
   "execution_count": null,
   "id": "heated-footage",
   "metadata": {},
   "outputs": [],
   "source": []
  }
 ],
 "metadata": {
  "kernelspec": {
   "display_name": "Python 3",
   "language": "python",
   "name": "python3"
  },
  "language_info": {
   "codemirror_mode": {
    "name": "ipython",
    "version": 3
   },
   "file_extension": ".py",
   "mimetype": "text/x-python",
   "name": "python",
   "nbconvert_exporter": "python",
   "pygments_lexer": "ipython3",
   "version": "3.9.9"
  }
 },
 "nbformat": 4,
 "nbformat_minor": 5
}
