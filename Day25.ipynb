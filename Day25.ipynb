{
 "cells": [
  {
   "cell_type": "markdown",
   "id": "proof-crack",
   "metadata": {},
   "source": [
    "\n",
    "## Day 25\n",
    "\n",
    "https://adventofcode.com/2021/day/25"
   ]
  },
  {
   "cell_type": "code",
   "execution_count": 1,
   "id": "offensive-truck",
   "metadata": {},
   "outputs": [],
   "source": [
    "def readInput25(filename):\n",
    "    with open(filename) as f:\n",
    "        return [ list(l) for l in f.read().strip('\\n').split('\\n') ] \n",
    "\n",
    "def printMap(t):\n",
    "    for l in t:\n",
    "        print(\"\".join(l))"
   ]
  },
  {
   "cell_type": "code",
   "execution_count": 2,
   "id": "written-terrorist",
   "metadata": {},
   "outputs": [],
   "source": [
    "def step(t):\n",
    "    \n",
    "    moves = 0\n",
    "    \n",
    "    for y in range(len(t)):\n",
    "        r0 = list(t[y])\n",
    "        x = 0\n",
    "        while x<len(t[0]):\n",
    "            if t[y][x]==\">\" and t[y][(x+1)%len(t[0])]==\".\":\n",
    "                r0[x]=\".\"\n",
    "                r0[(x+1)%len(t[0])]=\">\"\n",
    "                x += 2\n",
    "                moves += 1\n",
    "            else:\n",
    "                r0[x] = t[y][x]\n",
    "                x += 1\n",
    "        t[y] = r0\n",
    "        \n",
    "    for x in range(len(t[0])):\n",
    "        c0 = [ t[y][x] for y in range(len(t)) ]\n",
    "        y = 0\n",
    "        while y<len(t):\n",
    "            if t[y][x]==\"v\" and t[(y+1)%len(t)][x]==\".\":\n",
    "                c0[y]=\".\"\n",
    "                c0[(y+1)%len(t)]=\"v\"\n",
    "                y += 2\n",
    "                moves += 1\n",
    "            else:\n",
    "                c0[y] = t[y][x]\n",
    "                y += 1\n",
    "        for y in range(len(t)):\n",
    "            t[y][x] = c0[y]\n",
    "            \n",
    "    return moves"
   ]
  },
  {
   "cell_type": "code",
   "execution_count": 3,
   "id": "golden-loading",
   "metadata": {},
   "outputs": [
    {
     "name": "stdout",
     "output_type": "stream",
     "text": [
      "Initial state:\n",
      "...>...\n",
      ".......\n",
      "......>\n",
      "v.....>\n",
      "......>\n",
      ".......\n",
      "..vvv..\n",
      "\n",
      "After 1 steps:\n",
      "..vv>..\n",
      ".......\n",
      ">......\n",
      "v.....>\n",
      ">......\n",
      ".......\n",
      "....v..\n",
      "\n",
      "After 2 steps:\n",
      "....v>.\n",
      "..vv...\n",
      ".>.....\n",
      "......>\n",
      "v>.....\n",
      ".......\n",
      ".......\n",
      "\n",
      "After 3 steps:\n",
      "......>\n",
      "..v.v..\n",
      "..>v...\n",
      ">......\n",
      "..>....\n",
      "v......\n",
      ".......\n",
      "\n",
      "After 4 steps:\n",
      ">......\n",
      "..v....\n",
      "..>.v..\n",
      ".>.v...\n",
      "...>...\n",
      ".......\n",
      "v......\n",
      "\n"
     ]
    }
   ],
   "source": [
    "t0 = readInput25(\"data/day25test0.txt\")\n",
    "\n",
    "print(\"Initial state:\")\n",
    "printMap(t0)\n",
    "print()\n",
    "\n",
    "for s in range(4):\n",
    "    step(t0)\n",
    "    print(\"After {} steps:\".format(s+1))\n",
    "    printMap(t0)\n",
    "    print()"
   ]
  },
  {
   "cell_type": "code",
   "execution_count": 4,
   "id": "legal-pacific",
   "metadata": {},
   "outputs": [
    {
     "name": "stdout",
     "output_type": "stream",
     "text": [
      "Initial state:\n",
      "v...>>.vv>\n",
      ".vv>>.vv..\n",
      ">>.>v>...v\n",
      ">>v>>.>.v.\n",
      "v>v.vv.v..\n",
      ">.>>..v...\n",
      ".vv..>.>v.\n",
      "v.v..>>v.v\n",
      "....v..v.>\n",
      "\n",
      "After 1 steps:\n",
      "....>.>v.>\n",
      "v.v>.>v.v.\n",
      ">v>>..>v..\n",
      ">>v>v>.>.v\n",
      ".>v.v...v.\n",
      "v>>.>vvv..\n",
      "..v...>>..\n",
      "vv...>>vv.\n",
      ">.v.v..v.v\n",
      "\n",
      "After 2 steps:\n",
      ">.v.v>>..v\n",
      "v.v.>>vv..\n",
      ">v>.>.>.v.\n",
      ">>v>v.>v>.\n",
      ".>..v....v\n",
      ".>v>>.v.v.\n",
      "v....v>v>.\n",
      ".vv..>>v..\n",
      "v>.....vv.\n",
      "\n",
      "After 3 steps:\n",
      "v>v.v>.>v.\n",
      "v...>>.v.v\n",
      ">vv>.>v>..\n",
      ">>v>v.>.v>\n",
      "..>....v..\n",
      ".>.>v>v..v\n",
      "..v..v>vv>\n",
      "v.v..>>v..\n",
      ".v>....v..\n",
      "\n",
      "After 4 steps:\n",
      "v>..v.>>..\n",
      "v.v.>.>.v.\n",
      ">vv.>>.v>v\n",
      ">>.>..v>.>\n",
      "..v>v...v.\n",
      "..>>.>vv..\n",
      ">.v.vv>v.v\n",
      ".....>>vv.\n",
      "vvv>...v..\n",
      "\n",
      "After 5 steps:\n",
      "vv>...>v>.\n",
      "v.v.v>.>v.\n",
      ">.v.>.>.>v\n",
      ">v>.>..v>>\n",
      "..v>v.v...\n",
      "..>.>>vvv.\n",
      ".>...v>v..\n",
      "..v.v>>v.v\n",
      "v.v.>...v.\n",
      "\n",
      "After 6 steps:\n",
      "v.v>..>vv>\n",
      ".vv...>>v.\n",
      "v>..v>.>>v\n",
      ">.v>.>..>>\n",
      ".v.>v.vv..\n",
      "..v>>>vv..\n",
      "..>..v>vv.\n",
      "..v..>>...\n",
      "v...v>.v.v\n",
      "\n",
      "After 7 steps:\n",
      "..v.>.>vv>\n",
      "v.v...>>v.\n",
      ".v>.v.>>>v\n",
      "v>..>.>.>>\n",
      "..v>v.vv..\n",
      ".v.>>>vv..\n",
      "..v>.v>v..\n",
      ".....>.>v.\n",
      "v.v.v.>v.v\n",
      "\n",
      "After 8 steps:\n",
      ">.v.v>>vvv\n",
      "......>>v.\n",
      "v.v>..>>>v\n",
      ".v>.v>.>>>\n",
      "v..>v.vv..\n",
      "..v>>>vv..\n",
      ".v..>.>v..\n",
      "..v..v>>..\n",
      "v.v...>vv.\n",
      "\n",
      "After 9 steps:\n",
      "v>...>>vv.\n",
      "..v.v.>>vv\n",
      "v...>.>>>.\n",
      ">.v>v.>>>v\n",
      ".v.>v.vv..\n",
      "v..>>>vv..\n",
      "..v..>>...\n",
      ".vv...>v>.\n",
      "..v..v>vv.\n",
      "\n",
      "After 10 steps:\n",
      "..>..>>vv.\n",
      "v.....>>.v\n",
      "..v.v>>>v>\n",
      "v>.>v.>>>.\n",
      "..v>v.vv.v\n",
      ".v.>>>.v..\n",
      "v.v..>v>..\n",
      "..v...>v.>\n",
      ".vv..v>vv.\n",
      "\n"
     ]
    }
   ],
   "source": [
    "t1 = readInput25(\"data/day25test1.txt\")\n",
    "\n",
    "print(\"Initial state:\")\n",
    "printMap(t1)\n",
    "print()\n",
    "\n",
    "for s in range(10):\n",
    "    step(t1)\n",
    "    print(\"After {} steps:\".format(s+1))\n",
    "    printMap(t1)\n",
    "    print()"
   ]
  },
  {
   "cell_type": "code",
   "execution_count": 36,
   "id": "sitting-germany",
   "metadata": {},
   "outputs": [
    {
     "name": "stdout",
     "output_type": "stream",
     "text": [
      "Test 1: 58 \n",
      "\n",
      "..>>v>vv..\n",
      "..v.>>vv..\n",
      "..>>v>>vv.\n",
      "..>>>>>vv.\n",
      "v......>vv\n",
      "v>v....>>v\n",
      "vvv.....>>\n",
      ">vv......>\n",
      ".>v.vv.v..\n"
     ]
    }
   ],
   "source": [
    "import numpy as np\n",
    "from celluloid import Camera\n",
    "\n",
    "def part1(t,visualize=False):\n",
    "    frames = []\n",
    "    nstep = 0\n",
    "    while True:\n",
    "        if visualize:\n",
    "            myCmap = {'.': (240,) * 3, '>': (180, 0, 0), 'v': (0, 180, 0)}\n",
    "            frame = np.array([[myCmap[c] for c in l] for l in t]) \n",
    "            frames.append(frame)\n",
    "        moves = step(t)\n",
    "        nstep += 1\n",
    "        if moves==0:\n",
    "            break\n",
    "    return nstep, frames\n",
    "\n",
    "t1 = readInput25(\"data/day25test1.txt\")\n",
    "\n",
    "nstep1, frames1 = part1(t1,True)\n",
    "print(\"Test 1:\",nstep1,\"\\n\")\n",
    "\n",
    "printMap(t1)"
   ]
  },
  {
   "cell_type": "code",
   "execution_count": 41,
   "id": "greatest-crisis",
   "metadata": {},
   "outputs": [],
   "source": [
    "def animate25(frames):\n",
    "    f = plt.figure(figsize=(6,6),dpi=92)\n",
    "    camera = Camera(f)\n",
    "    for frame in frames:\n",
    "        f = plt.imshow(frame)\n",
    "        f.axes.get_xaxis().set_visible(False)\n",
    "        f.axes.get_yaxis().set_visible(False)\n",
    "        camera.snap()    \n",
    "    anim = camera.animate(blit=True)\n",
    "    return anim"
   ]
  },
  {
   "cell_type": "code",
   "execution_count": 42,
   "id": "designing-allowance",
   "metadata": {},
   "outputs": [
    {
     "data": {
      "image/png": "[encoded data removed]",
      "text/plain": [
       "<Figure size 552x552 with 1 Axes>"
      ]
     },
     "metadata": {
      "needs_background": "light"
     },
     "output_type": "display_data"
    }
   ],
   "source": [
    "anim1 = animate25(frames1)    \n",
    "anim1.save('visualisation/day25anim1.gif', writer='imagemagick')"
   ]
  },
  {
   "cell_type": "code",
   "execution_count": 38,
   "id": "administrative-example",
   "metadata": {},
   "outputs": [
    {
     "name": "stdout",
     "output_type": "stream",
     "text": [
      "Part 1: 374 \n",
      "\n"
     ]
    }
   ],
   "source": [
    "t = readInput25(\"data/input25.txt\")\n",
    "\n",
    "nstep, frames = part1(t,visualize=True)\n",
    "print(\"Part 1:\",nstep,\"\\n\")"
   ]
  },
  {
   "cell_type": "code",
   "execution_count": 43,
   "id": "dependent-integrity",
   "metadata": {},
   "outputs": [
    {
     "data": {
      "image/png": "[encoded data removed]",
      "text/plain": [
       "<Figure size 552x552 with 1 Axes>"
      ]
     },
     "metadata": {
      "needs_background": "light"
     },
     "output_type": "display_data"
    }
   ],
   "source": [
    "anim = animate25(frames)    \n",
    "anim.save('visualisation/day25anim.gif', writer='imagemagick')"
   ]
  },
  {
   "cell_type": "markdown",
   "id": "eight-phenomenon",
   "metadata": {},
   "source": [
    "![Traffic](./visualisation/day25anim.gif)"
   ]
  },
  {
   "cell_type": "code",
   "execution_count": null,
   "id": "parental-reach",
   "metadata": {},
   "outputs": [],
   "source": []
  }
 ],
 "metadata": {
  "kernelspec": {
   "display_name": "Python 3",
   "language": "python",
   "name": "python3"
  },
  "language_info": {
   "codemirror_mode": {
    "name": "ipython",
    "version": 3
   },
   "file_extension": ".py",
   "mimetype": "text/x-python",
   "name": "python",
   "nbconvert_exporter": "python",
   "pygments_lexer": "ipython3",
   "version": "3.9.9"
  }
 },
 "nbformat": 4,
 "nbformat_minor": 5
}
