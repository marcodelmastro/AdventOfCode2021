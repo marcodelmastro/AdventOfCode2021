{
 "cells": [
  {
   "cell_type": "markdown",
   "id": "satisfied-cuisine",
   "metadata": {},
   "source": [
    "## Day 13\n",
    "\n",
    "https://adventofcode.com/2021/day/13"
   ]
  },
  {
   "cell_type": "code",
   "execution_count": 1,
   "id": "advanced-sessions",
   "metadata": {},
   "outputs": [],
   "source": [
    "def readInput13(filename):\n",
    "    with open(filename) as f:\n",
    "        p = f.read().split(\"\\n\\n\")\n",
    "        dots = [ tuple([ int(n) for n in l.split(\",\") ]) for l in p[0].split(\"\\n\") ]\n",
    "        folds = [ tuple([ 0 if i==\"y\" else 1 if i=='x' else int(i) for i in i.replace(\"fold along \",\"\").split(\"=\") ]) for i in p[1].strip(\"\\n\").split(\"\\n\") ]\n",
    "        return dots, folds\n",
    "        \n",
    "dots0, folds0 = readInput13(\"data/day13test1.txt\")\n",
    "dots, folds = readInput13(\"data/input13.txt\")"
   ]
  },
  {
   "cell_type": "code",
   "execution_count": 2,
   "id": "offensive-frequency",
   "metadata": {},
   "outputs": [
    {
     "data": {
      "text/plain": [
       "array([[0, 0, 0, 1, 0, 0, 1, 0, 0, 1, 0],\n",
       "       [0, 0, 0, 0, 1, 0, 0, 0, 0, 0, 0],\n",
       "       [0, 0, 0, 0, 0, 0, 0, 0, 0, 0, 0],\n",
       "       [1, 0, 0, 0, 0, 0, 0, 0, 0, 0, 0],\n",
       "       [0, 0, 0, 1, 0, 0, 0, 0, 1, 0, 1],\n",
       "       [0, 0, 0, 0, 0, 0, 0, 0, 0, 0, 0],\n",
       "       [0, 0, 0, 0, 0, 0, 0, 0, 0, 0, 0],\n",
       "       [0, 0, 0, 0, 0, 0, 0, 0, 0, 0, 0],\n",
       "       [0, 0, 0, 0, 0, 0, 0, 0, 0, 0, 0],\n",
       "       [0, 0, 0, 0, 0, 0, 0, 0, 0, 0, 0],\n",
       "       [0, 1, 0, 0, 0, 0, 1, 0, 1, 1, 0],\n",
       "       [0, 0, 0, 0, 1, 0, 0, 0, 0, 0, 0],\n",
       "       [0, 0, 0, 0, 0, 0, 1, 0, 0, 0, 1],\n",
       "       [1, 0, 0, 0, 0, 0, 0, 0, 0, 0, 0],\n",
       "       [1, 0, 1, 0, 0, 0, 0, 0, 0, 0, 0]])"
      ]
     },
     "execution_count": 2,
     "metadata": {},
     "output_type": "execute_result"
    }
   ],
   "source": [
    "import numpy as np\n",
    "\n",
    "def fillGrid(dots):\n",
    "    X = [ x for x,y in dots ]\n",
    "    Y = [ y for x,y in dots ]\n",
    "    xmax = max(X)\n",
    "    ymax = max(Y)\n",
    "    grid = np.zeros((ymax+1,xmax+1),dtype=int)\n",
    "    for x,y in dots:\n",
    "        grid[y][x] = 1\n",
    "    return grid\n",
    "\n",
    "grid0 = fillGrid(dots0)\n",
    "grid  = fillGrid(dots)\n",
    "grid0"
   ]
  },
  {
   "cell_type": "code",
   "execution_count": 3,
   "id": "turned-decade",
   "metadata": {},
   "outputs": [],
   "source": [
    "def normalizeGrid(grid):\n",
    "    for y in range(len(grid)):\n",
    "        for x in range(len(grid[0])):\n",
    "            if grid[y][x]>0: grid[y][x]=1\n",
    "\n",
    "def foldH(grid,y):\n",
    "    top = grid[:y,]\n",
    "    bottom = grid[y+1:,]\n",
    "    return top+np.flipud(bottom)\n",
    "\n",
    "def foldV(grid,x):\n",
    "    left = grid[:,:x]\n",
    "    right = grid[:,x+1:]\n",
    "    return left + np.fliplr(right)"
   ]
  },
  {
   "cell_type": "code",
   "execution_count": 4,
   "id": "built-sight",
   "metadata": {},
   "outputs": [
    {
     "name": "stdout",
     "output_type": "stream",
     "text": [
      "17\n"
     ]
    },
    {
     "data": {
      "text/plain": [
       "array([[1, 1, 1, 1, 1],\n",
       "       [1, 0, 0, 0, 1],\n",
       "       [1, 0, 0, 0, 1],\n",
       "       [1, 0, 0, 0, 1],\n",
       "       [1, 1, 1, 1, 1],\n",
       "       [0, 0, 0, 0, 0],\n",
       "       [0, 0, 0, 0, 0]])"
      ]
     },
     "execution_count": 4,
     "metadata": {},
     "output_type": "execute_result"
    }
   ],
   "source": [
    "fold0_1 = foldH(grid0,7)\n",
    "normalizeGrid(fold0_1)\n",
    "print(sum(fold0_1[fold0_1>0]))\n",
    "\n",
    "fold0_2 = foldV(fold0_1,5)\n",
    "normalizeGrid(fold0_2)\n",
    "fold0_2"
   ]
  },
  {
   "cell_type": "markdown",
   "id": "numeric-salmon",
   "metadata": {},
   "source": [
    "### Part 1"
   ]
  },
  {
   "cell_type": "code",
   "execution_count": 5,
   "id": "vulnerable-thesaurus",
   "metadata": {},
   "outputs": [
    {
     "name": "stdout",
     "output_type": "stream",
     "text": [
      "Part 1: 689\n"
     ]
    }
   ],
   "source": [
    "d,f = folds[0]\n",
    "if f==0:\n",
    "    fold1 = foldH(grid,f)\n",
    "else:\n",
    "    fold1 = foldV(grid,f)    \n",
    "normalizeGrid(fold1)\n",
    "print(\"Part 1:\",sum(fold1[fold1>0]))"
   ]
  },
  {
   "cell_type": "markdown",
   "id": "gross-plate",
   "metadata": {},
   "source": [
    "### Part 2"
   ]
  },
  {
   "cell_type": "code",
   "execution_count": 57,
   "id": "figured-actress",
   "metadata": {},
   "outputs": [
    {
     "data": {
      "image/png": "[encoded data removed]",
      "text/plain": [
       "<Figure size 800x400 with 1 Axes>"
      ]
     },
     "metadata": {
      "needs_background": "light"
     },
     "output_type": "display_data"
    }
   ],
   "source": [
    "import matplotlib.pyplot as plt\n",
    "\n",
    "fold = fillGrid(dots)\n",
    "for d,f in folds:\n",
    "    if d==0:\n",
    "        fold = foldH(fold,f)\n",
    "    else:\n",
    "        fold = foldV(fold,f)\n",
    "normalizeGrid(fold)\n",
    "\n",
    "fig = plt.figure(figsize=(8,4),dpi=100)\n",
    "# interpolation needed for OCR\n",
    "f = plt.imshow(fold,cmap='binary',interpolation=\"spline36\") # RLBCJGLU\n",
    "plt.axis('off')\n",
    "f.axes.get_xaxis().set_visible(False)\n",
    "f.axes.get_yaxis().set_visible(False)\n",
    "plt.savefig('./visualisation/day13.png')"
   ]
  },
  {
   "cell_type": "code",
   "execution_count": 58,
   "id": "alive-questionnaire",
   "metadata": {},
   "outputs": [
    {
     "name": "stdout",
     "output_type": "stream",
     "text": [
      "RLBCJGLU\n",
      "\f",
      "\n"
     ]
    }
   ],
   "source": [
    "# inspired from https://nanonets.com/blog/ocr-with-tesseract/\n",
    "# I could avoid the intepolation when plotting and do some image preprocessin with CV2\n",
    "\n",
    "import cv2 \n",
    "import pytesseract\n",
    "\n",
    "img = cv2.imread('visualisation/day13.png')\n",
    "custom_config = r'--oem 3--psm 6'\n",
    "ocr = pytesseract.image_to_string(img, config=custom_config)\n",
    "print(ocr)"
   ]
  },
  {
   "cell_type": "code",
   "execution_count": null,
   "id": "wrong-juvenile",
   "metadata": {},
   "outputs": [],
   "source": []
  }
 ],
 "metadata": {
  "kernelspec": {
   "display_name": "Python 3",
   "language": "python",
   "name": "python3"
  },
  "language_info": {
   "codemirror_mode": {
    "name": "ipython",
    "version": 3
   },
   "file_extension": ".py",
   "mimetype": "text/x-python",
   "name": "python",
   "nbconvert_exporter": "python",
   "pygments_lexer": "ipython3",
   "version": "3.9.9"
  }
 },
 "nbformat": 4,
 "nbformat_minor": 5
}
