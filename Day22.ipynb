{
 "cells": [
  {
   "cell_type": "markdown",
   "id": "absent-breach",
   "metadata": {},
   "source": [
    "## Day 22\n",
    "\n",
    "https://adventofcode.com/2021/day/22"
   ]
  },
  {
   "cell_type": "code",
   "execution_count": 7,
   "id": "amber-agriculture",
   "metadata": {},
   "outputs": [],
   "source": [
    "def readInput21(filename):\n",
    "    with open(filename) as f:\n",
    "        instr = []\n",
    "        for i,c in [ l.strip('\\n').split(\" \") for l in f.readlines() ] :\n",
    "            instr.append((1 if i=='on' else 0,tuple([ tuple([ int(a) for a in x[2:].split(\"..\")]) for x in c.split(',') ]) ))\n",
    "        return instr"
   ]
  },
  {
   "cell_type": "markdown",
   "id": "german-exception",
   "metadata": {},
   "source": [
    "### Part 1"
   ]
  },
  {
   "cell_type": "code",
   "execution_count": 13,
   "id": "antique-antibody",
   "metadata": {},
   "outputs": [],
   "source": [
    "from collections import defaultdict\n",
    "\n",
    "def part1(instr):\n",
    "    cube = defaultdict(int)\n",
    "    for i,c in instr:\n",
    "        X,Y,Z = c\n",
    "        if abs(X[0])<50 and abs(X[1])<50 and abs(Y[0])<50 and abs(Y[1])<50 and abs(Z[0])<50 and abs(Z[1])<50 : \n",
    "            for x in range(X[0],X[1]+1):\n",
    "                for y in range(Y[0],Y[1]+1):\n",
    "                    for z in range(Z[0],Z[1]+1):\n",
    "                        cube[(x,y,z)] = i\n",
    "    return sum([ c for c in cube.values() if c==1 ])"
   ]
  },
  {
   "cell_type": "code",
   "execution_count": 12,
   "id": "sweet-economics",
   "metadata": {},
   "outputs": [
    {
     "data": {
      "text/plain": [
       "39"
      ]
     },
     "execution_count": 12,
     "metadata": {},
     "output_type": "execute_result"
    }
   ],
   "source": [
    "instr0 = readInput21(\"data/day22test1.txt\")\n",
    "part1(instr0)"
   ]
  },
  {
   "cell_type": "code",
   "execution_count": 11,
   "id": "compound-difficulty",
   "metadata": {},
   "outputs": [
    {
     "data": {
      "text/plain": [
       "545118"
      ]
     },
     "execution_count": 11,
     "metadata": {},
     "output_type": "execute_result"
    }
   ],
   "source": [
    "instr = readInput21(\"data/input22.txt\")\n",
    "part1(instr)"
   ]
  }
 ],
 "metadata": {
  "kernelspec": {
   "display_name": "Python 3",
   "language": "python",
   "name": "python3"
  },
  "language_info": {
   "codemirror_mode": {
    "name": "ipython",
    "version": 3
   },
   "file_extension": ".py",
   "mimetype": "text/x-python",
   "name": "python",
   "nbconvert_exporter": "python",
   "pygments_lexer": "ipython3",
   "version": "3.9.9"
  }
 },
 "nbformat": 4,
 "nbformat_minor": 5
}
