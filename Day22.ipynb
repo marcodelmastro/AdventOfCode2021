{
 "cells": [
  {
   "cell_type": "markdown",
   "id": "absent-breach",
   "metadata": {},
   "source": [
    "## Day 22\n",
    "\n",
    "https://adventofcode.com/2021/day/22"
   ]
  },
  {
   "cell_type": "code",
   "execution_count": 2,
   "id": "amber-agriculture",
   "metadata": {},
   "outputs": [],
   "source": [
    "def readInput21(filename):\n",
    "    with open(filename) as f:\n",
    "        instr = []\n",
    "        for i,c in [ l.strip('\\n').split(\" \") for l in f.readlines() ] :\n",
    "            instr.append((1 if i=='on' else 0,tuple([ tuple([ int(a) for a in x[2:].split(\"..\")]) for x in c.split(',') ]) ))\n",
    "        return instr"
   ]
  },
  {
   "cell_type": "markdown",
   "id": "german-exception",
   "metadata": {},
   "source": [
    "### Part 1"
   ]
  },
  {
   "cell_type": "code",
   "execution_count": 121,
   "id": "antique-antibody",
   "metadata": {},
   "outputs": [],
   "source": [
    "from collections import defaultdict\n",
    "\n",
    "def part1(instr):\n",
    "    cube = defaultdict(int)\n",
    "    for i,c in instr:\n",
    "        X,Y,Z = c\n",
    "        if abs(X[0])<50 and abs(X[1])<50 and abs(Y[0])<50 and abs(Y[1])<50 and abs(Z[0])<50 and abs(Z[1])<50 : \n",
    "            for x in range(X[0],X[1]+1):\n",
    "                for y in range(Y[0],Y[1]+1):\n",
    "                    for z in range(Z[0],Z[1]+1):\n",
    "                        cube[(x,y,z)] = i\n",
    "    return sum([ c for c in cube.values() ])"
   ]
  },
  {
   "cell_type": "code",
   "execution_count": 133,
   "id": "sweet-economics",
   "metadata": {},
   "outputs": [
    {
     "data": {
      "text/plain": [
       "39"
      ]
     },
     "execution_count": 133,
     "metadata": {},
     "output_type": "execute_result"
    }
   ],
   "source": [
    "instr1 = readInput21(\"data/day22test1.txt\")\n",
    "part1(instr1)"
   ]
  },
  {
   "cell_type": "code",
   "execution_count": 134,
   "id": "compound-difficulty",
   "metadata": {},
   "outputs": [
    {
     "data": {
      "text/plain": [
       "545118"
      ]
     },
     "execution_count": 134,
     "metadata": {},
     "output_type": "execute_result"
    }
   ],
   "source": [
    "instr = readInput21(\"data/input22.txt\")\n",
    "part1(instr)"
   ]
  },
  {
   "cell_type": "markdown",
   "id": "popular-spencer",
   "metadata": {},
   "source": [
    "### Part 2"
   ]
  },
  {
   "cell_type": "code",
   "execution_count": 135,
   "id": "veterinary-groove",
   "metadata": {},
   "outputs": [],
   "source": [
    "class Cube:\n",
    "    def __init__(self, X,Y,Z):\n",
    "        self.X = X\n",
    "        self.Y = Y\n",
    "        self.Z = Z\n",
    "    \n",
    "    def __repr__(self):\n",
    "        return f'Cube({self.X},{self.Y},{self.Z})'\n",
    "    \n",
    "    def isEmpty(self):\n",
    "        return self.X[0]==self.X[1] or self.Y[0]==self.Y[1] or self.Z[0]==self.Z[1]\n",
    "        \n",
    "    def volume(self):\n",
    "        if self.isEmpty():\n",
    "            return 0\n",
    "        else:\n",
    "            return (self.X[1]-self.X[0])*(self.Y[1]-self.Y[0])*(self.Z[1]-self.Z[0])"
   ]
  },
  {
   "cell_type": "code",
   "execution_count": 136,
   "id": "serial-douglas",
   "metadata": {},
   "outputs": [],
   "source": [
    "def intersect1D(X1,X2):\n",
    "    return X1[1]>=X2[0] and X1[0]<=X2[1]\n",
    "\n",
    "def intersect(c1,c2):\n",
    "    return intersect1D(c1.X,c2.X) and intersect1D(c1.Y,c2.Y) and intersect1D(c1.Z,c2.Z)\n",
    "\n",
    "def difference(c1,c2):\n",
    "    '''\n",
    "        Return a list of cuboids corresponding to the difference c1-c2.\n",
    "        If no overlap, returns [c1]\n",
    "    '''\n",
    "    if not intersect(c1,c2):\n",
    "        return [c1]\n",
    "    else:\n",
    "        c3z0 = max(c1.Z[0],c2.Z[0])\n",
    "        c3z1 = min(c1.Z[1],c2.Z[1])\n",
    "        c3y0 = max(c1.Y[0],c2.Y[0])\n",
    "        c3y1 = min(c1.Y[1],c2.Y[1])\n",
    "        c3x0 = max(c1.X[0],c2.X[0])\n",
    "        c3x1 = min(c1.X[1],c2.X[1])\n",
    "        # make list of all possible cuboids (some might be empty depending on intersection)\n",
    "        cuboids = [\n",
    "            # Top and bottom cuboids, base as large as c1's\n",
    "            Cube(c1.X,c1.Y,(c1.Z[0],c3z0)), \n",
    "            Cube(c1.X,c1.Y,(c3z1,c1.Z[1])), \n",
    "            # Central cuboids\n",
    "            Cube((c3x0,c1.X[1]),(c1.Y[0],c3y0),(c3z0,c3z1)),          \n",
    "            Cube((c3x1,c1.X[1]),(c3y0,c1.Y[1]),(c3z0,c3z1)),\n",
    "            Cube((c1.X[0],c3x1),(c3y1,c1.Y[1]),(c3z0,c3z1)), \n",
    "            Cube((c1.X[0],c3x0),(c1.Y[0],c3y1),(c3z0,c3z1))\n",
    "        ]\n",
    "        return [c for c in cuboids if not c.isEmpty() ]"
   ]
  },
  {
   "cell_type": "code",
   "execution_count": 137,
   "id": "accomplished-shakespeare",
   "metadata": {},
   "outputs": [
    {
     "name": "stdout",
     "output_type": "stream",
     "text": [
      "Cube((10, 13),(10, 13),(10, 11)) 9\n",
      "Cube((11, 13),(10, 11),(11, 13)) 4\n",
      "Cube((10, 11),(10, 13),(11, 13)) 6\n"
     ]
    }
   ],
   "source": [
    "c1 = Cube((10, 12+1), (10, 12+1), (10, 12+1))\n",
    "c2 = Cube((11, 13+1), (11, 13+1), (11, 13+1))\n",
    "\n",
    "for c in difference(c1,c2):\n",
    "    print(c,c.volume())"
   ]
  },
  {
   "cell_type": "code",
   "execution_count": 138,
   "id": "confirmed-helen",
   "metadata": {},
   "outputs": [],
   "source": [
    "def part1_fast(instr):\n",
    "    cuboids = []\n",
    "    for i,c in instr:\n",
    "        X,Y,Z = c\n",
    "        if abs(X[0])<50 and abs(X[1])<50 and abs(Y[0])<50 and abs(Y[1])<50 and abs(Z[0])<50 and abs(Z[1])<50 : \n",
    "            c = Cube((X[0],X[1]+1),(Y[0],Y[1]+1),(Z[0],Z[1]+1))\n",
    "            cuboids_new = []\n",
    "            for co in cuboids:\n",
    "                cuboids_new += difference(co,c)\n",
    "            if i==1:\n",
    "                cuboids_new.append(c)\n",
    "            cuboids = cuboids_new\n",
    "    return sum([ c.volume() for c in cuboids ])"
   ]
  },
  {
   "cell_type": "code",
   "execution_count": 139,
   "id": "cosmetic-corpus",
   "metadata": {},
   "outputs": [
    {
     "data": {
      "text/plain": [
       "39"
      ]
     },
     "execution_count": 139,
     "metadata": {},
     "output_type": "execute_result"
    }
   ],
   "source": [
    "part1_fast(instr1)"
   ]
  },
  {
   "cell_type": "code",
   "execution_count": 140,
   "id": "offshore-pollution",
   "metadata": {},
   "outputs": [
    {
     "data": {
      "text/plain": [
       "545118"
      ]
     },
     "execution_count": 140,
     "metadata": {},
     "output_type": "execute_result"
    }
   ],
   "source": [
    "part1_new(instr)"
   ]
  },
  {
   "cell_type": "code",
   "execution_count": 141,
   "id": "qualified-repository",
   "metadata": {},
   "outputs": [],
   "source": [
    "def part2(instr):\n",
    "    cuboids = []\n",
    "    for i,c in instr:\n",
    "        X,Y,Z = c\n",
    "        c = Cube((X[0],X[1]+1),(Y[0],Y[1]+1),(Z[0],Z[1]+1))\n",
    "        cuboids_new = []\n",
    "        for co in cuboids:\n",
    "            cuboids_new += difference(co,c)\n",
    "        if i==1:\n",
    "            cuboids_new.append(c)\n",
    "        cuboids = cuboids_new\n",
    "    return sum([ c.volume() for c in cuboids ])"
   ]
  },
  {
   "cell_type": "code",
   "execution_count": 142,
   "id": "above-google",
   "metadata": {},
   "outputs": [
    {
     "data": {
      "text/plain": [
       "2758514936282235"
      ]
     },
     "execution_count": 142,
     "metadata": {},
     "output_type": "execute_result"
    }
   ],
   "source": [
    "instr3 = readInput21(\"data/day22test3.txt\")\n",
    "part2(instr3)"
   ]
  },
  {
   "cell_type": "code",
   "execution_count": 143,
   "id": "equipped-estate",
   "metadata": {},
   "outputs": [
    {
     "data": {
      "text/plain": [
       "1227298136842375"
      ]
     },
     "execution_count": 143,
     "metadata": {},
     "output_type": "execute_result"
    }
   ],
   "source": [
    "part2(instr)"
   ]
  },
  {
   "cell_type": "code",
   "execution_count": null,
   "id": "direct-librarian",
   "metadata": {},
   "outputs": [],
   "source": []
  }
 ],
 "metadata": {
  "kernelspec": {
   "display_name": "Python 3",
   "language": "python",
   "name": "python3"
  },
  "language_info": {
   "codemirror_mode": {
    "name": "ipython",
    "version": 3
   },
   "file_extension": ".py",
   "mimetype": "text/x-python",
   "name": "python",
   "nbconvert_exporter": "python",
   "pygments_lexer": "ipython3",
   "version": "3.9.9"
  }
 },
 "nbformat": 4,
 "nbformat_minor": 5
}
