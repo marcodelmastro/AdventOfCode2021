{
 "cells": [
  {
   "cell_type": "markdown",
   "id": "irish-macro",
   "metadata": {},
   "source": [
    "## Day 2\n",
    "\n",
    "https://adventofcode.com/2021/day/2"
   ]
  },
  {
   "cell_type": "code",
   "execution_count": 88,
   "id": "employed-intro",
   "metadata": {},
   "outputs": [],
   "source": [
    "#filename = \"data/day02test01.txt\"\n",
    "filename = \"data/input02.txt\"\n",
    "\n",
    "instr = [ l.strip(\"\\n\").split(\" \") for l in open(filename).readlines() ] "
   ]
  },
  {
   "cell_type": "markdown",
   "id": "under-glass",
   "metadata": {},
   "source": [
    "### Part 1"
   ]
  },
  {
   "cell_type": "code",
   "execution_count": 89,
   "id": "rural-portuguese",
   "metadata": {},
   "outputs": [
    {
     "name": "stdout",
     "output_type": "stream",
     "text": [
      "1714950\n"
     ]
    }
   ],
   "source": [
    "d = sum( [ int(x[1]) for x in instr if x[0]==\"down\" ] )\n",
    "u = sum( [ int(x[1]) for x in instr if x[0]==\"up\" ] )\n",
    "f = sum( [ int(x[1]) for x in instr if x[0]==\"forward\" ] )\n",
    "print((d-u)*(f))"
   ]
  },
  {
   "cell_type": "markdown",
   "id": "swiss-architecture",
   "metadata": {},
   "source": [
    "### Part 2"
   ]
  },
  {
   "cell_type": "code",
   "execution_count": 90,
   "id": "correct-humor",
   "metadata": {},
   "outputs": [
    {
     "name": "stdout",
     "output_type": "stream",
     "text": [
      "1281977850\n"
     ]
    }
   ],
   "source": [
    "aim = 0\n",
    "dep = 0\n",
    "pos = 0\n",
    "for (i,v) in instr:\n",
    "    #print(i,int(v))\n",
    "    if i==\"forward\":\n",
    "        pos += int(v)\n",
    "        dep += int(v)*aim\n",
    "    elif i==\"down\":\n",
    "        aim += int(v)\n",
    "    elif i==\"up\":\n",
    "        aim -= int(v)\n",
    "    #print(dep,pos,aim)\n",
    "        \n",
    "print(pos*dep)"
   ]
  },
  {
   "cell_type": "code",
   "execution_count": null,
   "id": "quarterly-respect",
   "metadata": {},
   "outputs": [],
   "source": []
  }
 ],
 "metadata": {
  "kernelspec": {
   "display_name": "Python 3",
   "language": "python",
   "name": "python3"
  },
  "language_info": {
   "codemirror_mode": {
    "name": "ipython",
    "version": 3
   },
   "file_extension": ".py",
   "mimetype": "text/x-python",
   "name": "python",
   "nbconvert_exporter": "python",
   "pygments_lexer": "ipython3",
   "version": "3.9.9"
  }
 },
 "nbformat": 4,
 "nbformat_minor": 5
}
