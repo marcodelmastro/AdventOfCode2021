{
 "cells": [
  {
   "cell_type": "markdown",
   "id": "irish-macro",
   "metadata": {},
   "source": [
    "## Day 2\n",
    "\n",
    "https://adventofcode.com/2021/day/2"
   ]
  },
  {
   "cell_type": "code",
   "execution_count": 10,
   "id": "employed-intro",
   "metadata": {},
   "outputs": [],
   "source": [
    "def readInstr(filename):\n",
    "    with open(filename) as f:\n",
    "        return [ l.strip(\"\\n\").split(\" \") for l in f.readlines() ] \n",
    "\n",
    "instr0 = readInstr(\"data/day02test1.txt\")\n",
    "instr = readInstr(\"data/input02.txt\")"
   ]
  },
  {
   "cell_type": "markdown",
   "id": "under-glass",
   "metadata": {},
   "source": [
    "### Part 1"
   ]
  },
  {
   "cell_type": "code",
   "execution_count": 13,
   "id": "rural-portuguese",
   "metadata": {},
   "outputs": [
    {
     "name": "stdout",
     "output_type": "stream",
     "text": [
      "150\n",
      "1714950\n"
     ]
    }
   ],
   "source": [
    "def part1(instr):\n",
    "    d = sum( [ int(x[1]) for x in instr if x[0]==\"down\" ] )\n",
    "    u = sum( [ int(x[1]) for x in instr if x[0]==\"up\" ] )\n",
    "    f = sum( [ int(x[1]) for x in instr if x[0]==\"forward\" ] )\n",
    "    return (d-u)*f\n",
    "\n",
    "print(part1(instr0))\n",
    "print(part1(instr))"
   ]
  },
  {
   "cell_type": "markdown",
   "id": "swiss-architecture",
   "metadata": {},
   "source": [
    "### Part 2"
   ]
  },
  {
   "cell_type": "code",
   "execution_count": 31,
   "id": "correct-humor",
   "metadata": {},
   "outputs": [
    {
     "name": "stdout",
     "output_type": "stream",
     "text": [
      "forward\t 5\t-->\t  0   5   0\n",
      "down\t 5\t-->\t  0   5   5\n",
      "forward\t 8\t-->\t 40  13   5\n",
      "up\t 3\t-->\t 40  13   2\n",
      "down\t 8\t-->\t 40  13  10\n",
      "forward\t 2\t-->\t 60  15  10\n",
      "900\n",
      "1281977850\n"
     ]
    }
   ],
   "source": [
    "def part2(instr, verbose=False):\n",
    "    aim = 0\n",
    "    dep = 0\n",
    "    pos = 0\n",
    "    for (i,v) in instr:\n",
    "        if verbose: print(\"{}\\t {}\\t-->\".format(i,int(v)),end=\"\\t\")\n",
    "\n",
    "        if i==\"forward\":\n",
    "            pos += int(v)\n",
    "            dep += int(v)*aim\n",
    "        elif i==\"down\":\n",
    "            aim += int(v)\n",
    "        elif i==\"up\":\n",
    "            aim -= int(v)\n",
    "        if verbose: print(\"{:3d} {:3d} {:3d}\".format(dep,pos,aim))\n",
    "    return pos*dep\n",
    "\n",
    "print(part2(instr0, True))\n",
    "print(part2(instr))"
   ]
  },
  {
   "cell_type": "code",
   "execution_count": null,
   "id": "august-baghdad",
   "metadata": {},
   "outputs": [],
   "source": []
  }
 ],
 "metadata": {
  "kernelspec": {
   "display_name": "Python 3",
   "language": "python",
   "name": "python3"
  },
  "language_info": {
   "codemirror_mode": {
    "name": "ipython",
    "version": 3
   },
   "file_extension": ".py",
   "mimetype": "text/x-python",
   "name": "python",
   "nbconvert_exporter": "python",
   "pygments_lexer": "ipython3",
   "version": "3.9.9"
  }
 },
 "nbformat": 4,
 "nbformat_minor": 5
}
