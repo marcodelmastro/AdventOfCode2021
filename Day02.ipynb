{
 "cells": [
  {
   "cell_type": "markdown",
   "id": "irish-macro",
   "metadata": {},
   "source": [
    "## Day 2\n",
    "\n",
    "https://adventofcode.com/2021/day/2"
   ]
  },
  {
   "cell_type": "code",
   "execution_count": 2,
   "id": "employed-intro",
   "metadata": {},
   "outputs": [],
   "source": [
    "def readInstr(filename):\n",
    "    with open(filename) as f:\n",
    "        return [ l.strip(\"\\n\").split(\" \") for l in f.readlines() ] \n",
    "\n",
    "instr0 = readInstr(\"data/day02test1.txt\")\n",
    "instr = readInstr(\"data/input02.txt\")"
   ]
  },
  {
   "cell_type": "markdown",
   "id": "under-glass",
   "metadata": {},
   "source": [
    "### Part 1"
   ]
  },
  {
   "cell_type": "code",
   "execution_count": 3,
   "id": "rural-portuguese",
   "metadata": {},
   "outputs": [
    {
     "name": "stdout",
     "output_type": "stream",
     "text": [
      "Test 1: 150\n",
      "Part 1: 1714950\n"
     ]
    }
   ],
   "source": [
    "def part1(instr):\n",
    "    d = sum( [ int(x[1]) for x in instr if x[0]==\"down\" ] )\n",
    "    u = sum( [ int(x[1]) for x in instr if x[0]==\"up\" ] )\n",
    "    f = sum( [ int(x[1]) for x in instr if x[0]==\"forward\" ] )\n",
    "    return (d-u)*f\n",
    "\n",
    "print(\"Test 1:\",part1(instr0))\n",
    "print(\"Part 1:\",part1(instr))"
   ]
  },
  {
   "cell_type": "markdown",
   "id": "swiss-architecture",
   "metadata": {},
   "source": [
    "### Part 2"
   ]
  },
  {
   "cell_type": "code",
   "execution_count": 5,
   "id": "correct-humor",
   "metadata": {},
   "outputs": [
    {
     "name": "stdout",
     "output_type": "stream",
     "text": [
      "Test 2: (900, 150)\n",
      "Part 2: (1281977850, 1714950)\n"
     ]
    }
   ],
   "source": [
    "def part2(instr):\n",
    "    aim = 0\n",
    "    dep = 0\n",
    "    pos = 0\n",
    "    for (i,v) in instr:\n",
    "        if i==\"forward\":\n",
    "            pos += int(v)\n",
    "            dep += int(v)*aim\n",
    "        elif i==\"down\":\n",
    "            aim += int(v)\n",
    "        elif i==\"up\":\n",
    "            aim -= int(v)\n",
    "    return pos*dep, pos*aim # part 2, part 1\n",
    "\n",
    "print(\"Test 2:\",part2(instr0))\n",
    "print(\"Part 2:\",part2(instr))"
   ]
  },
  {
   "cell_type": "code",
   "execution_count": null,
   "id": "institutional-terrain",
   "metadata": {},
   "outputs": [],
   "source": []
  }
 ],
 "metadata": {
  "kernelspec": {
   "display_name": "Python 3",
   "language": "python",
   "name": "python3"
  },
  "language_info": {
   "codemirror_mode": {
    "name": "ipython",
    "version": 3
   },
   "file_extension": ".py",
   "mimetype": "text/x-python",
   "name": "python",
   "nbconvert_exporter": "python",
   "pygments_lexer": "ipython3",
   "version": "3.9.9"
  }
 },
 "nbformat": 4,
 "nbformat_minor": 5
}
