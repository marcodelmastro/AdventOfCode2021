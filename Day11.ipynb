{
 "cells": [
  {
   "cell_type": "markdown",
   "id": "level-bolivia",
   "metadata": {},
   "source": [
    "## Day 11\n",
    "\n"
   ]
  },
  {
   "cell_type": "code",
   "execution_count": 1,
   "id": "conscious-ticket",
   "metadata": {},
   "outputs": [],
   "source": [
    "def readInput11(filename):\n",
    "    with open(filename) as f:\n",
    "        return [ [ int(n) for n in l.strip('\\n')]  for l in f.readlines() ]\n",
    "    \n",
    "o0 = readInput11(\"data/day11text1.txt\")\n",
    "o1 = readInput11(\"data/day11text2.txt\")\n",
    "o2 = readInput11(\"data/input11.txt\")"
   ]
  },
  {
   "cell_type": "code",
   "execution_count": 2,
   "id": "consistent-source",
   "metadata": {},
   "outputs": [],
   "source": [
    "def adiac(X,lenX,lenY):\n",
    "    x,y = X\n",
    "    return [ (x+dx,y+dy) for dx in (-1,0,1) for dy in (-1,0,1) if (x+dx,y+dy)!=X and 0<=x+dx<lenX and 0<=y+dy<lenY ]\n",
    "\n",
    "def step(o):\n",
    "    flashes = 0\n",
    "    # increase all levels by 1\n",
    "    for y in range(len(o)):\n",
    "        for x in range(len(o[0])):\n",
    "            o[x][y]+=1\n",
    "    needFlashing = sum([ 1 for r in o for c in r if c>9 ])\n",
    "    while needFlashing:\n",
    "        # Flashes all octopuses above 9\n",
    "        for y in range(len(o)):\n",
    "            for x in range(len(o[0])):\n",
    "                if o[x][y]>9: \n",
    "                    o[x][y]=0\n",
    "                    flashes += 1\n",
    "                    # Increse level of neighbours (if did not just flash)\n",
    "                    for xn,yn in adiac((x,y),len(o[0]),len(o)):\n",
    "                        if o[xn][yn]!=0:\n",
    "                            o[xn][yn]+=1\n",
    "        needFlashing = sum([ 1 for r in o for c in r if c>9 ])\n",
    "    return flashes, o"
   ]
  },
  {
   "cell_type": "code",
   "execution_count": 3,
   "id": "improving-syntax",
   "metadata": {},
   "outputs": [
    {
     "name": "stdout",
     "output_type": "stream",
     "text": [
      "Part 1: 1713\n"
     ]
    }
   ],
   "source": [
    "from copy import deepcopy\n",
    "\n",
    "def part1(o_,steps = 100):\n",
    "    o = deepcopy(o_)\n",
    "    flashes = 0\n",
    "    for s in range(steps):\n",
    "        f, o = step(o)\n",
    "        flashes += f\n",
    "    return flashes\n",
    "\n",
    "print(\"Part 1:\",part1(o2))"
   ]
  },
  {
   "cell_type": "code",
   "execution_count": 5,
   "id": "similar-somewhere",
   "metadata": {},
   "outputs": [
    {
     "name": "stdout",
     "output_type": "stream",
     "text": [
      "Part 2: 502\n"
     ]
    },
    {
     "data": {
      "text/plain": [
       "<Figure size 350x350 with 0 Axes>"
      ]
     },
     "metadata": {},
     "output_type": "display_data"
    }
   ],
   "source": [
    "import matplotlib.pyplot as plt\n",
    "from celluloid import Camera\n",
    "\n",
    "def part2(o_,animate=False):\n",
    "    f = plt.figure(figsize=(5,5),dpi=70)\n",
    "    camera = Camera(f)\n",
    "    o = deepcopy(o_)\n",
    "    steps = 0\n",
    "    while True:        \n",
    "        if animate:\n",
    "            f = plt.imshow(o,cmap=\"YlOrBr\",vmin=0,vmax=9)\n",
    "            f.axes.get_xaxis().set_visible(False)\n",
    "            f.axes.get_yaxis().set_visible(False)\n",
    "            camera.snap()  \n",
    "        f, o = step(o)\n",
    "        status = sum([ sum(r) for r in o ])\n",
    "        steps += 1\n",
    "        if status==0:\n",
    "            if animate:\n",
    "                f = plt.imshow(o,cmap=\"YlOrBr\",vmin=0,vmax=9)\n",
    "                f.axes.get_xaxis().set_visible(False)\n",
    "                f.axes.get_yaxis().set_visible(False)\n",
    "                camera.snap()    \n",
    "            return steps,camera\n",
    "\n",
    "steps,_ = part2(o2,False)\n",
    "print(\"Part 2:\",steps)"
   ]
  },
  {
   "cell_type": "code",
   "execution_count": 17,
   "id": "olive-enough",
   "metadata": {},
   "outputs": [
    {
     "name": "stdout",
     "output_type": "stream",
     "text": [
      "Saving animation... Animation saved.\n"
     ]
    },
    {
     "data": {
      "image/png": "[encoded data removed]",
      "text/plain": [
       "<Figure size 350x350 with 1 Axes>"
      ]
     },
     "metadata": {
      "needs_background": "light"
     },
     "output_type": "display_data"
    }
   ],
   "source": [
    "_,camera = part2(o2,True)\n",
    "print(\"Saving animation... \",end=\"\")\n",
    "anim = camera.animate(blit=True)\n",
    "anim.save('visualisation/day11animation.gif', writer='imagemagick')\n",
    "print(\"Animation saved.\")"
   ]
  },
  {
   "cell_type": "markdown",
   "id": "multiple-poetry",
   "metadata": {},
   "source": [
    "![Flashes](./visualisation/day11animation.gif)"
   ]
  },
  {
   "cell_type": "code",
   "execution_count": null,
   "id": "suburban-structure",
   "metadata": {},
   "outputs": [],
   "source": []
  }
 ],
 "metadata": {
  "kernelspec": {
   "display_name": "Python 3",
   "language": "python",
   "name": "python3"
  },
  "language_info": {
   "codemirror_mode": {
    "name": "ipython",
    "version": 3
   },
   "file_extension": ".py",
   "mimetype": "text/x-python",
   "name": "python",
   "nbconvert_exporter": "python",
   "pygments_lexer": "ipython3",
   "version": "3.9.9"
  }
 },
 "nbformat": 4,
 "nbformat_minor": 5
}
