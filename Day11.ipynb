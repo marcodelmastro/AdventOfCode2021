{
 "cells": [
  {
   "cell_type": "code",
   "execution_count": 57,
   "id": "transsexual-deployment",
   "metadata": {},
   "outputs": [],
   "source": [
    "def readInput11(filename):\n",
    "    with open(filename) as f:\n",
    "        return [ [ int(n) for n in l.strip('\\n')]  for l in f.readlines() ]\n",
    "    \n",
    "o0 = readInput11(\"data/day11text1.txt\")\n",
    "o1 = readInput11(\"data/day11text2.txt\")\n",
    "o2 = readInput11(\"data/input11.txt\")"
   ]
  },
  {
   "cell_type": "code",
   "execution_count": 63,
   "id": "acceptable-partnership",
   "metadata": {},
   "outputs": [],
   "source": [
    "def adiac(X,lenX,lenY):\n",
    "    x,y = X\n",
    "    return [ (x+dx,y+dy) for dx in (-1,0,1) for dy in (-1,0,1) if (x+dx,y+dy)!=X and 0<=x+dx<lenX and 0<=y+dy<lenY ]\n",
    "\n",
    "def step(o):\n",
    "    flashes = 0\n",
    "    # increase all levels by 1\n",
    "    for y in range(len(o)):\n",
    "        for x in range(len(o[0])):\n",
    "            o[x][y]+=1\n",
    "    needFlashing = sum([ 1 for r in o for c in r if c>9 ])\n",
    "    while needFlashing:\n",
    "        # Flashes all octopses above 9\n",
    "        for y in range(len(o)):\n",
    "            for x in range(len(o[0])):\n",
    "                if o[x][y]>9: \n",
    "                    o[x][y]=0\n",
    "                    flashes += 1\n",
    "                    # increse level of neighbours\n",
    "                    for xn,yn in adiac((x,y),len(o[0]),len(o)):\n",
    "                        if o[xn][yn]!=0:\n",
    "                            o[xn][yn]+=1\n",
    "        needFlashing = sum([ 1 for r in o for c in r if c>9 ])\n",
    "    return flashes, o"
   ]
  },
  {
   "cell_type": "code",
   "execution_count": 67,
   "id": "weird-assembly",
   "metadata": {},
   "outputs": [
    {
     "name": "stdout",
     "output_type": "stream",
     "text": [
      "1656\n",
      "1713\n"
     ]
    }
   ],
   "source": [
    "from copy import deepcopy\n",
    "\n",
    "def part1(o_,steps = 100):\n",
    "    o = deepcopy(o_)\n",
    "    flashes = 0\n",
    "    for s in range(steps):\n",
    "        f, o = step(o)\n",
    "        flashes += f\n",
    "    return flashes\n",
    "\n",
    "print(\"Part 1:\",part1(o2))"
   ]
  },
  {
   "cell_type": "code",
   "execution_count": 70,
   "id": "figured-archives",
   "metadata": {},
   "outputs": [
    {
     "name": "stdout",
     "output_type": "stream",
     "text": [
      "195\n",
      "502\n"
     ]
    }
   ],
   "source": [
    "def part2(o_):\n",
    "    o = deepcopy(o_)\n",
    "    steps = 0\n",
    "    while True:\n",
    "        f, o = step(o)\n",
    "        status = sum([ sum(r) for r in o ])\n",
    "        steps += 1\n",
    "        if status==0:\n",
    "            return steps\n",
    "        \n",
    "print(part2(o1))\n",
    "print(part2(o2))\n"
   ]
  },
  {
   "cell_type": "code",
   "execution_count": null,
   "id": "underlying-prescription",
   "metadata": {},
   "outputs": [],
   "source": []
  }
 ],
 "metadata": {
  "kernelspec": {
   "display_name": "Python 3",
   "language": "python",
   "name": "python3"
  },
  "language_info": {
   "codemirror_mode": {
    "name": "ipython",
    "version": 3
   },
   "file_extension": ".py",
   "mimetype": "text/x-python",
   "name": "python",
   "nbconvert_exporter": "python",
   "pygments_lexer": "ipython3",
   "version": "3.9.9"
  }
 },
 "nbformat": 4,
 "nbformat_minor": 5
}
