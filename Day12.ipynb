{
 "cells": [
  {
   "cell_type": "markdown",
   "id": "clear-property",
   "metadata": {},
   "source": [
    "## Day 12\n",
    "\n",
    "https://adventofcode.com/2021/day/12"
   ]
  },
  {
   "cell_type": "code",
   "execution_count": 4,
   "id": "unable-setup",
   "metadata": {},
   "outputs": [],
   "source": [
    "from collections import defaultdict\n",
    "\n",
    "def readInput12(filename):\n",
    "    cave = defaultdict(lambda: [])\n",
    "    with open(filename) as f:\n",
    "        for l in f.readlines():\n",
    "            n = l.strip('\\n').split(\"-\")\n",
    "            cave[n[0]].append(n[1])\n",
    "            cave[n[1]].append(n[0])\n",
    "    return cave\n",
    "\n",
    "cave0 = readInput12(\"data/day12test1.txt\")\n",
    "cave1 = readInput12(\"data/day12test2.txt\")\n",
    "cave2 = readInput12(\"data/day12test3.txt\")\n",
    "cave = readInput12(\"data/input12.txt\")"
   ]
  },
  {
   "cell_type": "markdown",
   "id": "competent-soviet",
   "metadata": {},
   "source": [
    "### Part 1"
   ]
  },
  {
   "cell_type": "code",
   "execution_count": 5,
   "id": "uniform-chest",
   "metadata": {},
   "outputs": [],
   "source": [
    "from queue import Queue\n",
    "\n",
    "def part1(cave):\n",
    "    paths = Queue()\n",
    "    paths.put(['start'])\n",
    "    completes = []\n",
    "    while paths.queue:\n",
    "        p0 = paths.get()\n",
    "        for s in cave[p0[-1]]:\n",
    "            if s.lower()==s and s in p0:\n",
    "                continue\n",
    "            p1 = list(p0)\n",
    "            p1.append(s)\n",
    "            if s=='end':\n",
    "                completes.append(p1)\n",
    "            else:\n",
    "                paths.put(p1)\n",
    "    return completes"
   ]
  },
  {
   "cell_type": "code",
   "execution_count": 10,
   "id": "aerial-amazon",
   "metadata": {},
   "outputs": [
    {
     "name": "stdout",
     "output_type": "stream",
     "text": [
      "Test 1-1: 10\n",
      "Test 1-2: 19\n",
      "Test 1-3: 226\n",
      "Part 1  : 5958\n"
     ]
    }
   ],
   "source": [
    "paths10 = part1(cave0)\n",
    "paths11 = part1(cave1)\n",
    "paths12 = part1(cave2)\n",
    "paths1 = part1(cave)\n",
    "\n",
    "print(\"Test 1-1:\",len(paths10))\n",
    "print(\"Test 1-2:\",len(paths11))\n",
    "print(\"Test 1-3:\",len(paths12))\n",
    "print(\"Part 1  :\",len(paths1))"
   ]
  },
  {
   "cell_type": "markdown",
   "id": "comfortable-wheat",
   "metadata": {},
   "source": [
    "### Part 2"
   ]
  },
  {
   "cell_type": "code",
   "execution_count": 7,
   "id": "distinguished-light",
   "metadata": {},
   "outputs": [],
   "source": [
    "from collections import Counter\n",
    "\n",
    "def part2(cave):\n",
    "    paths = Queue()\n",
    "    paths.put(['start'])\n",
    "    completes = []\n",
    "    while paths.queue:\n",
    "        p0 = paths.get()\n",
    "        for s in cave[p0[-1]]:\n",
    "            # avoid going back to start\n",
    "            if s=='start':\n",
    "                continue\n",
    "            # if cave is lowercase, count all lowercase cave already in path and check if one already appers twice\n",
    "            if s.lower()==s:\n",
    "                c = Counter([ p for p in p0 if p.lower()==p ])\n",
    "                if 2 in c.values() and s in p0:\n",
    "                    continue\n",
    "            p1 = list(p0)\n",
    "            p1.append(s)\n",
    "            if s=='end':\n",
    "                completes.append(p1)\n",
    "            else:\n",
    "                paths.put(p1)\n",
    "    return completes"
   ]
  },
  {
   "cell_type": "code",
   "execution_count": 14,
   "id": "nervous-barrier",
   "metadata": {},
   "outputs": [
    {
     "name": "stdout",
     "output_type": "stream",
     "text": [
      "Test 2-1: 36\n",
      "Test 2-2: 103\n",
      "Test 2-3: 3509\n"
     ]
    }
   ],
   "source": [
    "paths20 = part2(cave0)\n",
    "paths21 = part2(cave1)\n",
    "paths22 = part2(cave2)\n",
    "print(\"Test 2-1:\",len(paths20))\n",
    "print(\"Test 2-2:\",len(paths21))\n",
    "print(\"Test 2-3:\",len(paths22))"
   ]
  },
  {
   "cell_type": "code",
   "execution_count": 13,
   "id": "diagnostic-calvin",
   "metadata": {},
   "outputs": [
    {
     "name": "stdout",
     "output_type": "stream",
     "text": [
      "Part 2  : 150426\n"
     ]
    }
   ],
   "source": [
    "paths2 = part2(cave)\n",
    "print(\"Part 2  :\",len(paths2))"
   ]
  },
  {
   "cell_type": "code",
   "execution_count": null,
   "id": "human-aircraft",
   "metadata": {},
   "outputs": [],
   "source": []
  }
 ],
 "metadata": {
  "kernelspec": {
   "display_name": "Python 3",
   "language": "python",
   "name": "python3"
  },
  "language_info": {
   "codemirror_mode": {
    "name": "ipython",
    "version": 3
   },
   "file_extension": ".py",
   "mimetype": "text/x-python",
   "name": "python",
   "nbconvert_exporter": "python",
   "pygments_lexer": "ipython3",
   "version": "3.9.9"
  }
 },
 "nbformat": 4,
 "nbformat_minor": 5
}
