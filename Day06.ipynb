{
 "cells": [
  {
   "cell_type": "markdown",
   "id": "alpine-drinking",
   "metadata": {},
   "source": [
    "## Day 6\n",
    "\n",
    "https://adventofcode.com/2021/day/6"
   ]
  },
  {
   "cell_type": "code",
   "execution_count": 58,
   "id": "narrative-personal",
   "metadata": {},
   "outputs": [],
   "source": [
    "timerlist0 = [3,4,3,1,2]\n",
    "\n",
    "with open(\"data/input06.txt\") as f:\n",
    "    timerlist = [ int(t) for t in f.readlines()[0].split(\",\") ]"
   ]
  },
  {
   "cell_type": "markdown",
   "id": "scheduled-bangkok",
   "metadata": {},
   "source": [
    "### Part 1"
   ]
  },
  {
   "cell_type": "code",
   "execution_count": 83,
   "id": "impaired-impact",
   "metadata": {},
   "outputs": [],
   "source": [
    "class LanternFish:\n",
    "    def __init__(self,timer=6):\n",
    "        self.timer = timer\n",
    "    def timePass(self):\n",
    "        self.timer -= 1\n",
    "        if self.timer <0:\n",
    "            self.timer =  6\n",
    "            return LanternFish(8)\n",
    "        else:\n",
    "            return None"
   ]
  },
  {
   "cell_type": "code",
   "execution_count": 84,
   "id": "underlying-words",
   "metadata": {},
   "outputs": [],
   "source": [
    "def solve6Slow(timerlist,days=18,verbose=True):\n",
    "    fishes = [ LanternFish(t) for t in timerlist ]\n",
    "    for d in range(days):\n",
    "        for f in list(fishes):\n",
    "            spawn = f.timePass()\n",
    "            if spawn:\n",
    "                fishes.append(spawn)\n",
    "        if verbose:\n",
    "            print(\"After {:3d} days: \".format(d+1),end=\"\")\n",
    "            for f in fishes:\n",
    "                print(f.timer,end=\" \")\n",
    "            print()\n",
    "    return len(fishes)"
   ]
  },
  {
   "cell_type": "code",
   "execution_count": 85,
   "id": "stable-greene",
   "metadata": {},
   "outputs": [
    {
     "name": "stdout",
     "output_type": "stream",
     "text": [
      "After   1 days: 2 3 2 0 1 \n",
      "After   2 days: 1 2 1 6 0 8 \n",
      "After   3 days: 0 1 0 5 6 7 8 \n",
      "After   4 days: 6 0 6 4 5 6 7 8 8 \n",
      "After   5 days: 5 6 5 3 4 5 6 7 7 8 \n",
      "After   6 days: 4 5 4 2 3 4 5 6 6 7 \n",
      "After   7 days: 3 4 3 1 2 3 4 5 5 6 \n",
      "After   8 days: 2 3 2 0 1 2 3 4 4 5 \n",
      "After   9 days: 1 2 1 6 0 1 2 3 3 4 8 \n",
      "After  10 days: 0 1 0 5 6 0 1 2 2 3 7 8 \n",
      "After  11 days: 6 0 6 4 5 6 0 1 1 2 6 7 8 8 8 \n",
      "After  12 days: 5 6 5 3 4 5 6 0 0 1 5 6 7 7 7 8 8 \n",
      "After  13 days: 4 5 4 2 3 4 5 6 6 0 4 5 6 6 6 7 7 8 8 \n",
      "After  14 days: 3 4 3 1 2 3 4 5 5 6 3 4 5 5 5 6 6 7 7 8 \n",
      "After  15 days: 2 3 2 0 1 2 3 4 4 5 2 3 4 4 4 5 5 6 6 7 \n",
      "After  16 days: 1 2 1 6 0 1 2 3 3 4 1 2 3 3 3 4 4 5 5 6 8 \n",
      "After  17 days: 0 1 0 5 6 0 1 2 2 3 0 1 2 2 2 3 3 4 4 5 7 8 \n",
      "After  18 days: 6 0 6 4 5 6 0 1 1 2 6 0 1 1 1 2 2 3 3 4 6 7 8 8 8 8 \n"
     ]
    },
    {
     "data": {
      "text/plain": [
       "26"
      ]
     },
     "execution_count": 85,
     "metadata": {},
     "output_type": "execute_result"
    }
   ],
   "source": [
    "solve6Slow(timerlist0,days=18,verbose=True)"
   ]
  },
  {
   "cell_type": "code",
   "execution_count": 86,
   "id": "seven-virtue",
   "metadata": {},
   "outputs": [
    {
     "data": {
      "text/plain": [
       "5934"
      ]
     },
     "execution_count": 86,
     "metadata": {},
     "output_type": "execute_result"
    }
   ],
   "source": [
    "solve6Slow(timerlist0,days=80,verbose=False)"
   ]
  },
  {
   "cell_type": "code",
   "execution_count": 87,
   "id": "north-prophet",
   "metadata": {},
   "outputs": [
    {
     "data": {
      "text/plain": [
       "394994"
      ]
     },
     "execution_count": 87,
     "metadata": {},
     "output_type": "execute_result"
    }
   ],
   "source": [
    "solve6Slow(timerlist,days=80,verbose=False)"
   ]
  },
  {
   "cell_type": "markdown",
   "id": "olympic-advocacy",
   "metadata": {},
   "source": [
    "### Part 2"
   ]
  },
  {
   "cell_type": "code",
   "execution_count": 88,
   "id": "steady-slope",
   "metadata": {},
   "outputs": [],
   "source": [
    "from collections import defaultdict\n",
    "\n",
    "def solve6Fast(timerlist,days=80):\n",
    "    fishPop = defaultdict(lambda: 0)\n",
    "    for t in timerlist:\n",
    "        fishPop[t] += 1\n",
    "    for d in range(days):\n",
    "        fishPopNew = defaultdict(lambda: 0)\n",
    "        for f in fishPop.keys():\n",
    "            thisFish = LanternFish(f)\n",
    "            spawn = thisFish.timePass()\n",
    "            fishPopNew[thisFish.timer] += fishPop[f]\n",
    "            if spawn:\n",
    "                fishPopNew[spawn.timer] += fishPop[f]\n",
    "        fishPop = fishPopNew\n",
    "    return sum([ fishPop[f] for f in fishPop.keys() ])"
   ]
  },
  {
   "cell_type": "code",
   "execution_count": 91,
   "id": "dedicated-squad",
   "metadata": {},
   "outputs": [
    {
     "data": {
      "text/plain": [
       "26984457539"
      ]
     },
     "execution_count": 91,
     "metadata": {},
     "output_type": "execute_result"
    }
   ],
   "source": [
    "solve6Fast(timerlist0,256)"
   ]
  },
  {
   "cell_type": "code",
   "execution_count": 92,
   "id": "cubic-average",
   "metadata": {},
   "outputs": [
    {
     "data": {
      "text/plain": [
       "1765974267455"
      ]
     },
     "execution_count": 92,
     "metadata": {},
     "output_type": "execute_result"
    }
   ],
   "source": [
    "solve6Fast(timerlist,256)"
   ]
  },
  {
   "cell_type": "code",
   "execution_count": null,
   "id": "lesbian-treasury",
   "metadata": {},
   "outputs": [],
   "source": []
  }
 ],
 "metadata": {
  "kernelspec": {
   "display_name": "Python 3",
   "language": "python",
   "name": "python3"
  },
  "language_info": {
   "codemirror_mode": {
    "name": "ipython",
    "version": 3
   },
   "file_extension": ".py",
   "mimetype": "text/x-python",
   "name": "python",
   "nbconvert_exporter": "python",
   "pygments_lexer": "ipython3",
   "version": "3.9.9"
  }
 },
 "nbformat": 4,
 "nbformat_minor": 5
}
