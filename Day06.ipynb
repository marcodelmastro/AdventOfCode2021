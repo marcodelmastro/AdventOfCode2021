{
 "cells": [
  {
   "cell_type": "markdown",
   "id": "alpine-drinking",
   "metadata": {},
   "source": [
    "## Day 6\n",
    "\n",
    "https://adventofcode.com/2021/day/6"
   ]
  },
  {
   "cell_type": "code",
   "execution_count": 1,
   "id": "narrative-personal",
   "metadata": {},
   "outputs": [],
   "source": [
    "timerlist0 = [3,4,3,1,2]\n",
    "\n",
    "with open(\"data/input06.txt\") as f:\n",
    "    timerlist = [ int(t) for t in f.readlines()[0].split(\",\") ]"
   ]
  },
  {
   "cell_type": "markdown",
   "id": "economic-chemical",
   "metadata": {},
   "source": [
    "### Fast solution of both Part 1 and Part 2\n",
    "\n",
    "There is no real need of `LanternFish` class as in my first attempt (see below), fish timer counts can be simply handled in an array! "
   ]
  },
  {
   "cell_type": "code",
   "execution_count": 2,
   "id": "third-exclusive",
   "metadata": {},
   "outputs": [
    {
     "name": "stdout",
     "output_type": "stream",
     "text": [
      "Test 1: 5934\n",
      "Part 1: 394994\n",
      "Test 2: 26984457539\n",
      "Part 2: 1765974267455\n",
      "Part 2 time: 0.0018301010131835938 s\n"
     ]
    }
   ],
   "source": [
    "import time\n",
    "\n",
    "def solve6Simple(timerlist,days):\n",
    "    timers = [0]*9\n",
    "    for f in timerlist:\n",
    "        timers[f] += 1\n",
    "    for d in range(days):\n",
    "        newtimers = timers[1:]+[timers[0]] # shift all counts to the left (e.g. decrease timers) + add offspring\n",
    "        newtimers[6] += timers[0] # reset timers for fish at end of cycle\n",
    "        timers = newtimers # rinse and repeat\n",
    "    return(sum(timers))\n",
    "\n",
    "start_time = time.time()\n",
    "print(\"Test 1:\",solve6Simple(timerlist0,80))\n",
    "print(\"Part 1:\",solve6Simple(timerlist,80))\n",
    "print(\"Test 2:\",solve6Simple(timerlist0,256))\n",
    "print(\"Part 2:\",solve6Simple(timerlist,256))\n",
    "print(\"Part 2 time: %s s\" % (time.time() - start_time))"
   ]
  },
  {
   "cell_type": "markdown",
   "id": "christian-natural",
   "metadata": {},
   "source": [
    "### Solution with linear algebra"
   ]
  },
  {
   "cell_type": "code",
   "execution_count": 16,
   "id": "unexpected-april",
   "metadata": {},
   "outputs": [
    {
     "name": "stdout",
     "output_type": "stream",
     "text": [
      "Test 1: 5934\n",
      "Part 1: 394994\n",
      "Test 2: 26984457539\n",
      "Part 2: 1765974267455\n",
      "Part 2 time: 0.0003409385681152344 s\n"
     ]
    }
   ],
   "source": [
    "import numpy as np\n",
    "\n",
    "# one matrix multiplication shift vector elements to the left, \n",
    "# plus add values at 0 in position 6. e.g. e day fish population evolution\n",
    "\n",
    "dayiter = np.array([[0,1,0,0,0,0,0,0,0],\n",
    "                    [0,0,1,0,0,0,0,0,0],\n",
    "                    [0,0,0,1,0,0,0,0,0],\n",
    "                    [0,0,0,0,1,0,0,0,0],\n",
    "                    [0,0,0,0,0,1,0,0,0],\n",
    "                    [0,0,0,0,0,0,1,0,0],\n",
    "                    [1,0,0,0,0,0,0,1,0], # also add values at 0 to counter 6\n",
    "                    [0,0,0,0,0,0,0,0,1],\n",
    "                    [1,0,0,0,0,0,0,0,0]])\n",
    "\n",
    "def solve6Matrix(timerlist,days):\n",
    "    timers = np.array([0]*9)\n",
    "    for f in timerlist:\n",
    "        timers[f] += 1\n",
    "    # instead of n_days matrix multiplications, use matrix power\n",
    "    return sum(np.matmul(np.linalg.matrix_power(dayiter,days),timers))\n",
    "\n",
    "print(\"Test 1:\",solve6Matrix(timerlist0,80))\n",
    "print(\"Part 1:\",solve6Matrix(timerlist,80))\n",
    "print(\"Test 2:\",solve6Matrix(timerlist0,256))\n",
    "start_time = time.time()\n",
    "print(\"Part 2:\",solve6Matrix(timerlist,256))\n",
    "print(\"Part 2 time: %s s\" % (time.time() - start_time))"
   ]
  },
  {
   "cell_type": "markdown",
   "id": "scheduled-bangkok",
   "metadata": {},
   "source": [
    "### Part 1 initial solution\n",
    "\n",
    "First attempt using a class, iterating on all population (class is overkill, procedure not very efficient!)"
   ]
  },
  {
   "cell_type": "code",
   "execution_count": 4,
   "id": "impaired-impact",
   "metadata": {},
   "outputs": [],
   "source": [
    "class LanternFish:\n",
    "    def __init__(self,timer=6):\n",
    "        self.timer = timer\n",
    "    def timePass(self):\n",
    "        self.timer -= 1\n",
    "        if self.timer <0:\n",
    "            self.timer = 6\n",
    "            return LanternFish(8)\n",
    "        else:\n",
    "            return None"
   ]
  },
  {
   "cell_type": "code",
   "execution_count": 5,
   "id": "underlying-words",
   "metadata": {},
   "outputs": [],
   "source": [
    "import inflect\n",
    "p = inflect.engine()\n",
    "\n",
    "def solve6Slow(timerlist,days=18,verbose=True):\n",
    "    fishes = [ LanternFish(t) for t in timerlist ]\n",
    "    for d in range(days):\n",
    "        for f in list(fishes):\n",
    "            spawn = f.timePass()\n",
    "            if spawn:\n",
    "                fishes.append(spawn)\n",
    "        if verbose:\n",
    "            print(\"After {:3d} {:4s} : \".format(d+1,p.plural(\"day\") if d+1>1 else \"day\"),end=\"\")\n",
    "            for f in fishes:\n",
    "                print(f.timer,end=\" \")\n",
    "            print()\n",
    "    return len(fishes)"
   ]
  },
  {
   "cell_type": "code",
   "execution_count": 6,
   "id": "stable-greene",
   "metadata": {},
   "outputs": [
    {
     "name": "stdout",
     "output_type": "stream",
     "text": [
      "After   1 day  : 2 3 2 0 1 \n",
      "After   2 days : 1 2 1 6 0 8 \n",
      "After   3 days : 0 1 0 5 6 7 8 \n",
      "After   4 days : 6 0 6 4 5 6 7 8 8 \n",
      "After   5 days : 5 6 5 3 4 5 6 7 7 8 \n",
      "After   6 days : 4 5 4 2 3 4 5 6 6 7 \n",
      "After   7 days : 3 4 3 1 2 3 4 5 5 6 \n",
      "After   8 days : 2 3 2 0 1 2 3 4 4 5 \n",
      "After   9 days : 1 2 1 6 0 1 2 3 3 4 8 \n",
      "After  10 days : 0 1 0 5 6 0 1 2 2 3 7 8 \n",
      "After  11 days : 6 0 6 4 5 6 0 1 1 2 6 7 8 8 8 \n",
      "After  12 days : 5 6 5 3 4 5 6 0 0 1 5 6 7 7 7 8 8 \n",
      "After  13 days : 4 5 4 2 3 4 5 6 6 0 4 5 6 6 6 7 7 8 8 \n",
      "After  14 days : 3 4 3 1 2 3 4 5 5 6 3 4 5 5 5 6 6 7 7 8 \n",
      "After  15 days : 2 3 2 0 1 2 3 4 4 5 2 3 4 4 4 5 5 6 6 7 \n",
      "After  16 days : 1 2 1 6 0 1 2 3 3 4 1 2 3 3 3 4 4 5 5 6 8 \n",
      "After  17 days : 0 1 0 5 6 0 1 2 2 3 0 1 2 2 2 3 3 4 4 5 7 8 \n",
      "After  18 days : 6 0 6 4 5 6 0 1 1 2 6 0 1 1 1 2 2 3 3 4 6 7 8 8 8 8 \n"
     ]
    },
    {
     "data": {
      "text/plain": [
       "26"
      ]
     },
     "execution_count": 6,
     "metadata": {},
     "output_type": "execute_result"
    }
   ],
   "source": [
    "solve6Slow(timerlist0,days=18,verbose=True)"
   ]
  },
  {
   "cell_type": "code",
   "execution_count": 7,
   "id": "seven-virtue",
   "metadata": {},
   "outputs": [
    {
     "data": {
      "text/plain": [
       "5934"
      ]
     },
     "execution_count": 7,
     "metadata": {},
     "output_type": "execute_result"
    }
   ],
   "source": [
    "solve6Slow(timerlist0,days=80,verbose=False)"
   ]
  },
  {
   "cell_type": "code",
   "execution_count": 8,
   "id": "north-prophet",
   "metadata": {},
   "outputs": [
    {
     "data": {
      "text/plain": [
       "394994"
      ]
     },
     "execution_count": 8,
     "metadata": {},
     "output_type": "execute_result"
    }
   ],
   "source": [
    "solve6Slow(timerlist,days=80,verbose=False)"
   ]
  },
  {
   "cell_type": "markdown",
   "id": "olympic-advocacy",
   "metadata": {},
   "source": [
    "### Part 2 initial solution\n",
    "\n",
    "Storing fish population information in a dictionary to avoid exponential growth..."
   ]
  },
  {
   "cell_type": "code",
   "execution_count": 9,
   "id": "steady-slope",
   "metadata": {},
   "outputs": [],
   "source": [
    "from collections import defaultdict\n",
    "\n",
    "def solve6Fast(timerlist,days=80):\n",
    "    fishPop = defaultdict(lambda: 0)\n",
    "    for t in timerlist:\n",
    "        fishPop[t] += 1\n",
    "    for d in range(days):\n",
    "        fishPopNew = defaultdict(lambda: 0)\n",
    "        for f in fishPop.keys():\n",
    "            thisFish = LanternFish(f)\n",
    "            spawn = thisFish.timePass()\n",
    "            fishPopNew[thisFish.timer] += fishPop[f]\n",
    "            if spawn:\n",
    "                fishPopNew[spawn.timer] += fishPop[f]\n",
    "        fishPop = fishPopNew\n",
    "    return sum([ fishPop[f] for f in fishPop.keys() ])"
   ]
  },
  {
   "cell_type": "code",
   "execution_count": 10,
   "id": "cubic-average",
   "metadata": {},
   "outputs": [
    {
     "name": "stdout",
     "output_type": "stream",
     "text": [
      "Test 2: 26984457539\n",
      "Part 2: 1765974267455\n",
      "Part 2 time: 0.002980947494506836 s\n"
     ]
    }
   ],
   "source": [
    "print(\"Test 2:\",solve6Fast(timerlist0,256))\n",
    "start_time = time.time()\n",
    "print(\"Part 2:\",solve6Fast(timerlist,256))\n",
    "print(\"Part 2 time: %s s\" % (time.time() - start_time))"
   ]
  },
  {
   "cell_type": "code",
   "execution_count": null,
   "id": "ethical-hughes",
   "metadata": {},
   "outputs": [],
   "source": []
  }
 ],
 "metadata": {
  "kernelspec": {
   "display_name": "Python 3",
   "language": "python",
   "name": "python3"
  },
  "language_info": {
   "codemirror_mode": {
    "name": "ipython",
    "version": 3
   },
   "file_extension": ".py",
   "mimetype": "text/x-python",
   "name": "python",
   "nbconvert_exporter": "python",
   "pygments_lexer": "ipython3",
   "version": "3.9.9"
  }
 },
 "nbformat": 4,
 "nbformat_minor": 5
}
