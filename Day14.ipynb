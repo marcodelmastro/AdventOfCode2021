{
 "cells": [
  {
   "cell_type": "markdown",
   "id": "medical-gathering",
   "metadata": {},
   "source": [
    "## Day 14\n",
    "\n",
    "https://adventofcode.com/2021/day/14"
   ]
  },
  {
   "cell_type": "code",
   "execution_count": 1,
   "id": "marked-garbage",
   "metadata": {},
   "outputs": [],
   "source": [
    "def readInput14(filename):\n",
    "    with open(filename) as f:\n",
    "        t = f.read().split(\"\\n\\n\")\n",
    "        rules = {}\n",
    "        for r in t[1].strip('\\n').split(\"\\n\"):\n",
    "            rr = r.split(\" -> \")\n",
    "            rules[rr[0]] = rr[1]\n",
    "        return t[0], rules\n",
    "\n",
    "template0, rules0 = readInput14(\"./data/day14test1.txt\")\n",
    "template , rules  = readInput14(\"./data/input14.txt\")"
   ]
  },
  {
   "cell_type": "markdown",
   "id": "surface-radical",
   "metadata": {},
   "source": [
    "### Part 1"
   ]
  },
  {
   "cell_type": "code",
   "execution_count": 2,
   "id": "behind-flood",
   "metadata": {},
   "outputs": [],
   "source": [
    "def stepString(tt_,rules):\n",
    "    tt = list(tt_)\n",
    "    return \"\".join(step(tt,rules))\n",
    "\n",
    "def step(tt,rules):\n",
    "    ttnew = [ tt[0] ]\n",
    "    for i in range(len(tt)-1):\n",
    "        pair = tt[i]+tt[i+1]\n",
    "        if pair in rules.keys():\n",
    "            ttnew.append(rules[pair])\n",
    "        ttnew.append(tt[i+1])\n",
    "    return(ttnew)\n",
    "\n",
    "def evolve(template,rules,nstep,verbose=True):\n",
    "    if verbose:\n",
    "        print(\"Template:    \",template)\n",
    "    tt = list(template)\n",
    "    for i in range(nstep):\n",
    "        tt = step(tt,rules)\n",
    "        if verbose:\n",
    "            print(\"After step {}: {}\".format(i+1,\"\".join(tt)))\n",
    "    return tt"
   ]
  },
  {
   "cell_type": "code",
   "execution_count": 3,
   "id": "played-magnet",
   "metadata": {},
   "outputs": [
    {
     "name": "stdout",
     "output_type": "stream",
     "text": [
      "Template:     NNCB\n",
      "After step 1: NCNBCHB\n",
      "After step 2: NBCCNBBBCBHCB\n",
      "After step 3: NBBBCNCCNBBNBNBBCHBHHBCHB\n",
      "After step 4: NBBNBNBBCCNBCNCCNBBNBBNBBBNBBNBBCBHCBHHNHCBBCBHCB\n",
      "Test 1: 1588\n"
     ]
    }
   ],
   "source": [
    "evolve(template0,rules0,nstep=4,verbose=True)\n",
    "\n",
    "from collections import Counter\n",
    "\n",
    "ttlast0 = evolve(template0,rules0,nstep=10,verbose=False)\n",
    "count0 = Counter(ttlast0)\n",
    "print(\"Test 1:\",max(count0.values())-min(count0.values()))"
   ]
  },
  {
   "cell_type": "code",
   "execution_count": 4,
   "id": "actual-pennsylvania",
   "metadata": {},
   "outputs": [
    {
     "name": "stdout",
     "output_type": "stream",
     "text": [
      "2003\n"
     ]
    }
   ],
   "source": [
    "ttlast = evolve(template,rules,nstep=10,verbose=False)\n",
    "count = Counter(ttlast)\n",
    "print(max(count.values())-min(count.values()))"
   ]
  },
  {
   "cell_type": "markdown",
   "id": "dress-symposium",
   "metadata": {},
   "source": [
    "### Polymer as a Linked List"
   ]
  },
  {
   "cell_type": "code",
   "execution_count": 5,
   "id": "reasonable-pacific",
   "metadata": {},
   "outputs": [],
   "source": [
    "class Node:\n",
    "    def __init__(self, data):\n",
    "        self.data = data\n",
    "        self.next = None\n",
    "\n",
    "    def __repr__(self):\n",
    "        return self.data\n",
    "\n",
    "class LinkedList:\n",
    "    def __init__(self, nodes=None):\n",
    "        self.head = None\n",
    "        self.tail = None\n",
    "        if nodes is not None:\n",
    "            data=nodes.pop(0)\n",
    "            node = Node(data)\n",
    "            self.head = node\n",
    "            for elem in nodes:\n",
    "                node.next = Node(data=elem)\n",
    "                node = node.next\n",
    "            self.tail = node\n",
    "\n",
    "    def __repr__(self):\n",
    "        node = self.head\n",
    "        nodes = []\n",
    "        while node is not None:\n",
    "            nodes.append(node.data)\n",
    "            node = node.next\n",
    "        return \"\".join(nodes)\n",
    "    \n",
    "    def __iter__(self):\n",
    "        node = self.head\n",
    "        while node is not None:\n",
    "            yield node\n",
    "            node = node.next"
   ]
  },
  {
   "cell_type": "code",
   "execution_count": 6,
   "id": "reported-development",
   "metadata": {},
   "outputs": [],
   "source": [
    "def stepLinked(polymer,rules):\n",
    "    p = polymer.head\n",
    "    while p.next:\n",
    "        last = p.next\n",
    "        pair = p.data+last.data\n",
    "        if pair in rules.keys():\n",
    "            insert = Node(rules[pair])\n",
    "            insert.next = p.next\n",
    "            p.next = insert\n",
    "        p = last \n",
    "\n",
    "def evolveLinked(template,rules,nstep,verbose=True):\n",
    "    if verbose:\n",
    "        print(\"Template:    \",template)\n",
    "    polymer = LinkedList(list(template))\n",
    "    for i in range(nstep):\n",
    "        stepLinked(polymer,rules)\n",
    "        if verbose:\n",
    "            print(\"After step {}: {}\".format(i+1,polymer))\n",
    "    return polymer\n",
    "\n",
    "from collections import defaultdict\n",
    "\n",
    "def countElement(polymer):\n",
    "    counter = defaultdict(lambda: 0)\n",
    "    for p in polymer:\n",
    "        counter[p.data] += 1\n",
    "    return counter"
   ]
  },
  {
   "cell_type": "code",
   "execution_count": 7,
   "id": "atlantic-jewelry",
   "metadata": {},
   "outputs": [
    {
     "name": "stdout",
     "output_type": "stream",
     "text": [
      "Template:     NNCB\n",
      "After step 1: NCNBCHB\n",
      "After step 2: NBCCNBBBCBHCB\n",
      "After step 3: NBBBCNCCNBBNBNBBCHBHHBCHB\n",
      "After step 4: NBBNBNBBCCNBCNCCNBBNBBNBBBNBBNBBCBHCBHHNHCBBCBHCB\n"
     ]
    }
   ],
   "source": [
    "polymer_final0 = evolveLinked(template0,rules0,nstep=4)"
   ]
  },
  {
   "cell_type": "code",
   "execution_count": 8,
   "id": "constant-register",
   "metadata": {},
   "outputs": [
    {
     "name": "stdout",
     "output_type": "stream",
     "text": [
      "Test 1: 1588\n"
     ]
    }
   ],
   "source": [
    "polymer_final0 = evolveLinked(template0,rules0,nstep=10,verbose=False)\n",
    "c = countElement(polymer_final0)\n",
    "print(\"Test 1:\",max(c.values())-min(c.values()))"
   ]
  },
  {
   "cell_type": "code",
   "execution_count": 9,
   "id": "unnecessary-sample",
   "metadata": {},
   "outputs": [
    {
     "name": "stdout",
     "output_type": "stream",
     "text": [
      "Part 1: 2003\n"
     ]
    }
   ],
   "source": [
    "polymer_final = evolveLinked(template,rules,nstep=10,verbose=False)\n",
    "c = countElement(polymer_final)\n",
    "print(\"Part 1:\",max(c.values())-min(c.values()))"
   ]
  },
  {
   "cell_type": "markdown",
   "id": "virgin-pound",
   "metadata": {},
   "source": [
    "### Part 2\n",
    "\n",
    "Similarly to Day 6, better keep track of the polymer and polymer pair frequencies instead of evolving the full string, since its lenght increases exponentially!"
   ]
  },
  {
   "cell_type": "code",
   "execution_count": 10,
   "id": "lesser-approval",
   "metadata": {},
   "outputs": [],
   "source": [
    "from collections import defaultdict\n",
    "\n",
    "def evolveQuick(template,rules,nsteps):\n",
    "    # Count polymers in template\n",
    "    freqs = defaultdict(int)\n",
    "    for p in template:\n",
    "        freqs[p] += 1\n",
    "\n",
    "    # Count polymer pairs in template\n",
    "    pairs = defaultdict(int)    \n",
    "    for i in range(len(template)-1):\n",
    "        pairs[template[i:i+2]] += 1\n",
    "\n",
    "    # Evolve and track pairs and letter frequencies\n",
    "    for n in range(nsteps):\n",
    "        pairsnew = defaultdict(int)\n",
    "        for p in pairs.keys():\n",
    "            # new pairs from polymer insertion\n",
    "            p1 = p[0]+rules[p]\n",
    "            p2 = rules[p]+p[1]\n",
    "            pairsnew[p1] += pairs[p]\n",
    "            pairsnew[p2] += pairs[p]\n",
    "            # add letter from polymer insertion\n",
    "            freqs[rules[p]] += pairs[p]\n",
    "        pairs = pairsnew\n",
    "\n",
    "    return freqs"
   ]
  },
  {
   "cell_type": "code",
   "execution_count": 11,
   "id": "sticky-government",
   "metadata": {},
   "outputs": [
    {
     "name": "stdout",
     "output_type": "stream",
     "text": [
      "Test 1: 1588\n",
      "Part 1: 2003\n"
     ]
    }
   ],
   "source": [
    "freqs0 = evolveQuick(template0,rules0,nsteps=10)\n",
    "print(\"Test 1:\",max(freqs0.values())-min(freqs0.values()))\n",
    "\n",
    "freqs = evolveQuick(template,rules,nsteps=10)\n",
    "print(\"Part 1:\",max(freqs.values())-min(freqs.values()))"
   ]
  },
  {
   "cell_type": "code",
   "execution_count": 12,
   "id": "rolled-violation",
   "metadata": {},
   "outputs": [
    {
     "name": "stdout",
     "output_type": "stream",
     "text": [
      "Test 2: 2188189693529\n",
      "Part 2: 2276644000111\n"
     ]
    }
   ],
   "source": [
    "freqs0 = evolveQuick(template0,rules0,nsteps=40)\n",
    "print(\"Test 2:\",max(freqs0.values())-min(freqs0.values()))\n",
    "\n",
    "freqs = evolveQuick(template,rules,nsteps=40)\n",
    "print(\"Part 2:\",max(freqs.values())-min(freqs.values()))"
   ]
  },
  {
   "cell_type": "code",
   "execution_count": null,
   "id": "saved-typing",
   "metadata": {},
   "outputs": [],
   "source": []
  }
 ],
 "metadata": {
  "kernelspec": {
   "display_name": "Python 3",
   "language": "python",
   "name": "python3"
  },
  "language_info": {
   "codemirror_mode": {
    "name": "ipython",
    "version": 3
   },
   "file_extension": ".py",
   "mimetype": "text/x-python",
   "name": "python",
   "nbconvert_exporter": "python",
   "pygments_lexer": "ipython3",
   "version": "3.9.9"
  }
 },
 "nbformat": 4,
 "nbformat_minor": 5
}
