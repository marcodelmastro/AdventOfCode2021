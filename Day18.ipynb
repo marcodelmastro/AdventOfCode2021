{
 "cells": [
  {
   "cell_type": "markdown",
   "id": "advisory-minute",
   "metadata": {},
   "source": [
    "## Day 18\n",
    "\n",
    "https://adventofcode.com/2021/day/18"
   ]
  },
  {
   "cell_type": "code",
   "execution_count": 435,
   "id": "normal-internship",
   "metadata": {},
   "outputs": [],
   "source": [
    "def readInput18(filename): \n",
    "    with open(filename) as f:\n",
    "        return [ l.strip('\\n') for l in f.readlines() ]\n",
    "\n",
    "N1 = readInput18(\"data/day18test1.txt\")\n",
    "N2 = readInput18(\"data/day18test2.txt\")\n",
    "N = readInput18(\"data/input18.txt\")"
   ]
  },
  {
   "cell_type": "code",
   "execution_count": 399,
   "id": "varying-sheep",
   "metadata": {},
   "outputs": [],
   "source": [
    "from math import floor, ceil\n",
    "\n",
    "def stringToNumber(s):\n",
    "    # transform string in list of characters or numbers\n",
    "    return [int(c) if c.isnumeric() else c for c in s]\n",
    "\n",
    "def numberToString(n):\n",
    "    # merge snail number to string for printing\n",
    "    return \"\".join([str(c) for c in n])\n",
    "\n",
    "def firstIntIndex(number):\n",
    "    for i,e in enumerate(number):\n",
    "        if isinstance(e, int):\n",
    "            return i\n",
    "    return None\n",
    "\n",
    "def explodeNumber(number, i, verbose=False):\n",
    "    # get the values in the pair\n",
    "    pair = [number[i + 1], number[i+3]] # skip comma\n",
    "    # search for the closest integers left and right, if any\n",
    "    il, ir = firstIntIndex(number[i::-1]), firstIntIndex(number[i+4:])\n",
    "    # if regular numbers found, add pair values\n",
    "    if il:\n",
    "        number[i-il] += pair[0]\n",
    "    if ir:\n",
    "        number[i+4+ir] += pair[1] # don't forget comma!\n",
    "    # replaced entire exploding pair with 0\n",
    "    number[i:i+5] = [0]\n",
    "    return number\n",
    "\n",
    "def splitValue(i):\n",
    "    return [ '[', floor(i/2), ',', ceil(i/2) , ']' ] \n",
    "\n",
    "def splitNumber(number,i):\n",
    "    number[i:i+1] = splitValue(number[i])\n",
    "    return number\n",
    "\n",
    "def sumReduceNumbers(a,b):\n",
    "    if a!=\"\":\n",
    "        s = '['+a+','+b+']'\n",
    "        n = stringToNumber(s)\n",
    "        nr = reduceNumber(n)\n",
    "        sr = numberToString(nr)\n",
    "        return sr\n",
    "    else:\n",
    "        return b\n",
    "\n",
    "def reduceNumber(number,iterateReduce=True,verbose=False):\n",
    "    # Explode\n",
    "    depth = 0\n",
    "    for i, e in enumerate(number):\n",
    "        # i = index of element in number string\n",
    "        # e = string element\n",
    "        if isinstance(e, str):\n",
    "            # count nesting depth from left\n",
    "            if e == '[':\n",
    "                depth += 1\n",
    "            elif e == ']':\n",
    "                depth -= 1\n",
    "            if depth > 4:\n",
    "                # pair is nested inside four pairs, needs exploding\n",
    "                number = explodeNumber(number, i)\n",
    "                if verbose:\n",
    "                    print(numberToString(number))\n",
    "                # try to explode again recursively if needed\n",
    "                if iterateReduce:\n",
    "                    number = reduceNumber(number,iterateReduce,verbose)\n",
    "                break\n",
    "\n",
    "    # Split\n",
    "    for i, e in enumerate(number):\n",
    "        if isinstance(e, int):\n",
    "            if e>=10:\n",
    "                number = splitNumber(number,i)\n",
    "                if verbose:\n",
    "                    print(numberToString(number))\n",
    "                # try to split again recursively if needed\n",
    "                if iterateReduce:\n",
    "                    number = reduceNumber(number,iterateReduce,verbose)\n",
    "    if verbose:\n",
    "        print(numberToString(n))\n",
    "    return number"
   ]
  },
  {
   "cell_type": "code",
   "execution_count": 400,
   "id": "optical-scientist",
   "metadata": {},
   "outputs": [
    {
     "name": "stdout",
     "output_type": "stream",
     "text": [
      "[[[[[9,8],1],2],3],4]  -->  [[[[0,9],2],3],4]\n",
      "[7,[6,[5,[4,[3,2]]]]]  -->  [7,[6,[5,[7,0]]]]\n",
      "[[6,[5,[4,[3,2]]]],1]  -->  [[6,[5,[7,0]]],3]\n",
      "[[3,[2,[1,[7,3]]]],[6,[5,[4,[3,2]]]]]  -->  [[3,[2,[8,0]]],[9,[5,[4,[3,2]]]]]\n",
      "[[3,[2,[8,0]]],[9,[5,[4,[3,2]]]]]  -->  [[3,[2,[8,0]]],[9,[5,[7,0]]]]\n"
     ]
    }
   ],
   "source": [
    "def testExplode(s):\n",
    "    n = stringToNumber(s)\n",
    "    n = reduceNumber(n,iterateReduce=False)\n",
    "    sr = numberToString(n)\n",
    "    print(s,\" --> \",sr)\n",
    "    \n",
    "testExplode(\"[[[[[9,8],1],2],3],4]\") # [[[[0,9],2],3],4]\n",
    "testExplode(\"[7,[6,[5,[4,[3,2]]]]]\") # [7,[6,[5,[7,0]]]]\n",
    "testExplode(\"[[6,[5,[4,[3,2]]]],1]\") # [[6,[5,[7,0]]],3]\n",
    "testExplode(\"[[3,[2,[1,[7,3]]]],[6,[5,[4,[3,2]]]]]\") # [[3,[2,[8,0]]],[9,[5,[4,[3,2]]]]]\n",
    "testExplode(\"[[3,[2,[8,0]]],[9,[5,[4,[3,2]]]]]\") # [[3,[2,[8,0]]],[9,[5,[7,0]]]]."
   ]
  },
  {
   "cell_type": "code",
   "execution_count": 436,
   "id": "prerequisite-quality",
   "metadata": {},
   "outputs": [
    {
     "name": "stdout",
     "output_type": "stream",
     "text": [
      "[[[[[4,3],4],4],[7,[[8,4],9]]],[1,1]]\n",
      "[[[[0,7],4],[7,[[8,4],9]]],[1,1]]\n",
      "[[[[0,7],4],[7,[[8,4],9]]],[1,1]]\n",
      "[[[[0,7],4],[15,[0,13]]],[1,1]]\n",
      "[[[[0,7],4],[[7,8],[0,13]]],[1,1]]\n",
      "[[[[0,7],4],[[7,8],[0,[6,7]]]],[1,1]]\n",
      "[[[[0,7],4],[[7,8],[0,[6,7]]]],[1,1]]\n",
      "[[[[0,7],4],[[7,8],[6,0]]],[8,1]]\n",
      "[[[[0,7],4],[[7,8],[6,0]]],[8,1]]\n"
     ]
    }
   ],
   "source": [
    "s = \"[[[[[4,3],4],4],[7,[[8,4],9]]],[1,1]]\" # -> [[[[0,7],4],[[7,8],[6,0]]],[8,1]]\n",
    "\n",
    "print(s)\n",
    "n = stringToNumber(s)\n",
    "for _ in range(3):\n",
    "    n = reduceNumber(n,iterateReduce=False,verbose=True)"
   ]
  },
  {
   "cell_type": "code",
   "execution_count": 437,
   "id": "following-portland",
   "metadata": {},
   "outputs": [
    {
     "name": "stdout",
     "output_type": "stream",
     "text": [
      "[[[[0,7],4],[[7,8],[6,0]]],[8,1]]\n"
     ]
    }
   ],
   "source": [
    "s = \"[[[[[4,3],4],4],[7,[[8,4],9]]],[1,1]]\" \n",
    "n = stringToNumber(s)\n",
    "nr = reduceNumber(n)\n",
    "sr = numberToString(nr)\n",
    "print(sr)"
   ]
  },
  {
   "cell_type": "code",
   "execution_count": 438,
   "id": "dangerous-apparel",
   "metadata": {},
   "outputs": [
    {
     "data": {
      "text/plain": [
       "'[[[[0,7],4],[[7,8],[6,0]]],[8,1]]'"
      ]
     },
     "execution_count": 438,
     "metadata": {},
     "output_type": "execute_result"
    }
   ],
   "source": [
    "a = \"[[[[4,3],4],4],[7,[[8,4],9]]]\"\n",
    "b = \"[1,1]\"\n",
    "sumReduceNumbers(a,b)"
   ]
  },
  {
   "cell_type": "code",
   "execution_count": 439,
   "id": "public-holder",
   "metadata": {},
   "outputs": [
    {
     "data": {
      "text/plain": [
       "3488"
      ]
     },
     "execution_count": 439,
     "metadata": {},
     "output_type": "execute_result"
    }
   ],
   "source": [
    "def pairMagnitude(p):\n",
    "    # p has always lenght 2, regardless of nesting depth\n",
    "    l,r = p\n",
    "    # if element is a pair, recursively compute value\n",
    "    if not isinstance(l, int):\n",
    "        l = pairMagnitude(l)\n",
    "    if not isinstance(r, int):\n",
    "        r = pairMagnitude(r)\n",
    "    return 3*l+2*r\n",
    "\n",
    "s = \"[[[[8,7],[7,7]],[[8,6],[7,7]]],[[[0,7],[6,6]],[8,7]]]\"\n",
    "p = eval(s)\n",
    "pairMagnitude(p)"
   ]
  },
  {
   "cell_type": "markdown",
   "id": "threatened-classification",
   "metadata": {},
   "source": [
    "### Part 1"
   ]
  },
  {
   "cell_type": "code",
   "execution_count": 433,
   "id": "suspended-bridges",
   "metadata": {},
   "outputs": [],
   "source": [
    "def listSumMagnitude(N):    \n",
    "    s = \"\"\n",
    "    for n in N:\n",
    "        s = sumReduceNumbers(s,n)  \n",
    "    p = eval(s)\n",
    "    return pairMagnitude(p)"
   ]
  },
  {
   "cell_type": "code",
   "execution_count": 434,
   "id": "light-reality",
   "metadata": {},
   "outputs": [
    {
     "name": "stdout",
     "output_type": "stream",
     "text": [
      "Test 1-1: 3488\n",
      "Test 1-2: 4140\n",
      "Part 1:   2501\n"
     ]
    }
   ],
   "source": [
    "print(\"Test 1-1:\",listSumMagnitude(N1))\n",
    "print(\"Test 1-2:\",listSumMagnitude(N2))\n",
    "print(\"Part 1:  \",listSumMagnitude(N))"
   ]
  },
  {
   "cell_type": "markdown",
   "id": "transparent-gambling",
   "metadata": {},
   "source": [
    "### Part 2"
   ]
  },
  {
   "cell_type": "code",
   "execution_count": 431,
   "id": "bridal-compiler",
   "metadata": {},
   "outputs": [],
   "source": [
    "from itertools import permutations\n",
    "\n",
    "def maxSumPairs(N):\n",
    "    sums = []\n",
    "    for p in permutations(N,2):\n",
    "        # sumReduceNumbers is not commutative!\n",
    "        sums.append(pairMagnitude(eval(sumReduceNumbers(p[0],p[1]))))\n",
    "        sums.append(pairMagnitude(eval(sumReduceNumbers(p[1],p[0]))))\n",
    "    return max(sums)"
   ]
  },
  {
   "cell_type": "code",
   "execution_count": 432,
   "id": "palestinian-plain",
   "metadata": {},
   "outputs": [
    {
     "name": "stdout",
     "output_type": "stream",
     "text": [
      "Test 2-1: 3805\n",
      "Test 2-2: 3993\n",
      "Part 2:   4935\n"
     ]
    }
   ],
   "source": [
    "print(\"Test 2-1:\",maxSumPairs(N1))\n",
    "print(\"Test 2-2:\",maxSumPairs(N2))\n",
    "print(\"Part 2:  \",maxSumPairs(N))"
   ]
  },
  {
   "cell_type": "code",
   "execution_count": null,
   "id": "stock-failing",
   "metadata": {},
   "outputs": [],
   "source": []
  }
 ],
 "metadata": {
  "kernelspec": {
   "display_name": "Python 3",
   "language": "python",
   "name": "python3"
  },
  "language_info": {
   "codemirror_mode": {
    "name": "ipython",
    "version": 3
   },
   "file_extension": ".py",
   "mimetype": "text/x-python",
   "name": "python",
   "nbconvert_exporter": "python",
   "pygments_lexer": "ipython3",
   "version": "3.9.9"
  }
 },
 "nbformat": 4,
 "nbformat_minor": 5
}
